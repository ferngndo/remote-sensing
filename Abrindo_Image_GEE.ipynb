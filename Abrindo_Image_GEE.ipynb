{
  "nbformat": 4,
  "nbformat_minor": 0,
  "metadata": {
    "colab": {
      "provenance": [],
      "authorship_tag": "ABX9TyN8E89JTwRoynIq+vSHzukY",
      "include_colab_link": true
    },
    "kernelspec": {
      "name": "python3",
      "display_name": "Python 3"
    },
    "language_info": {
      "name": "python"
    },
    "widgets": {
      "application/vnd.jupyter.widget-state+json": {
        "a538415907b74f09920914e783c2310e": {
          "model_module": "jupyter-leaflet",
          "model_name": "LeafletMapModel",
          "model_module_version": "^0.18",
          "state": {
            "_dom_classes": [],
            "_model_module": "jupyter-leaflet",
            "_model_module_version": "^0.18",
            "_model_name": "LeafletMapModel",
            "_view_count": null,
            "_view_module": "jupyter-leaflet",
            "_view_module_version": "^0.18",
            "_view_name": "LeafletMapView",
            "bottom": 148396,
            "bounce_at_zoom_limits": true,
            "box_zoom": true,
            "center": [
              -22.755302204539007,
              -42.29285576570886
            ],
            "close_popup_on_click": true,
            "controls": [
              "IPY_MODEL_a30bb2f88c4345a2b7bdde3a4f9e213c",
              "IPY_MODEL_25332cb905324b1fa7768be2dd6a7b56",
              "IPY_MODEL_86eeada1106243358b494209f5f06182",
              "IPY_MODEL_e9c528f5d2ed496cb0ef848d39811bb9",
              "IPY_MODEL_b7d8198e7d6d477393777f63ee23f46c",
              "IPY_MODEL_b1e93951e7394db8a8073fb21365edaa",
              "IPY_MODEL_e76cc31202364a44a5a741ebed111707",
              "IPY_MODEL_c19783d569514bc09f2e78737cb87421"
            ],
            "crs": {
              "name": "EPSG3857",
              "custom": false
            },
            "default_style": "IPY_MODEL_4aefd041c9cc4e0987387aa4512bcc57",
            "double_click_zoom": true,
            "dragging": true,
            "dragging_style": "IPY_MODEL_38b5f3cba4ff462d8dfb155c8b309ff7",
            "east": -41.06277465820313,
            "fullscreen": false,
            "inertia": true,
            "inertia_deceleration": 3000,
            "inertia_max_speed": 1500,
            "interpolation": "bilinear",
            "keyboard": true,
            "keyboard_pan_offset": 80,
            "keyboard_zoom_offset": 1,
            "layers": [
              "IPY_MODEL_aca7fa58f63a462a867b5f1d1515fe10",
              "IPY_MODEL_eb95f0781bc142619d63483c2beba962",
              "IPY_MODEL_a802189991da4c88b91fec3c6bed8cb3",
              "IPY_MODEL_66d3ca8920de47a69cc2bba2f0704458",
              "IPY_MODEL_00699c73133d4279815c6f1312ae397d"
            ],
            "layout": "IPY_MODEL_2e4e33b597394fe683141494b1cc8ef2",
            "left": 99379,
            "max_zoom": 24,
            "min_zoom": null,
            "modisdate": "2024-03-18",
            "north": -22.375476015564775,
            "options": [
              "bounce_at_zoom_limits",
              "box_zoom",
              "center",
              "close_popup_on_click",
              "double_click_zoom",
              "dragging",
              "fullscreen",
              "inertia",
              "inertia_deceleration",
              "inertia_max_speed",
              "interpolation",
              "keyboard",
              "keyboard_pan_offset",
              "keyboard_zoom_offset",
              "max_zoom",
              "min_zoom",
              "prefer_canvas",
              "scroll_wheel_zoom",
              "tap",
              "tap_tolerance",
              "touch_zoom",
              "world_copy_jump",
              "zoom",
              "zoom_animation_threshold",
              "zoom_delta",
              "zoom_snap"
            ],
            "panes": {},
            "prefer_canvas": false,
            "right": 101171,
            "scroll_wheel_zoom": true,
            "south": -23.135308681729665,
            "style": "IPY_MODEL_4aefd041c9cc4e0987387aa4512bcc57",
            "tap": true,
            "tap_tolerance": 15,
            "top": 147796,
            "touch_zoom": true,
            "west": -43.52371215820313,
            "window_url": "https://ogndot0qyc-496ff2e9c6d22116-0-colab.googleusercontent.com/outputframe.html?vrz=colab_20240318-060130_RC00_616776980",
            "world_copy_jump": false,
            "zoom": 10,
            "zoom_animation_threshold": 4,
            "zoom_delta": 1,
            "zoom_snap": 1
          }
        },
        "a30bb2f88c4345a2b7bdde3a4f9e213c": {
          "model_module": "jupyter-leaflet",
          "model_name": "LeafletWidgetControlModel",
          "model_module_version": "^0.18",
          "state": {
            "_model_module": "jupyter-leaflet",
            "_model_module_version": "^0.18",
            "_model_name": "LeafletWidgetControlModel",
            "_view_count": null,
            "_view_module": "jupyter-leaflet",
            "_view_module_version": "^0.18",
            "_view_name": "LeafletWidgetControlView",
            "max_height": null,
            "max_width": null,
            "min_height": null,
            "min_width": null,
            "options": [
              "position",
              "transparent_bg"
            ],
            "position": "topleft",
            "transparent_bg": false,
            "widget": "IPY_MODEL_e25bc150e20e490eb109ce04ba8af04e"
          }
        },
        "25332cb905324b1fa7768be2dd6a7b56": {
          "model_module": "jupyter-leaflet",
          "model_name": "LeafletZoomControlModel",
          "model_module_version": "^0.18",
          "state": {
            "_model_module": "jupyter-leaflet",
            "_model_module_version": "^0.18",
            "_model_name": "LeafletZoomControlModel",
            "_view_count": null,
            "_view_module": "jupyter-leaflet",
            "_view_module_version": "^0.18",
            "_view_name": "LeafletZoomControlView",
            "options": [
              "position",
              "zoom_in_text",
              "zoom_in_title",
              "zoom_out_text",
              "zoom_out_title"
            ],
            "position": "topleft",
            "zoom_in_text": "+",
            "zoom_in_title": "Zoom in",
            "zoom_out_text": "-",
            "zoom_out_title": "Zoom out"
          }
        },
        "86eeada1106243358b494209f5f06182": {
          "model_module": "jupyter-leaflet",
          "model_name": "LeafletFullScreenControlModel",
          "model_module_version": "^0.18",
          "state": {
            "_model_module": "jupyter-leaflet",
            "_model_module_version": "^0.18",
            "_model_name": "LeafletFullScreenControlModel",
            "_view_count": null,
            "_view_module": "jupyter-leaflet",
            "_view_module_version": "^0.18",
            "_view_name": "LeafletFullScreenControlView",
            "options": [
              "position"
            ],
            "position": "topleft"
          }
        },
        "e9c528f5d2ed496cb0ef848d39811bb9": {
          "model_module": "jupyter-leaflet",
          "model_name": "LeafletDrawControlModel",
          "model_module_version": "^0.18",
          "state": {
            "_model_module": "jupyter-leaflet",
            "_model_module_version": "^0.18",
            "_model_name": "LeafletDrawControlModel",
            "_view_count": null,
            "_view_module": "jupyter-leaflet",
            "_view_module_version": "^0.18",
            "_view_name": "LeafletDrawControlView",
            "circle": {},
            "circlemarker": {},
            "data": [],
            "edit": true,
            "marker": {
              "shapeOptions": {
                "color": "#3388ff"
              }
            },
            "options": [
              "position"
            ],
            "polygon": {
              "shapeOptions": {}
            },
            "polyline": {
              "shapeOptions": {}
            },
            "position": "topleft",
            "rectangle": {
              "shapeOptions": {
                "color": "#3388ff"
              }
            },
            "remove": true
          }
        },
        "b7d8198e7d6d477393777f63ee23f46c": {
          "model_module": "jupyter-leaflet",
          "model_name": "LeafletScaleControlModel",
          "model_module_version": "^0.18",
          "state": {
            "_model_module": "jupyter-leaflet",
            "_model_module_version": "^0.18",
            "_model_name": "LeafletScaleControlModel",
            "_view_count": null,
            "_view_module": "jupyter-leaflet",
            "_view_module_version": "^0.18",
            "_view_name": "LeafletScaleControlView",
            "imperial": true,
            "max_width": 100,
            "metric": true,
            "options": [
              "imperial",
              "max_width",
              "metric",
              "position",
              "update_when_idle"
            ],
            "position": "bottomleft",
            "update_when_idle": false
          }
        },
        "b1e93951e7394db8a8073fb21365edaa": {
          "model_module": "jupyter-leaflet",
          "model_name": "LeafletMeasureControlModel",
          "model_module_version": "^0.18",
          "state": {
            "_custom_units": {},
            "_model_module": "jupyter-leaflet",
            "_model_module_version": "^0.18",
            "_model_name": "LeafletMeasureControlModel",
            "_view_count": null,
            "_view_module": "jupyter-leaflet",
            "_view_module_version": "^0.18",
            "_view_name": "LeafletMeasureControlView",
            "active_color": "orange",
            "capture_z_index": 10000,
            "completed_color": "#C8F2BE",
            "options": [
              "active_color",
              "capture_z_index",
              "completed_color",
              "popup_options",
              "position",
              "primary_area_unit",
              "primary_length_unit",
              "secondary_area_unit",
              "secondary_length_unit"
            ],
            "popup_options": {
              "className": "leaflet-measure-resultpopup",
              "autoPanPadding": [
                10,
                10
              ]
            },
            "position": "bottomleft",
            "primary_area_unit": "acres",
            "primary_length_unit": "kilometers",
            "secondary_area_unit": null,
            "secondary_length_unit": null
          }
        },
        "e76cc31202364a44a5a741ebed111707": {
          "model_module": "jupyter-leaflet",
          "model_name": "LeafletWidgetControlModel",
          "model_module_version": "^0.18",
          "state": {
            "_model_module": "jupyter-leaflet",
            "_model_module_version": "^0.18",
            "_model_name": "LeafletWidgetControlModel",
            "_view_count": null,
            "_view_module": "jupyter-leaflet",
            "_view_module_version": "^0.18",
            "_view_name": "LeafletWidgetControlView",
            "max_height": null,
            "max_width": null,
            "min_height": null,
            "min_width": null,
            "options": [
              "position",
              "transparent_bg"
            ],
            "position": "topright",
            "transparent_bg": false,
            "widget": "IPY_MODEL_77b275dd08a34f719d51133520b69b4d"
          }
        },
        "c19783d569514bc09f2e78737cb87421": {
          "model_module": "jupyter-leaflet",
          "model_name": "LeafletAttributionControlModel",
          "model_module_version": "^0.18",
          "state": {
            "_model_module": "jupyter-leaflet",
            "_model_module_version": "^0.18",
            "_model_name": "LeafletAttributionControlModel",
            "_view_count": null,
            "_view_module": "jupyter-leaflet",
            "_view_module_version": "^0.18",
            "_view_name": "LeafletAttributionControlView",
            "options": [
              "position",
              "prefix"
            ],
            "position": "bottomright",
            "prefix": "ipyleaflet"
          }
        },
        "4aefd041c9cc4e0987387aa4512bcc57": {
          "model_module": "jupyter-leaflet",
          "model_name": "LeafletMapStyleModel",
          "model_module_version": "^0.18",
          "state": {
            "_model_module": "jupyter-leaflet",
            "_model_module_version": "^0.18",
            "_model_name": "LeafletMapStyleModel",
            "_view_count": null,
            "_view_module": "@jupyter-widgets/base",
            "_view_module_version": "1.2.0",
            "_view_name": "StyleView",
            "cursor": "grab"
          }
        },
        "38b5f3cba4ff462d8dfb155c8b309ff7": {
          "model_module": "jupyter-leaflet",
          "model_name": "LeafletMapStyleModel",
          "model_module_version": "^0.18",
          "state": {
            "_model_module": "jupyter-leaflet",
            "_model_module_version": "^0.18",
            "_model_name": "LeafletMapStyleModel",
            "_view_count": null,
            "_view_module": "@jupyter-widgets/base",
            "_view_module_version": "1.2.0",
            "_view_name": "StyleView",
            "cursor": "move"
          }
        },
        "aca7fa58f63a462a867b5f1d1515fe10": {
          "model_module": "jupyter-leaflet",
          "model_name": "LeafletTileLayerModel",
          "model_module_version": "^0.18",
          "state": {
            "_model_module": "jupyter-leaflet",
            "_model_module_version": "^0.18",
            "_model_name": "LeafletTileLayerModel",
            "_view_count": null,
            "_view_module": "jupyter-leaflet",
            "_view_module_version": "^0.18",
            "_view_name": "LeafletTileLayerView",
            "attribution": "&copy; <a href=\"https://www.openstreetmap.org/copyright\">OpenStreetMap</a> contributors",
            "base": true,
            "bottom": true,
            "bounds": null,
            "detect_retina": false,
            "loading": false,
            "max_native_zoom": null,
            "max_zoom": 19,
            "min_native_zoom": null,
            "min_zoom": 1,
            "name": "OpenStreetMap.Mapnik",
            "no_wrap": false,
            "opacity": 1,
            "options": [
              "attribution",
              "bounds",
              "detect_retina",
              "max_native_zoom",
              "max_zoom",
              "min_native_zoom",
              "min_zoom",
              "no_wrap",
              "tile_size",
              "tms",
              "zoom_offset"
            ],
            "pane": "",
            "popup": null,
            "popup_max_height": null,
            "popup_max_width": 300,
            "popup_min_width": 50,
            "show_loading": false,
            "subitems": [],
            "tile_size": 256,
            "tms": false,
            "url": "https://tile.openstreetmap.org/{z}/{x}/{y}.png",
            "visible": true,
            "zoom_offset": 0
          }
        },
        "eb95f0781bc142619d63483c2beba962": {
          "model_module": "jupyter-leaflet",
          "model_name": "LeafletTileLayerModel",
          "model_module_version": "^0.18",
          "state": {
            "_model_module": "jupyter-leaflet",
            "_model_module_version": "^0.18",
            "_model_name": "LeafletTileLayerModel",
            "_view_count": null,
            "_view_module": "jupyter-leaflet",
            "_view_module_version": "^0.18",
            "_view_name": "LeafletTileLayerView",
            "attribution": "Esri",
            "base": false,
            "bottom": true,
            "bounds": null,
            "detect_retina": false,
            "loading": false,
            "max_native_zoom": null,
            "max_zoom": 24,
            "min_native_zoom": null,
            "min_zoom": 0,
            "name": "Esri.WorldImagery",
            "no_wrap": false,
            "opacity": 1,
            "options": [
              "attribution",
              "bounds",
              "detect_retina",
              "max_native_zoom",
              "max_zoom",
              "min_native_zoom",
              "min_zoom",
              "no_wrap",
              "tile_size",
              "tms",
              "zoom_offset"
            ],
            "pane": "",
            "popup": null,
            "popup_max_height": null,
            "popup_max_width": 300,
            "popup_min_width": 50,
            "show_loading": false,
            "subitems": [],
            "tile_size": 256,
            "tms": false,
            "url": "https://server.arcgisonline.com/ArcGIS/rest/services/World_Imagery/MapServer/tile/{z}/{y}/{x}",
            "visible": true,
            "zoom_offset": 0
          }
        },
        "a802189991da4c88b91fec3c6bed8cb3": {
          "model_module": "jupyter-leaflet",
          "model_name": "LeafletTileLayerModel",
          "model_module_version": "^0.18",
          "state": {
            "_model_module": "jupyter-leaflet",
            "_model_module_version": "^0.18",
            "_model_name": "LeafletTileLayerModel",
            "_view_count": null,
            "_view_module": "jupyter-leaflet",
            "_view_module_version": "^0.18",
            "_view_name": "LeafletTileLayerView",
            "attribution": "Google Earth Engine",
            "base": false,
            "bottom": true,
            "bounds": null,
            "detect_retina": false,
            "loading": false,
            "max_native_zoom": null,
            "max_zoom": 24,
            "min_native_zoom": null,
            "min_zoom": 0,
            "name": "ROI",
            "no_wrap": false,
            "opacity": 1,
            "options": [
              "attribution",
              "bounds",
              "detect_retina",
              "max_native_zoom",
              "max_zoom",
              "min_native_zoom",
              "min_zoom",
              "no_wrap",
              "tile_size",
              "tms",
              "zoom_offset"
            ],
            "pane": "",
            "popup": null,
            "popup_max_height": null,
            "popup_max_width": 300,
            "popup_min_width": 50,
            "show_loading": false,
            "subitems": [],
            "tile_size": 256,
            "tms": false,
            "url": "https://earthengine.googleapis.com/v1/projects/ee-fernandogomesgeo/maps/54527dcdc0d8a9c99eb73ac1fa911c35-ab7dd7f469a2e01302e9f27438ab45d2/tiles/{z}/{x}/{y}",
            "visible": true,
            "zoom_offset": 0
          }
        },
        "2e4e33b597394fe683141494b1cc8ef2": {
          "model_module": "@jupyter-widgets/base",
          "model_name": "LayoutModel",
          "model_module_version": "1.2.0",
          "state": {
            "_model_module": "@jupyter-widgets/base",
            "_model_module_version": "1.2.0",
            "_model_name": "LayoutModel",
            "_view_count": null,
            "_view_module": "@jupyter-widgets/base",
            "_view_module_version": "1.2.0",
            "_view_name": "LayoutView",
            "align_content": null,
            "align_items": null,
            "align_self": null,
            "border": null,
            "bottom": null,
            "display": null,
            "flex": null,
            "flex_flow": null,
            "grid_area": null,
            "grid_auto_columns": null,
            "grid_auto_flow": null,
            "grid_auto_rows": null,
            "grid_column": null,
            "grid_gap": null,
            "grid_row": null,
            "grid_template_areas": null,
            "grid_template_columns": null,
            "grid_template_rows": null,
            "height": "600px",
            "justify_content": null,
            "justify_items": null,
            "left": null,
            "margin": null,
            "max_height": null,
            "max_width": null,
            "min_height": null,
            "min_width": null,
            "object_fit": null,
            "object_position": null,
            "order": null,
            "overflow": null,
            "overflow_x": null,
            "overflow_y": null,
            "padding": null,
            "right": null,
            "top": null,
            "visibility": null,
            "width": null
          }
        },
        "eb545f87df884c03ac40d94ebea0f5fc": {
          "model_module": "jupyter-leaflet",
          "model_name": "LeafletMapStyleModel",
          "model_module_version": "^0.18",
          "state": {
            "_model_module": "jupyter-leaflet",
            "_model_module_version": "^0.18",
            "_model_name": "LeafletMapStyleModel",
            "_view_count": null,
            "_view_module": "@jupyter-widgets/base",
            "_view_module_version": "1.2.0",
            "_view_name": "StyleView",
            "cursor": "grab"
          }
        },
        "e25bc150e20e490eb109ce04ba8af04e": {
          "model_module": "@jupyter-widgets/controls",
          "model_name": "HBoxModel",
          "model_module_version": "1.5.0",
          "state": {
            "_dom_classes": [
              "geemap-colab"
            ],
            "_model_module": "@jupyter-widgets/controls",
            "_model_module_version": "1.5.0",
            "_model_name": "HBoxModel",
            "_view_count": null,
            "_view_module": "@jupyter-widgets/controls",
            "_view_module_version": "1.5.0",
            "_view_name": "HBoxView",
            "box_style": "",
            "children": [
              "IPY_MODEL_972b8beff4754b8f9f8e232ead0088e7"
            ],
            "layout": "IPY_MODEL_a2f7791416a84ffe8f2786f89fe60a80"
          }
        },
        "77b275dd08a34f719d51133520b69b4d": {
          "model_module": "@jupyter-widgets/controls",
          "model_name": "VBoxModel",
          "model_module_version": "1.5.0",
          "state": {
            "_dom_classes": [
              "geemap-colab"
            ],
            "_model_module": "@jupyter-widgets/controls",
            "_model_module_version": "1.5.0",
            "_model_name": "VBoxModel",
            "_view_count": null,
            "_view_module": "@jupyter-widgets/controls",
            "_view_module_version": "1.5.0",
            "_view_name": "VBoxView",
            "box_style": "",
            "children": [
              "IPY_MODEL_77a947df8b004eec8259e979540eb0e1"
            ],
            "layout": "IPY_MODEL_b4e3d207057d4233a01a7c2d14973d06"
          }
        },
        "972b8beff4754b8f9f8e232ead0088e7": {
          "model_module": "@jupyter-widgets/controls",
          "model_name": "ToggleButtonModel",
          "model_module_version": "1.5.0",
          "state": {
            "_dom_classes": [],
            "_model_module": "@jupyter-widgets/controls",
            "_model_module_version": "1.5.0",
            "_model_name": "ToggleButtonModel",
            "_view_count": null,
            "_view_module": "@jupyter-widgets/controls",
            "_view_module_version": "1.5.0",
            "_view_name": "ToggleButtonView",
            "button_style": "",
            "description": "",
            "description_tooltip": null,
            "disabled": false,
            "icon": "globe",
            "layout": "IPY_MODEL_e118cbd7b33548149ee44ecb8d9f7054",
            "style": "IPY_MODEL_c981b988e76c47d89a9ac2906803efd6",
            "tooltip": "Search location/data",
            "value": false
          }
        },
        "a2f7791416a84ffe8f2786f89fe60a80": {
          "model_module": "@jupyter-widgets/base",
          "model_name": "LayoutModel",
          "model_module_version": "1.2.0",
          "state": {
            "_model_module": "@jupyter-widgets/base",
            "_model_module_version": "1.2.0",
            "_model_name": "LayoutModel",
            "_view_count": null,
            "_view_module": "@jupyter-widgets/base",
            "_view_module_version": "1.2.0",
            "_view_name": "LayoutView",
            "align_content": null,
            "align_items": null,
            "align_self": null,
            "border": null,
            "bottom": null,
            "display": null,
            "flex": null,
            "flex_flow": null,
            "grid_area": null,
            "grid_auto_columns": null,
            "grid_auto_flow": null,
            "grid_auto_rows": null,
            "grid_column": null,
            "grid_gap": null,
            "grid_row": null,
            "grid_template_areas": null,
            "grid_template_columns": null,
            "grid_template_rows": null,
            "height": null,
            "justify_content": null,
            "justify_items": null,
            "left": null,
            "margin": null,
            "max_height": null,
            "max_width": null,
            "min_height": null,
            "min_width": null,
            "object_fit": null,
            "object_position": null,
            "order": null,
            "overflow": null,
            "overflow_x": null,
            "overflow_y": null,
            "padding": null,
            "right": null,
            "top": null,
            "visibility": null,
            "width": null
          }
        },
        "77a947df8b004eec8259e979540eb0e1": {
          "model_module": "@jupyter-widgets/controls",
          "model_name": "ToggleButtonModel",
          "model_module_version": "1.5.0",
          "state": {
            "_dom_classes": [],
            "_model_module": "@jupyter-widgets/controls",
            "_model_module_version": "1.5.0",
            "_model_name": "ToggleButtonModel",
            "_view_count": null,
            "_view_module": "@jupyter-widgets/controls",
            "_view_module_version": "1.5.0",
            "_view_name": "ToggleButtonView",
            "button_style": "",
            "description": "",
            "description_tooltip": null,
            "disabled": false,
            "icon": "wrench",
            "layout": "IPY_MODEL_4ca69cccea844bb380cfba8c9199b317",
            "style": "IPY_MODEL_9ee289178dae4c2a8662cf59e1c1aac6",
            "tooltip": "Toolbar",
            "value": false
          }
        },
        "b4e3d207057d4233a01a7c2d14973d06": {
          "model_module": "@jupyter-widgets/base",
          "model_name": "LayoutModel",
          "model_module_version": "1.2.0",
          "state": {
            "_model_module": "@jupyter-widgets/base",
            "_model_module_version": "1.2.0",
            "_model_name": "LayoutModel",
            "_view_count": null,
            "_view_module": "@jupyter-widgets/base",
            "_view_module_version": "1.2.0",
            "_view_name": "LayoutView",
            "align_content": null,
            "align_items": null,
            "align_self": null,
            "border": null,
            "bottom": null,
            "display": null,
            "flex": null,
            "flex_flow": null,
            "grid_area": null,
            "grid_auto_columns": null,
            "grid_auto_flow": null,
            "grid_auto_rows": null,
            "grid_column": null,
            "grid_gap": null,
            "grid_row": null,
            "grid_template_areas": null,
            "grid_template_columns": null,
            "grid_template_rows": null,
            "height": null,
            "justify_content": null,
            "justify_items": null,
            "left": null,
            "margin": null,
            "max_height": null,
            "max_width": null,
            "min_height": null,
            "min_width": null,
            "object_fit": null,
            "object_position": null,
            "order": null,
            "overflow": null,
            "overflow_x": null,
            "overflow_y": null,
            "padding": null,
            "right": null,
            "top": null,
            "visibility": null,
            "width": null
          }
        },
        "e118cbd7b33548149ee44ecb8d9f7054": {
          "model_module": "@jupyter-widgets/base",
          "model_name": "LayoutModel",
          "model_module_version": "1.2.0",
          "state": {
            "_model_module": "@jupyter-widgets/base",
            "_model_module_version": "1.2.0",
            "_model_name": "LayoutModel",
            "_view_count": null,
            "_view_module": "@jupyter-widgets/base",
            "_view_module_version": "1.2.0",
            "_view_name": "LayoutView",
            "align_content": null,
            "align_items": null,
            "align_self": null,
            "border": null,
            "bottom": null,
            "display": null,
            "flex": null,
            "flex_flow": null,
            "grid_area": null,
            "grid_auto_columns": null,
            "grid_auto_flow": null,
            "grid_auto_rows": null,
            "grid_column": null,
            "grid_gap": null,
            "grid_row": null,
            "grid_template_areas": null,
            "grid_template_columns": null,
            "grid_template_rows": null,
            "height": "28px",
            "justify_content": null,
            "justify_items": null,
            "left": null,
            "margin": null,
            "max_height": null,
            "max_width": null,
            "min_height": null,
            "min_width": null,
            "object_fit": null,
            "object_position": null,
            "order": null,
            "overflow": null,
            "overflow_x": null,
            "overflow_y": null,
            "padding": "0px 0px 0px 4px",
            "right": null,
            "top": null,
            "visibility": null,
            "width": "28px"
          }
        },
        "c981b988e76c47d89a9ac2906803efd6": {
          "model_module": "@jupyter-widgets/controls",
          "model_name": "DescriptionStyleModel",
          "model_module_version": "1.5.0",
          "state": {
            "_model_module": "@jupyter-widgets/controls",
            "_model_module_version": "1.5.0",
            "_model_name": "DescriptionStyleModel",
            "_view_count": null,
            "_view_module": "@jupyter-widgets/base",
            "_view_module_version": "1.2.0",
            "_view_name": "StyleView",
            "description_width": ""
          }
        },
        "4ca69cccea844bb380cfba8c9199b317": {
          "model_module": "@jupyter-widgets/base",
          "model_name": "LayoutModel",
          "model_module_version": "1.2.0",
          "state": {
            "_model_module": "@jupyter-widgets/base",
            "_model_module_version": "1.2.0",
            "_model_name": "LayoutModel",
            "_view_count": null,
            "_view_module": "@jupyter-widgets/base",
            "_view_module_version": "1.2.0",
            "_view_name": "LayoutView",
            "align_content": null,
            "align_items": null,
            "align_self": null,
            "border": null,
            "bottom": null,
            "display": null,
            "flex": null,
            "flex_flow": null,
            "grid_area": null,
            "grid_auto_columns": null,
            "grid_auto_flow": null,
            "grid_auto_rows": null,
            "grid_column": null,
            "grid_gap": null,
            "grid_row": null,
            "grid_template_areas": null,
            "grid_template_columns": null,
            "grid_template_rows": null,
            "height": "28px",
            "justify_content": null,
            "justify_items": null,
            "left": null,
            "margin": null,
            "max_height": null,
            "max_width": null,
            "min_height": null,
            "min_width": null,
            "object_fit": null,
            "object_position": null,
            "order": null,
            "overflow": null,
            "overflow_x": null,
            "overflow_y": null,
            "padding": "0px 0px 0px 4px",
            "right": null,
            "top": null,
            "visibility": null,
            "width": "28px"
          }
        },
        "9ee289178dae4c2a8662cf59e1c1aac6": {
          "model_module": "@jupyter-widgets/controls",
          "model_name": "DescriptionStyleModel",
          "model_module_version": "1.5.0",
          "state": {
            "_model_module": "@jupyter-widgets/controls",
            "_model_module_version": "1.5.0",
            "_model_name": "DescriptionStyleModel",
            "_view_count": null,
            "_view_module": "@jupyter-widgets/base",
            "_view_module_version": "1.2.0",
            "_view_name": "StyleView",
            "description_width": ""
          }
        },
        "1486b8d76d7547d0ab573818c68df855": {
          "model_module": "jupyter-leaflet",
          "model_name": "LeafletTileLayerModel",
          "model_module_version": "^0.18",
          "state": {
            "_model_module": "jupyter-leaflet",
            "_model_module_version": "^0.18",
            "_model_name": "LeafletTileLayerModel",
            "_view_count": null,
            "_view_module": "jupyter-leaflet",
            "_view_module_version": "^0.18",
            "_view_name": "LeafletTileLayerView",
            "attribution": "Google Earth Engine",
            "base": false,
            "bottom": true,
            "bounds": null,
            "detect_retina": false,
            "loading": false,
            "max_native_zoom": null,
            "max_zoom": 24,
            "min_native_zoom": null,
            "min_zoom": 0,
            "name": "Sentinel 2",
            "no_wrap": false,
            "opacity": 1,
            "options": [
              "attribution",
              "bounds",
              "detect_retina",
              "max_native_zoom",
              "max_zoom",
              "min_native_zoom",
              "min_zoom",
              "no_wrap",
              "tile_size",
              "tms",
              "zoom_offset"
            ],
            "pane": "",
            "popup": null,
            "popup_max_height": null,
            "popup_max_width": 300,
            "popup_min_width": 50,
            "show_loading": false,
            "subitems": [],
            "tile_size": 256,
            "tms": false,
            "url": "https://earthengine.googleapis.com/v1/projects/ee-fernandogomesgeo/maps/8071cb58ffdf8afc74d8c2ad0f55ce1c-6241871e458dc0c20d7b35af3a34acef/tiles/{z}/{x}/{y}",
            "visible": true,
            "zoom_offset": 0
          }
        },
        "0ab1237599864b389cfd1f1402a506d0": {
          "model_module": "jupyter-leaflet",
          "model_name": "LeafletTileLayerModel",
          "model_module_version": "^0.18",
          "state": {
            "_model_module": "jupyter-leaflet",
            "_model_module_version": "^0.18",
            "_model_name": "LeafletTileLayerModel",
            "_view_count": null,
            "_view_module": "jupyter-leaflet",
            "_view_module_version": "^0.18",
            "_view_name": "LeafletTileLayerView",
            "attribution": "Google Earth Engine",
            "base": false,
            "bottom": true,
            "bounds": null,
            "detect_retina": false,
            "loading": true,
            "max_native_zoom": null,
            "max_zoom": 24,
            "min_native_zoom": null,
            "min_zoom": 0,
            "name": "Roi",
            "no_wrap": false,
            "opacity": 1,
            "options": [
              "attribution",
              "bounds",
              "detect_retina",
              "max_native_zoom",
              "max_zoom",
              "min_native_zoom",
              "min_zoom",
              "no_wrap",
              "tile_size",
              "tms",
              "zoom_offset"
            ],
            "pane": "",
            "popup": null,
            "popup_max_height": null,
            "popup_max_width": 300,
            "popup_min_width": 50,
            "show_loading": false,
            "subitems": [],
            "tile_size": 256,
            "tms": false,
            "url": "https://earthengine.googleapis.com/v1/projects/ee-fernandogomesgeo/maps/ef8b398cf2fb80c0d73473a0893b499f-4dd16bb02ab5ee3527425eecd4b326c0/tiles/{z}/{x}/{y}",
            "visible": true,
            "zoom_offset": 0
          }
        },
        "a6f386716c264d0c92f41bacdf4ab8bd": {
          "model_module": "jupyter-leaflet",
          "model_name": "LeafletTileLayerModel",
          "model_module_version": "^0.18",
          "state": {
            "_model_module": "jupyter-leaflet",
            "_model_module_version": "^0.18",
            "_model_name": "LeafletTileLayerModel",
            "_view_count": null,
            "_view_module": "jupyter-leaflet",
            "_view_module_version": "^0.18",
            "_view_name": "LeafletTileLayerView",
            "attribution": "Google Earth Engine",
            "base": false,
            "bottom": true,
            "bounds": null,
            "detect_retina": false,
            "loading": false,
            "max_native_zoom": null,
            "max_zoom": 24,
            "min_native_zoom": null,
            "min_zoom": 0,
            "name": "Sentinel 2",
            "no_wrap": false,
            "opacity": 1,
            "options": [
              "attribution",
              "bounds",
              "detect_retina",
              "max_native_zoom",
              "max_zoom",
              "min_native_zoom",
              "min_zoom",
              "no_wrap",
              "tile_size",
              "tms",
              "zoom_offset"
            ],
            "pane": "",
            "popup": null,
            "popup_max_height": null,
            "popup_max_width": 300,
            "popup_min_width": 50,
            "show_loading": false,
            "subitems": [],
            "tile_size": 256,
            "tms": false,
            "url": "https://earthengine.googleapis.com/v1/projects/ee-fernandogomesgeo/maps/a34c7821f4b66360d1351dcf8db94de1-5786ec799b826ec0436fea0a81e64e46/tiles/{z}/{x}/{y}",
            "visible": true,
            "zoom_offset": 0
          }
        },
        "35d54eca3bf44e4f99d3568416a12f94": {
          "model_module": "jupyter-leaflet",
          "model_name": "LeafletTileLayerModel",
          "model_module_version": "^0.18",
          "state": {
            "_model_module": "jupyter-leaflet",
            "_model_module_version": "^0.18",
            "_model_name": "LeafletTileLayerModel",
            "_view_count": null,
            "_view_module": "jupyter-leaflet",
            "_view_module_version": "^0.18",
            "_view_name": "LeafletTileLayerView",
            "attribution": "Google Earth Engine",
            "base": false,
            "bottom": true,
            "bounds": null,
            "detect_retina": false,
            "loading": true,
            "max_native_zoom": null,
            "max_zoom": 24,
            "min_native_zoom": null,
            "min_zoom": 0,
            "name": "Roi",
            "no_wrap": false,
            "opacity": 1,
            "options": [
              "attribution",
              "bounds",
              "detect_retina",
              "max_native_zoom",
              "max_zoom",
              "min_native_zoom",
              "min_zoom",
              "no_wrap",
              "tile_size",
              "tms",
              "zoom_offset"
            ],
            "pane": "",
            "popup": null,
            "popup_max_height": null,
            "popup_max_width": 300,
            "popup_min_width": 50,
            "show_loading": false,
            "subitems": [],
            "tile_size": 256,
            "tms": false,
            "url": "https://earthengine.googleapis.com/v1/projects/ee-fernandogomesgeo/maps/ef8b398cf2fb80c0d73473a0893b499f-babca7c359027de8684092bf9f0140f5/tiles/{z}/{x}/{y}",
            "visible": true,
            "zoom_offset": 0
          }
        },
        "66d3ca8920de47a69cc2bba2f0704458": {
          "model_module": "jupyter-leaflet",
          "model_name": "LeafletTileLayerModel",
          "model_module_version": "^0.18",
          "state": {
            "_model_module": "jupyter-leaflet",
            "_model_module_version": "^0.18",
            "_model_name": "LeafletTileLayerModel",
            "_view_count": null,
            "_view_module": "jupyter-leaflet",
            "_view_module_version": "^0.18",
            "_view_name": "LeafletTileLayerView",
            "attribution": "Google Earth Engine",
            "base": false,
            "bottom": true,
            "bounds": null,
            "detect_retina": false,
            "loading": false,
            "max_native_zoom": null,
            "max_zoom": 24,
            "min_native_zoom": null,
            "min_zoom": 0,
            "name": "Sentinel 2",
            "no_wrap": false,
            "opacity": 1,
            "options": [
              "attribution",
              "bounds",
              "detect_retina",
              "max_native_zoom",
              "max_zoom",
              "min_native_zoom",
              "min_zoom",
              "no_wrap",
              "tile_size",
              "tms",
              "zoom_offset"
            ],
            "pane": "",
            "popup": null,
            "popup_max_height": null,
            "popup_max_width": 300,
            "popup_min_width": 50,
            "show_loading": false,
            "subitems": [],
            "tile_size": 256,
            "tms": false,
            "url": "https://earthengine.googleapis.com/v1/projects/ee-fernandogomesgeo/maps/5534d10772d31ace830724f8484e5603-bf96bff161ecc4b39e268fcabb8480a3/tiles/{z}/{x}/{y}",
            "visible": true,
            "zoom_offset": 0
          }
        },
        "00699c73133d4279815c6f1312ae397d": {
          "model_module": "jupyter-leaflet",
          "model_name": "LeafletTileLayerModel",
          "model_module_version": "^0.18",
          "state": {
            "_model_module": "jupyter-leaflet",
            "_model_module_version": "^0.18",
            "_model_name": "LeafletTileLayerModel",
            "_view_count": null,
            "_view_module": "jupyter-leaflet",
            "_view_module_version": "^0.18",
            "_view_name": "LeafletTileLayerView",
            "attribution": "Google Earth Engine",
            "base": false,
            "bottom": true,
            "bounds": null,
            "detect_retina": false,
            "loading": false,
            "max_native_zoom": null,
            "max_zoom": 24,
            "min_native_zoom": null,
            "min_zoom": 0,
            "name": "Roi",
            "no_wrap": false,
            "opacity": 1,
            "options": [
              "attribution",
              "bounds",
              "detect_retina",
              "max_native_zoom",
              "max_zoom",
              "min_native_zoom",
              "min_zoom",
              "no_wrap",
              "tile_size",
              "tms",
              "zoom_offset"
            ],
            "pane": "",
            "popup": null,
            "popup_max_height": null,
            "popup_max_width": 300,
            "popup_min_width": 50,
            "show_loading": false,
            "subitems": [],
            "tile_size": 256,
            "tms": false,
            "url": "https://earthengine.googleapis.com/v1/projects/ee-fernandogomesgeo/maps/ef8b398cf2fb80c0d73473a0893b499f-2719f00bb80c2924c8928515a8353d9f/tiles/{z}/{x}/{y}",
            "visible": true,
            "zoom_offset": 0
          }
        }
      }
    }
  },
  "cells": [
    {
      "cell_type": "markdown",
      "metadata": {
        "id": "view-in-github",
        "colab_type": "text"
      },
      "source": [
        "<a href=\"https://colab.research.google.com/github/ferngndo/remote-sensing/blob/main/Abrindo_Image_GEE.ipynb\" target=\"_parent\"><img src=\"https://colab.research.google.com/assets/colab-badge.svg\" alt=\"Open In Colab\"/></a>"
      ]
    },
    {
      "cell_type": "code",
      "execution_count": 1,
      "metadata": {
        "id": "yaTQ8nX2T2vC"
      },
      "outputs": [],
      "source": [
        "!pip install geemap -q\n",
        "!pip install geopandas -q"
      ]
    },
    {
      "cell_type": "code",
      "source": [
        "import ee\n",
        "import geemap\n",
        "import geopandas as gpd\n",
        "import numpy as np\n",
        "import json"
      ],
      "metadata": {
        "id": "KnXsJy3PT_2C"
      },
      "execution_count": 2,
      "outputs": []
    },
    {
      "cell_type": "code",
      "source": [
        "ee.Authenticate()\n",
        "ee.Initialize(project='ee-fernandogomesgeo')"
      ],
      "metadata": {
        "colab": {
          "base_uri": "https://localhost:8080/",
          "height": 17
        },
        "id": "HILfiekSUIPC",
        "outputId": "e830b928-ebef-411d-efd7-2c9882e7d2bb"
      },
      "execution_count": 3,
      "outputs": [
        {
          "output_type": "display_data",
          "data": {
            "text/plain": [
              "<IPython.core.display.HTML object>"
            ],
            "text/html": [
              "\n",
              "            <style>\n",
              "                .geemap-dark {\n",
              "                    --jp-widgets-color: white;\n",
              "                    --jp-widgets-label-color: white;\n",
              "                    --jp-ui-font-color1: white;\n",
              "                    --jp-layout-color2: #454545;\n",
              "                    background-color: #383838;\n",
              "                }\n",
              "\n",
              "                .geemap-dark .jupyter-button {\n",
              "                    --jp-layout-color3: #383838;\n",
              "                }\n",
              "\n",
              "                .geemap-colab {\n",
              "                    background-color: var(--colab-primary-surface-color, white);\n",
              "                }\n",
              "\n",
              "                .geemap-colab .jupyter-button {\n",
              "                    --jp-layout-color3: var(--colab-primary-surface-color, white);\n",
              "                }\n",
              "            </style>\n",
              "            "
            ]
          },
          "metadata": {}
        }
      ]
    },
    {
      "cell_type": "code",
      "source": [
        "rj = gpd.read_file('/content/RJ_Municipios_2022.shp')\n",
        "rj.plot()"
      ],
      "metadata": {
        "colab": {
          "base_uri": "https://localhost:8080/",
          "height": 432
        },
        "id": "AdxawkT_bTM0",
        "outputId": "2381470e-3a38-40c6-a961-ea52d263ab6a"
      },
      "execution_count": 4,
      "outputs": [
        {
          "output_type": "display_data",
          "data": {
            "text/plain": [
              "<IPython.core.display.HTML object>"
            ],
            "text/html": [
              "\n",
              "            <style>\n",
              "                .geemap-dark {\n",
              "                    --jp-widgets-color: white;\n",
              "                    --jp-widgets-label-color: white;\n",
              "                    --jp-ui-font-color1: white;\n",
              "                    --jp-layout-color2: #454545;\n",
              "                    background-color: #383838;\n",
              "                }\n",
              "\n",
              "                .geemap-dark .jupyter-button {\n",
              "                    --jp-layout-color3: #383838;\n",
              "                }\n",
              "\n",
              "                .geemap-colab {\n",
              "                    background-color: var(--colab-primary-surface-color, white);\n",
              "                }\n",
              "\n",
              "                .geemap-colab .jupyter-button {\n",
              "                    --jp-layout-color3: var(--colab-primary-surface-color, white);\n",
              "                }\n",
              "            </style>\n",
              "            "
            ]
          },
          "metadata": {}
        },
        {
          "output_type": "execute_result",
          "data": {
            "text/plain": [
              "<Axes: >"
            ]
          },
          "metadata": {},
          "execution_count": 4
        },
        {
          "output_type": "display_data",
          "data": {
            "text/plain": [
              "<Figure size 640x480 with 1 Axes>"
            ],
            "image/png": "[encoded data removed]"
          },
          "metadata": {}
        }
      ]
    },
    {
      "cell_type": "code",
      "source": [
        "gdf = rj[rj['NM_MUN']=='Araruama']\n",
        "gdf"
      ],
      "metadata": {
        "colab": {
          "base_uri": "https://localhost:8080/",
          "height": 89
        },
        "id": "HcgZj1TYbTKB",
        "outputId": "9496c528-6588-4efa-8adc-062f7b188c2e"
      },
      "execution_count": 5,
      "outputs": [
        {
          "output_type": "display_data",
          "data": {
            "text/plain": [
              "<IPython.core.display.HTML object>"
            ],
            "text/html": [
              "\n",
              "            <style>\n",
              "                .geemap-dark {\n",
              "                    --jp-widgets-color: white;\n",
              "                    --jp-widgets-label-color: white;\n",
              "                    --jp-ui-font-color1: white;\n",
              "                    --jp-layout-color2: #454545;\n",
              "                    background-color: #383838;\n",
              "                }\n",
              "\n",
              "                .geemap-dark .jupyter-button {\n",
              "                    --jp-layout-color3: #383838;\n",
              "                }\n",
              "\n",
              "                .geemap-colab {\n",
              "                    background-color: var(--colab-primary-surface-color, white);\n",
              "                }\n",
              "\n",
              "                .geemap-colab .jupyter-button {\n",
              "                    --jp-layout-color3: var(--colab-primary-surface-color, white);\n",
              "                }\n",
              "            </style>\n",
              "            "
            ]
          },
          "metadata": {}
        },
        {
          "output_type": "execute_result",
          "data": {
            "text/plain": [
              "    CD_MUN    NM_MUN SIGLA_UF  AREA_KM2  \\\n",
              "2  3300209  Araruama       RJ   638.276   \n",
              "\n",
              "                                            geometry  \n",
              "2  POLYGON ((-42.28399 -22.93928, -42.28444 -22.9...  "
            ],
            "text/html": [
              "\n",
              "  <div id=\"df-1ee78af5-0098-4089-89ba-4d63d97ee6dc\" class=\"colab-df-container\">\n",
              "    <div>\n",
              "<style scoped>\n",
              "    .dataframe tbody tr th:only-of-type {\n",
              "        vertical-align: middle;\n",
              "    }\n",
              "\n",
              "    .dataframe tbody tr th {\n",
              "        vertical-align: top;\n",
              "    }\n",
              "\n",
              "    .dataframe thead th {\n",
              "        text-align: right;\n",
              "    }\n",
              "</style>\n",
              "<table border=\"1\" class=\"dataframe\">\n",
              "  <thead>\n",
              "    <tr style=\"text-align: right;\">\n",
              "      <th></th>\n",
              "      <th>CD_MUN</th>\n",
              "      <th>NM_MUN</th>\n",
              "      <th>SIGLA_UF</th>\n",
              "      <th>AREA_KM2</th>\n",
              "      <th>geometry</th>\n",
              "    </tr>\n",
              "  </thead>\n",
              "  <tbody>\n",
              "    <tr>\n",
              "      <th>2</th>\n",
              "      <td>3300209</td>\n",
              "      <td>Araruama</td>\n",
              "      <td>RJ</td>\n",
              "      <td>638.276</td>\n",
              "      <td>POLYGON ((-42.28399 -22.93928, -42.28444 -22.9...</td>\n",
              "    </tr>\n",
              "  </tbody>\n",
              "</table>\n",
              "</div>\n",
              "    <div class=\"colab-df-buttons\">\n",
              "\n",
              "  <div class=\"colab-df-container\">\n",
              "    <button class=\"colab-df-convert\" onclick=\"convertToInteractive('df-1ee78af5-0098-4089-89ba-4d63d97ee6dc')\"\n",
              "            title=\"Convert this dataframe to an interactive table.\"\n",
              "            style=\"display:none;\">\n",
              "\n",
              "  <svg xmlns=\"http://www.w3.org/2000/svg\" height=\"24px\" viewBox=\"0 -960 960 960\">\n",
              "    <path d=\"M120-120v-720h720v720H120Zm60-500h600v-160H180v160Zm220 220h160v-160H400v160Zm0 220h160v-160H400v160ZM180-400h160v-160H180v160Zm440 0h160v-160H620v160ZM180-180h160v-160H180v160Zm440 0h160v-160H620v160Z\"/>\n",
              "  </svg>\n",
              "    </button>\n",
              "\n",
              "  <style>\n",
              "    .colab-df-container {\n",
              "      display:flex;\n",
              "      gap: 12px;\n",
              "    }\n",
              "\n",
              "    .colab-df-convert {\n",
              "      background-color: #E8F0FE;\n",
              "      border: none;\n",
              "      border-radius: 50%;\n",
              "      cursor: pointer;\n",
              "      display: none;\n",
              "      fill: #1967D2;\n",
              "      height: 32px;\n",
              "      padding: 0 0 0 0;\n",
              "      width: 32px;\n",
              "    }\n",
              "\n",
              "    .colab-df-convert:hover {\n",
              "      background-color: #E2EBFA;\n",
              "      box-shadow: 0px 1px 2px rgba(60, 64, 67, 0.3), 0px 1px 3px 1px rgba(60, 64, 67, 0.15);\n",
              "      fill: #174EA6;\n",
              "    }\n",
              "\n",
              "    .colab-df-buttons div {\n",
              "      margin-bottom: 4px;\n",
              "    }\n",
              "\n",
              "    [theme=dark] .colab-df-convert {\n",
              "      background-color: #3B4455;\n",
              "      fill: #D2E3FC;\n",
              "    }\n",
              "\n",
              "    [theme=dark] .colab-df-convert:hover {\n",
              "      background-color: #434B5C;\n",
              "      box-shadow: 0px 1px 3px 1px rgba(0, 0, 0, 0.15);\n",
              "      filter: drop-shadow(0px 1px 2px rgba(0, 0, 0, 0.3));\n",
              "      fill: #FFFFFF;\n",
              "    }\n",
              "  </style>\n",
              "\n",
              "    <script>\n",
              "      const buttonEl =\n",
              "        document.querySelector('#df-1ee78af5-0098-4089-89ba-4d63d97ee6dc button.colab-df-convert');\n",
              "      buttonEl.style.display =\n",
              "        google.colab.kernel.accessAllowed ? 'block' : 'none';\n",
              "\n",
              "      async function convertToInteractive(key) {\n",
              "        const element = document.querySelector('#df-1ee78af5-0098-4089-89ba-4d63d97ee6dc');\n",
              "        const dataTable =\n",
              "          await google.colab.kernel.invokeFunction('convertToInteractive',\n",
              "                                                    [key], {});\n",
              "        if (!dataTable) return;\n",
              "\n",
              "        const docLinkHtml = 'Like what you see? Visit the ' +\n",
              "          '<a target=\"_blank\" href=https://colab.research.google.com/notebooks/data_table.ipynb>data table notebook</a>'\n",
              "          + ' to learn more about interactive tables.';\n",
              "        element.innerHTML = '';\n",
              "        dataTable['output_type'] = 'display_data';\n",
              "        await google.colab.output.renderOutput(dataTable, element);\n",
              "        const docLink = document.createElement('div');\n",
              "        docLink.innerHTML = docLinkHtml;\n",
              "        element.appendChild(docLink);\n",
              "      }\n",
              "    </script>\n",
              "  </div>\n",
              "\n",
              "\n",
              "  <div id=\"id_d3131623-0bca-4a2f-b9c4-26532a138b33\">\n",
              "    <style>\n",
              "      .colab-df-generate {\n",
              "        background-color: #E8F0FE;\n",
              "        border: none;\n",
              "        border-radius: 50%;\n",
              "        cursor: pointer;\n",
              "        display: none;\n",
              "        fill: #1967D2;\n",
              "        height: 32px;\n",
              "        padding: 0 0 0 0;\n",
              "        width: 32px;\n",
              "      }\n",
              "\n",
              "      .colab-df-generate:hover {\n",
              "        background-color: #E2EBFA;\n",
              "        box-shadow: 0px 1px 2px rgba(60, 64, 67, 0.3), 0px 1px 3px 1px rgba(60, 64, 67, 0.15);\n",
              "        fill: #174EA6;\n",
              "      }\n",
              "\n",
              "      [theme=dark] .colab-df-generate {\n",
              "        background-color: #3B4455;\n",
              "        fill: #D2E3FC;\n",
              "      }\n",
              "\n",
              "      [theme=dark] .colab-df-generate:hover {\n",
              "        background-color: #434B5C;\n",
              "        box-shadow: 0px 1px 3px 1px rgba(0, 0, 0, 0.15);\n",
              "        filter: drop-shadow(0px 1px 2px rgba(0, 0, 0, 0.3));\n",
              "        fill: #FFFFFF;\n",
              "      }\n",
              "    </style>\n",
              "    <button class=\"colab-df-generate\" onclick=\"generateWithVariable('gdf')\"\n",
              "            title=\"Generate code using this dataframe.\"\n",
              "            style=\"display:none;\">\n",
              "\n",
              "  <svg xmlns=\"http://www.w3.org/2000/svg\" height=\"24px\"viewBox=\"0 0 24 24\"\n",
              "       width=\"24px\">\n",
              "    <path d=\"M7,19H8.4L18.45,9,17,7.55,7,17.6ZM5,21V16.75L18.45,3.32a2,2,0,0,1,2.83,0l1.4,1.43a1.91,1.91,0,0,1,.58,1.4,1.91,1.91,0,0,1-.58,1.4L9.25,21ZM18.45,9,17,7.55Zm-12,3A5.31,5.31,0,0,0,4.9,8.1,5.31,5.31,0,0,0,1,6.5,5.31,5.31,0,0,0,4.9,4.9,5.31,5.31,0,0,0,6.5,1,5.31,5.31,0,0,0,8.1,4.9,5.31,5.31,0,0,0,12,6.5,5.46,5.46,0,0,0,6.5,12Z\"/>\n",
              "  </svg>\n",
              "    </button>\n",
              "    <script>\n",
              "      (() => {\n",
              "      const buttonEl =\n",
              "        document.querySelector('#id_d3131623-0bca-4a2f-b9c4-26532a138b33 button.colab-df-generate');\n",
              "      buttonEl.style.display =\n",
              "        google.colab.kernel.accessAllowed ? 'block' : 'none';\n",
              "\n",
              "      buttonEl.onclick = () => {\n",
              "        google.colab.notebook.generateWithVariable('gdf');\n",
              "      }\n",
              "      })();\n",
              "    </script>\n",
              "  </div>\n",
              "\n",
              "    </div>\n",
              "  </div>\n"
            ],
            "application/vnd.google.colaboratory.intrinsic+json": {
              "type": "dataframe",
              "variable_name": "gdf",
              "summary": "{\n  \"name\": \"gdf\",\n  \"rows\": 1,\n  \"fields\": [\n    {\n      \"column\": \"CD_MUN\",\n      \"properties\": {\n        \"dtype\": \"string\",\n        \"num_unique_values\": 1,\n        \"samples\": [\n          \"3300209\"\n        ],\n        \"semantic_type\": \"\",\n        \"description\": \"\"\n      }\n    },\n    {\n      \"column\": \"NM_MUN\",\n      \"properties\": {\n        \"dtype\": \"string\",\n        \"num_unique_values\": 1,\n        \"samples\": [\n          \"Araruama\"\n        ],\n        \"semantic_type\": \"\",\n        \"description\": \"\"\n      }\n    },\n    {\n      \"column\": \"SIGLA_UF\",\n      \"properties\": {\n        \"dtype\": \"string\",\n        \"num_unique_values\": 1,\n        \"samples\": [\n          \"RJ\"\n        ],\n        \"semantic_type\": \"\",\n        \"description\": \"\"\n      }\n    },\n    {\n      \"column\": \"AREA_KM2\",\n      \"properties\": {\n        \"dtype\": \"number\",\n        \"std\": null,\n        \"min\": 638.276,\n        \"max\": 638.276,\n        \"num_unique_values\": 1,\n        \"samples\": [\n          638.276\n        ],\n        \"semantic_type\": \"\",\n        \"description\": \"\"\n      }\n    },\n    {\n      \"column\": \"geometry\",\n      \"properties\": {\n        \"dtype\": \"geometry\",\n        \"num_unique_values\": 1,\n        \"samples\": [\n          \"POLYGON ((-42.2839865559999 -22.939277395, -42.2844449799999 -22.9392405039999, -42.285745071 -22.9391262, -42.287138028 -22.939053395, -42.287727976 -22.93902256, -42.289319189 -22.9389681649999, -42.2909142629999 -22.9388911629999, -42.2912593299999 -22.9388577239999, -42.292506002 -22.938736912, -42.29436591 -22.938566243, -42.2944742569999 -22.9385563009999, -42.296880755 -22.9385190749999, -42.299276471 -22.9383034439999, -42.301270613 -22.9382077669999, -42.302630086 -22.938140217, -42.3028837759999 -22.938127612, -42.303905699 -22.938061128, -42.304474399 -22.9380241289999, -42.305664115 -22.937953175, -42.307261825 -22.93788553, -42.30899206 -22.9377387279999, -42.3092881589999 -22.937714322, -42.310787954 -22.937590702, -42.3127916189999 -22.937491248, -42.314048504 -22.937430611, -42.315227675 -22.937373723, -42.317234324 -22.9372414979999, -42.3192288069999 -22.937167713, -42.321211896 -22.9370242059999, -42.32282409 -22.936938412, -42.324456563 -22.9368719899999, -42.3260504959999 -22.9367978609999, -42.3268738739999 -22.936731041, -42.3284890159999 -22.9366209469999, -42.329700169 -22.936622395, -42.330612948 -22.93659467, -42.332111902 -22.9365421099999, -42.332912813 -22.936492754, -42.334516122 -22.9363926999999, -42.3361284329999 -22.936380339, -42.3378983549999 -22.936327188, -42.3395132379999 -22.9362482179999, -42.340309786 -22.936247495, -42.341115046 -22.936224888, -42.3426988379999 -22.9361609809999, -42.3443093929999 -22.9360790009999, -42.345921221 -22.9360066849999, -42.3475618419999 -22.935942145, -42.348341252 -22.935910764, -42.349990665 -22.9358602469999, -42.350784806 -22.935823053, -42.3516009689999 -22.935781076, -42.353050098 -22.935707188, -42.354821537 -22.935634782, -42.356433663 -22.9356122799999, -42.357366746 -22.93559461, -42.3580565739999 -22.935581546, -42.3596522729999 -22.935546824, -42.3612933169999 -22.935465537, -42.3628232249999 -22.9354462969999, -42.3642795759999 -22.9354642719999, -42.365689334 -22.935486157, -42.366496723 -22.9354745589999, -42.3673137829999 -22.935441633, -42.368156213 -22.935432324, -42.368949148 -22.935437443, -42.369755738 -22.935431863, -42.370543257 -22.9354398639999, -42.371351123 -22.935438991, -42.372186449 -22.935449402, -42.3729980749999 -22.9354354929999, -42.374777874 -22.93552815, -42.376498108 -22.935549792, -42.3790885999999 -22.9356045559999, -42.381231537 -22.9356722209999, -42.3816364579999 -22.9356850029999, -42.381636648 -22.9356836269999, -42.3813434319999 -22.933449824, -42.380969009 -22.9305973589999, -42.3807134309999 -22.9286502969999, -42.380437538 -22.9265484639999, -42.380406997 -22.926315793, -42.3802349339999 -22.9250049629999, -42.3800940479999 -22.923931653, -42.378596277 -22.912521187, -42.3784931439999 -22.911735493, -42.378216027 -22.9096243299999, -42.378035997 -22.908252809, -42.3779510169999 -22.907731833, -42.3784001839999 -22.907395638, -42.379108726 -22.9068712079999, -42.3798211719999 -22.9061434779999, -42.38015031 -22.9056312669999, -42.3804238609999 -22.9048962919999, -42.380754769 -22.9042916729999, -42.3808562899999 -22.904200911, -42.381159079 -22.9040210329999, -42.3817090649999 -22.9034385109999, -42.3820228549999 -22.902685709, -42.382327413 -22.9024134219999, -42.3827769339999 -22.9018662129999, -42.3831352239999 -22.900873807, -42.38334961 -22.900100875, -42.383802311 -22.89938733, -42.384474794 -22.8986589159999, -42.384990165 -22.8977985019999, -42.385321742 -22.897156906, -42.385794016 -22.896462163, -42.386283044 -22.89593408, -42.386638809 -22.895071032, -42.386716362 -22.894147943, -42.386839831 -22.8929113259999, -42.3867179059999 -22.8919849559999, -42.386667683 -22.891797128, -42.3864944759999 -22.8911493529999, -42.38624685 -22.890535198, -42.3858001089999 -22.8898992809999, -42.3855777489999 -22.889008232, -42.385456897 -22.888026418, -42.3853460729999 -22.887562411, -42.38511804 -22.886957875, -42.384882439 -22.8866831629999, -42.384594018 -22.886200463, -42.38410386 -22.8857487, -42.3838074999999 -22.8855959219999, -42.3836055359999 -22.88545255, -42.3833547579999 -22.885274183, -42.3831039639999 -22.8848263589999, -42.382871344 -22.8844712699999, -42.3827181569999 -22.884135976, -42.382634695 -22.883883973, -42.382598602 -22.883774994, -42.382491089 -22.8833643159999, -42.3823896389999 -22.882976797, -42.382039584 -22.8816396619999, -42.3813991499999 -22.879193335, -42.3805517979999 -22.8759566219999, -42.380411572 -22.875420989, -42.380400497 -22.8753786839999, -42.380330847 -22.875112636, -42.3803190579999 -22.8750676029999, -42.380267606 -22.8748710679999, -42.38018142 -22.8745418569999, -42.3801673579999 -22.874488141, -42.37982377 -22.8731757039999, -42.378907732 -22.869676625, -42.378209778 -22.8670105849999, -42.3777947089999 -22.865425107, -42.377139669 -22.8629229859999, -42.37622153 -22.8594158839999, -42.3723306799999 -22.844553634, -42.372161363 -22.8439068779999, -42.3714912949999 -22.841347356, -42.3699334739999 -22.8353967959999, -42.3747423 -22.834605778, -42.380854224 -22.8336004089999, -42.382238284 -22.8333727409999, -42.384629747 -22.8329793619999, -42.384896339 -22.832935509, -42.3854179809999 -22.832849703, -42.385802806 -22.832786402, -42.393867112 -22.831459879, -42.394223129 -22.831401317, -42.3943217629999 -22.8313850919999, -42.394520396 -22.8313524179999, -42.3988740789999 -22.830636268, -42.39955457 -22.830524332, -42.400235062 -22.8304123959999, -42.4007728349999 -22.830323936, -42.426176128 -22.8261452699999, -42.426316851 -22.826122122, -42.4268906739999 -22.8260277329999, -42.4347779939999 -22.824730323, -42.434808376 -22.824725326, -42.435054962 -22.824684764, -42.4457997229999 -22.8229173249999, -42.445840099 -22.822910684, -42.4458833269999 -22.822903573, -42.446812806 -22.82275068, -42.4467548169999 -22.8216847059999, -42.446752251 -22.8216375379999, -42.4467497919999 -22.821592332, -42.4467457979999 -22.8215189169999, -42.446708536 -22.820833969, -42.4466993729999 -22.820665533, -42.446640675 -22.8195865239999, -42.4466373569999 -22.8195255259999, -42.446622132 -22.8192456529999, -42.446568036 -22.81825126, -42.446546799 -22.8178608759999, -42.446536324 -22.8176683359999, -42.4465324929999 -22.8175979069999, -42.446525046 -22.817461006, -42.446384845 -22.814883789, -42.446223139 -22.8119112759999, -42.4462097489999 -22.8116651349999, -42.446193868 -22.811373217, -42.4461776049999 -22.811074258, -42.446161387 -22.8107761389999, -42.446157558 -22.810705743, -42.4461417969999 -22.8104160189999, -42.445686204 -22.8020412019999, -42.445676842 -22.801869111, -42.44527973 -22.7945692979999, -42.4452742399999 -22.7944683709999, -42.4452726329999 -22.794438831, -42.445271921 -22.7944257469999, -42.44511656 -22.791569867, -42.444588853 -22.78186942, -42.444519955 -22.780602932, -42.4443116479999 -22.77677377, -42.44410334 -22.772944609, -42.4439750559999 -22.770586464, -42.443858884 -22.768450964, -42.4438492469999 -22.76827381, -42.443704871 -22.765619858, -42.443650491 -22.7646202239999, -42.4436387609999 -22.7644046089999, -42.443503467 -22.761917603, -42.4431514519999 -22.7554467699999, -42.443031043 -22.753233377, -42.442976168 -22.752224661, -42.442761269 -22.7482743329999, -42.442714297 -22.747410885, -42.4426969629999 -22.7470922369999, -42.442615431 -22.7455935039999, -42.442517219 -22.743788142, -42.4424557469999 -22.7426581559999, -42.442342289 -22.740572544, -42.442291622 -22.7396411679999, -42.4422468729999 -22.7388185729999, -42.442144432 -22.736935479, -42.4421354419999 -22.736770216, -42.442059479 -22.735373845, -42.442039318 -22.735003247, -42.442015199 -22.734559895, -42.4419962489999 -22.7342115389999, -42.441977298 -22.733863183, -42.441972198 -22.7337694349999, -42.441877024 -22.732019927, -42.4418659089999 -22.7318155949999, -42.441859732 -22.731702061, -42.441853556 -22.7315885269999, -42.4418435489999 -22.731404568, -42.4418380459999 -22.731303419, -42.4418145939999 -22.7308723199999, -42.4417971999999 -22.730552582, -42.441794305 -22.730499354, -42.4417872229999 -22.730369185, -42.44178403 -22.730310474, -42.44173712 -22.730339299, -42.441437847 -22.7304527589999, -42.4413747799999 -22.7304766689999, -42.441096563 -22.730747729, -42.440803622 -22.7309941789999, -42.4405727229999 -22.7312848619999, -42.440300582 -22.731543017, -42.439986695 -22.7317852469999, -42.439680664 -22.7320445739999, -42.439374632 -22.7322881919999, -42.439080583 -22.732546718, -42.4387664729999 -22.732764115, -42.438387506 -22.7329315439999, -42.438013616 -22.7330823529999, -42.437614364 -22.733152772, -42.437212056 -22.733136568, -42.4368038389999 -22.733103206, -42.436415296 -22.733011662, -42.436008558 -22.7329825649999, -42.435611191 -22.733019789, -42.435206475 -22.7329814239999, -42.434790474 -22.7328906989999, -42.434466243 -22.7329068499999, -42.434369762 -22.7329116559999, -42.4339499119999 -22.732912496, -42.433534473 -22.7328803629999, -42.433121806 -22.732819658, -42.432729132 -22.7327827459999, -42.432332134 -22.732784578, -42.431929004 -22.7328489619999, -42.4315521789999 -22.7329691059999, -42.431328148 -22.732992479, -42.4311525859999 -22.7330107949999, -42.430769797 -22.7329241149999, -42.4303488639999 -22.7328840329999, -42.4299380309999 -22.732923101, -42.429525363 -22.732930273, -42.429125041 -22.732969328, -42.4287562109999 -22.7330937469999, -42.4283341509999 -22.733197084, -42.427936712 -22.733316074, -42.427583953 -22.7334708989999, -42.427242523 -22.733665086, -42.4268619329999 -22.733798877, -42.426462635 -22.733933812, -42.426083219 -22.734134785, -42.4256990179999 -22.7342949659999, -42.4253495789999 -22.7344904629999, -42.42495751 -22.7346289399999, -42.42456515 -22.734777793, -42.424176052 -22.7349082819999, -42.4238011899999 -22.735094429, -42.423424811 -22.735242001, -42.423042843 -22.7353554499999, -42.4226553299999 -22.735473956, -42.422325843 -22.735674189, -42.421970044 -22.7358814899999, -42.4219424409999 -22.735892141, -42.4215831179999 -22.736030784, -42.421204706 -22.736193124, -42.420818821 -22.736271388, -42.42043423 -22.7363688099999, -42.42004371 -22.736439866, -42.419648541 -22.7363179339999, -42.419265719 -22.736196741, -42.4188872999999 -22.73608988, -42.41844443 -22.735974034, -42.4183072979999 -22.735947505, -42.4180325099999 -22.735894344, -42.417584835 -22.7358478379999, -42.417147268 -22.735791654, -42.4167490679999 -22.7356500769999, -42.4163624939999 -22.7355216839999, -42.4159996659999 -22.735382934, -42.415640343 -22.7351768939999, -42.4152729969999 -22.734993925, -42.415019656 -22.734710341, -42.414886161 -22.7343622559999, -42.4147277329999 -22.733994539, -42.4144613569999 -22.7337159799999, -42.4141282919999 -22.7334646849999, -42.4138402739999 -22.7331779209999, -42.413606639 -22.732876599, -42.4133534059999 -22.732577308, -42.4130811219999 -22.7322870949999, -42.4128222809999 -22.7320067589999, -42.4125624389999 -22.731722706, -42.412294409 -22.7314290419999, -42.412011446 -22.7311326069999, -42.41176818 -22.7308314869999, -42.411524056 -22.730539833, -42.4113666609999 -22.73035749, -42.411260818 -22.7302348699999, -42.410949387 -22.729998274, -42.410641542 -22.729731495, -42.4103465009999 -22.729466998, -42.409963051 -22.7293135469999, -42.4095672609999 -22.7292313909999, -42.409138374 -22.729196271, -42.4087170299999 -22.729256601, -42.4083100999999 -22.7293731309999, -42.4079385279999 -22.7294981759999, -42.4075393649999 -22.729605262, -42.4071981879999 -22.729842015, -42.4069697209999 -22.7301344909999, -42.4066371449999 -22.730348544, -42.406366455 -22.7306093669999, -42.4060924779999 -22.730884311, -42.4058266499999 -22.731176177, -42.405545042 -22.7314635449999, -42.4052479929999 -22.7317233979999, -42.404933764 -22.7319601309999, -42.404575982 -22.73211717, -42.404198799 -22.732219276, -42.4039616809999 -22.732195055, -42.403806784 -22.732179233, -42.40340019 -22.7321176479999, -42.403119928 -22.7321016289999, -42.402755902 -22.7318525159999, -42.4024547129999 -22.731615349, -42.402145983 -22.731391059, -42.401782318 -22.7312620119999, -42.4017379269999 -22.731252533, -42.401364714 -22.731149871, -42.400962275 -22.731012881, -42.400577874 -22.730848379, -42.40021608 -22.730656622, -42.399888715 -22.73046091, -42.399836044 -22.730415821, -42.399681056 -22.730371431, -42.399461753 -22.7303086219999, -42.3992117 -22.730177539, -42.399119775 -22.730129281, -42.3989943409999 -22.7300635359999, -42.3989310059999 -22.7300303389999, -42.398662228 -22.729757494, -42.398510911 -22.7294176839999, -42.3983357509999 -22.7290574469999, -42.398301175 -22.7289818679999, -42.398145906 -22.728599023, -42.398041185 -22.728214023, -42.397906002 -22.7278497409999, -42.3977393289999 -22.727514286, -42.397593316 -22.7271566869999, -42.397431132 -22.726805236, -42.39728321 -22.7264662919999, -42.397162021 -22.72610323, -42.3971273729999 -22.726036677, -42.396978008 -22.7256712609999, -42.3967560369999 -22.7253219049999, -42.396548921 -22.7250051959999, -42.3963518199999 -22.724683866, -42.396204885 -22.7243393429999, -42.396138322 -22.7239694969999, -42.396049166 -22.723590257, -42.395812925 -22.722961907, -42.3955587409999 -22.722679908, -42.395281294 -22.7224188339999, -42.3950408549999 -22.7221304669999, -42.394738291 -22.7218803559999, -42.394373469 -22.72174225, -42.3940129069999 -22.721605295, -42.393649313 -22.721453847, -42.3932541519999 -22.7213814139999, -42.3928619559999 -22.721373389, -42.3924709679999 -22.7213683639999, -42.392089789 -22.721446456, -42.3916917609999 -22.721504776, -42.391322886 -22.721642104, -42.390940293 -22.7217638619999, -42.390558411 -22.7218686599999, -42.390184758 -22.72193974, -42.39016936 -22.72195647, -42.389930104 -22.7222164149999, -42.389611824 -22.722435901, -42.389378065 -22.722437047, -42.388961084 -22.722350524, -42.3886521759999 -22.7221225059999, -42.3883288289999 -22.721916999, -42.3879974079999 -22.7217063059999, -42.387649519 -22.721527567, -42.3872663989999 -22.72140043, -42.3868888979999 -22.72130534, -42.38650831 -22.7211730069999, -42.3861253699999 -22.7210057889999, -42.38574605 -22.7208733859999, -42.3853528659999 -22.720748606, -42.384959215 -22.7206074809999, -42.3845930689999 -22.7204630109999, -42.3842095099999 -22.7202876549999, -42.3838472109999 -22.720130339, -42.38345788 -22.7199822389999, -42.382643512 -22.719706394, -42.3822498609999 -22.7195554219999, -42.381878109 -22.719419522, -42.3814968689999 -22.719291319, -42.3811194259999 -22.7191682329999, -42.3807582909999 -22.7190318739999, -42.380395312 -22.718890245, -42.380037339 -22.718746354, -42.379661921 -22.7185988329999, -42.3792691639999 -22.718539133, -42.378880124 -22.7185346489999, -42.378506881 -22.7186917349999, -42.3781540749999 -22.718884362, -42.3777733159999 -22.719017043, -42.3774468949999 -22.719219037, -42.3771741539999 -22.7194787839999, -42.376878313 -22.719730297, -42.376528026 -22.719938578, -42.376129077 -22.72009623, -42.375765185 -22.720237125, -42.375428179 -22.720427478, -42.3751134359999 -22.720680032, -42.375001114 -22.7207662659999, -42.374806309 -22.7209158269999, -42.374464146 -22.7211416609999, -42.3741314649999 -22.721344808, -42.3737843489999 -22.7215293039999, -42.373434155 -22.721727108, -42.373115834 -22.721937351, -42.372794927 -22.7221555849999, -42.3724890199999 -22.722403583, -42.3721481109999 -22.722639812, -42.371824077 -22.7228534779999, -42.371496371 -22.7230606749999, -42.3710946539999 -22.723296171, -42.3707500899999 -22.723484131, -42.370419285 -22.723675117, -42.3701977119999 -22.723794529, -42.3700683719999 -22.723864234, -42.369758813 -22.724083911, -42.369432694 -22.72421801, -42.369085938 -22.7243067229999, -42.3689866449999 -22.72429261, -42.3687533629999 -22.724259451, -42.368353381 -22.72404804, -42.3680484939999 -22.7238303409999, -42.367796595 -22.723609994, -42.3675066 -22.7233668129999, -42.3672210079999 -22.723117294, -42.366909687 -22.7228902799999, -42.3666002689999 -22.722660498, -42.3662926229999 -22.722434716, -42.365949206 -22.722247704, -42.365762203 -22.722094139, -42.365426305 -22.7218956049999, -42.365098571 -22.7216925979999, -42.365086178 -22.721684269, -42.3647643749999 -22.7214714309999, -42.364705505 -22.721425687, -42.364540211 -22.7212612879999, -42.36443795 -22.7211595809999, -42.364413031 -22.7211498729999, -42.364102067 -22.7209250249999, -42.3638262769999 -22.72069778, -42.363754059 -22.720526067, -42.363441967 -22.7202941589999, -42.363280308 -22.720209617, -42.3629497819999 -22.719990224, -42.362646503 -22.71975557, -42.362326421 -22.7195497979999, -42.362245103 -22.7194670329999, -42.362006766 -22.71917983, -42.361862926 -22.718841109, -42.361763867 -22.718486157, -42.3617767489999 -22.718118972, -42.361787926 -22.717744265, -42.3618865079999 -22.7173935669999, -42.362061978 -22.717062195, -42.362148486 -22.716853924, -42.362199086 -22.716488534, -42.362121185 -22.71617699, -42.362129809 -22.7158034139999, -42.362249022 -22.715523468, -42.3622716369999 -22.715176303, -42.362152012 -22.7148181229999, -42.362102431 -22.7146433529999, -42.362135974 -22.7142793959999, -42.362182569 -22.713919808, -42.362192562 -22.713855338, -42.362187008 -22.7135763759999, -42.362185325 -22.713491883, -42.362144299 -22.713363203, -42.3618953 -22.713079345, -42.3615487229999 -22.7129287069999, -42.361190619 -22.7127605069999, -42.360813166 -22.7126102199999, -42.360284776 -22.712395774, -42.3602626529999 -22.7123729799999, -42.359975236 -22.712076855, -42.359519468 -22.711903228, -42.359041996 -22.712163668, -42.358673041 -22.712456662, -42.358488563 -22.7128798749999, -42.358369195 -22.7132705339999, -42.3579676849999 -22.713324792, -42.3578211879999 -22.713465863, -42.3576746909999 -22.7136069339999, -42.357446807 -22.714182071, -42.3573322 -22.7142066289999, -42.357142961 -22.71424718, -42.356286692 -22.714042032, -42.356101205 -22.7139975929999, -42.355829914 -22.7138239669999, -42.3557648039999 -22.7136177859999, -42.3555911779999 -22.713205424, -42.35520052 -22.712738804, -42.355073483 -22.712573553, -42.353865769 -22.7110025429999, -42.3536921429999 -22.710763807, -42.3535312509999 -22.710611585, -42.3533703589999 -22.7104593629999, -42.352989033 -22.710183432, -42.352661239 -22.710156116, -42.352129509 -22.7101235609999, -42.351109456 -22.7102320779999, -42.351010811 -22.710239873, -42.347763183 -22.7104965249999, -42.3458789709999 -22.710785511, -42.345282131 -22.7107312529999, -42.3447018259999 -22.7104078039999, -42.344620182 -22.710362297, -42.3419289779999 -22.708409004, -42.34121277 -22.707920681, -42.340930628 -22.70751917, -42.3409740339999 -22.707095957, -42.340290382 -22.7065642269999, -42.339606729 -22.706488266, -42.339498213 -22.7063092139999, -42.339530768 -22.7061627169999, -42.339259477 -22.7060650519999, -42.339020741 -22.7060650519999, -42.338684341 -22.7065750789999, -42.3385215659999 -22.706743279, -42.338369643 -22.7066781689999, -42.338353366 -22.7065533749999, -42.338163462 -22.7064557109999, -42.337941004 -22.7065045429999, -42.3376859909999 -22.7066510399999, -42.3374798099999 -22.7065750789999, -42.3372953319999 -22.7064177299999, -42.337463532 -22.706287511, -42.337534068 -22.70611931, -42.33764801 -22.7059402579999, -42.3374906609999 -22.705761207, -42.3368395639999 -22.705565877, -42.33648146 -22.705674394, -42.335721846 -22.7056092839999, -42.335363742 -22.705576729, -42.3352118189999 -22.7057177999999, -42.334973084 -22.7057286519999, -42.334777754 -22.705489916, -42.334587851 -22.705213199, -42.334574588 -22.7050834359999, -42.334354541 -22.7049690379999, -42.334104953 -22.7049581859999, -42.333931327 -22.704746579, -42.3338390879999 -22.704621786, -42.3336274819999 -22.704556676, -42.3335677979999 -22.7046272109999, -42.3335895009999 -22.7047031729999, -42.3334538559999 -22.7047628569999, -42.3333724679999 -22.7047357279999, -42.333280229 -22.704572953, -42.3331391579999 -22.7045078429999, -42.33290661 -22.704555124, -42.331929202 -22.7042853849999, -42.3317772789999 -22.7041388879999, -42.331663337 -22.7037916359999, -42.3313703429999 -22.7032056479999, -42.3310773489999 -22.702717325, -42.3310068129999 -22.7024297569999, -42.330957981 -22.7021259109999, -42.330312309 -22.700991916, -42.330078999 -22.7005578509999, -42.330049157 -22.700468325, -42.330038305 -22.700308263, -42.330068147 -22.700077666, -42.330125118 -22.6997521169999, -42.330211931 -22.6994672619999, -42.3302878929999 -22.699296349, -42.3303774189999 -22.699152565, -42.330477796 -22.6990114929999, -42.3305239159999 -22.698900264, -42.330515777 -22.698734777, -42.330480509 -22.6984770509999, -42.330461519 -22.698246454, -42.330461519 -22.6980077179999, -42.3304832219999 -22.697787972, -42.330507638 -22.697378323, -42.3305320539999 -22.697237252, -42.330591738 -22.697098894, -42.330705681 -22.6969605359999, -42.33077079 -22.696854732, -42.330781642 -22.696765206, -42.3307653649999 -22.696545461, -42.3307639669999 -22.696327539, -42.330820941 -22.6960944639999, -42.330898632 -22.6959235429999, -42.330914171 -22.6957578, -42.330774326 -22.695498829, -42.33063966 -22.695353804, -42.330427303 -22.695131088, -42.3303029969999 -22.694954987, -42.3302253049999 -22.694711554, -42.330189049 -22.694499197, -42.3301910499999 -22.6940693609999, -42.330137255 -22.6939553559999, -42.3300181279999 -22.693810331, -42.329867924 -22.693577256, -42.329826488 -22.6934166939999, -42.329836847 -22.6932975669999, -42.329795412 -22.6931887989999, -42.329691823 -22.692997159, -42.329598593 -22.69280552, -42.32953644 -22.692593163, -42.329476703 -22.6923053209999, -42.3294263679999 -22.691952977, -42.329174693 -22.691708493, -42.3288511119999 -22.691478391, -42.328635391 -22.6914640099999, -42.328426861 -22.6914855819999, -42.328146423 -22.691233907, -42.3278300329999 -22.691003805, -42.3266651389999 -22.68972386, -42.325219809 -22.688163479, -42.3239973899999 -22.686782864, -42.3237313339999 -22.686380185, -42.323537185 -22.6858912169999, -42.323320028 -22.6852075739999, -42.3233015549999 -22.68514942, -42.323219615 -22.684891459, -42.323151695 -22.684677639, -42.3230226119999 -22.6842712669999, -42.323016481 -22.6842519649999, -42.3229987839999 -22.684196253, -42.3229860329999 -22.6841561109999, -42.322983376 -22.6841477469999, -42.3229818799999 -22.684143037, -42.3229782079999 -22.6841314759999, -42.322975028 -22.6841214639999, -42.322964602 -22.684088641, -42.322954738 -22.684057589, -42.32295254 -22.684050659, -42.322935957 -22.683998371, -42.322902257 -22.683892117, -42.3228749699999 -22.68380608, -42.322843044 -22.6837054179999, -42.322574107 -22.682857457, -42.322041408 -22.681177853, -42.3216397259999 -22.6799113499999, -42.3216388399999 -22.6799085559999, -42.321580399 -22.679684906, -42.321540302 -22.6795314579999, -42.321505438 -22.6793980369999, -42.321454734 -22.6792039969999, -42.321344752 -22.6787831029999, -42.3212998029999 -22.678611084, -42.321273801 -22.678511579, -42.3212602409999 -22.6784596859999, -42.321104396 -22.677863276, -42.3209559479999 -22.6772951789999, -42.3209483589999 -22.677266136, -42.3209396249999 -22.6772327099999, -42.320891006 -22.677046651, -42.3208378799999 -22.6767917679999, -42.3208371229999 -22.6767881339999, -42.3207580059999 -22.676408556, -42.3207170119999 -22.676211877, -42.320676336 -22.676016728, -42.3206100899999 -22.675698897, -42.3205773839999 -22.6755419839999, -42.320461552 -22.674986256, -42.320415695 -22.6747662499999, -42.3203887619999 -22.674637032, -42.320333159 -22.674370269, -42.32026402 -22.674038557, -42.3202623349999 -22.674030477, -42.3202201129999 -22.6738279049999, -42.3201976629999 -22.6737201999999, -42.3201446849999 -22.673466025, -42.320136012 -22.673424417, -42.320095973 -22.673232319, -42.319993906 -22.672742635, -42.3198098029999 -22.6718593649999, -42.3197959409999 -22.671792856, -42.319757194 -22.6716069619999, -42.3195373469999 -22.6705522029999, -42.319387198 -22.6698318329999, -42.319235632 -22.669104665, -42.319150786 -22.668697601, -42.3188747099999 -22.6673730699999, -42.3187922779999 -22.666977586, -42.318787126 -22.6669528699999, -42.318750969 -22.6667793989999, -42.3186644309999 -22.6663642139999, -42.3186403089999 -22.666248485, -42.318596895 -22.666040198, -42.318578623 -22.665952535, -42.3185704049999 -22.665913111, -42.318565619 -22.665890147, -42.318512213 -22.6656339199999, -42.3185036359999 -22.665592772, -42.3184421939999 -22.665297989, -42.318401723 -22.665103824, -42.318306127 -22.6646451839999, -42.318303992 -22.6646349389999, -42.3181844759999 -22.66406154, -42.318104293 -22.663676844, -42.318055837 -22.66344437, -42.318040078 -22.66336876, -42.318038853 -22.663362885, -42.318038459 -22.663360992, -42.31802756 -22.6633087019999, -42.317995055 -22.663152754, -42.317989327 -22.663125274, -42.317974176 -22.663052582, -42.3179668239999 -22.6630173089999, -42.3179547239999 -22.662959257, -42.317926009 -22.6628214909999, -42.317911103 -22.6627499759999, -42.3178918949999 -22.6626578249999, -42.317889705 -22.662647315, -42.3178841669999 -22.662620746, -42.317883888 -22.6626194099999, -42.317871995 -22.662562351, -42.317839345 -22.662405706, -42.317838637 -22.6624023049999, -42.3178220999999 -22.662322967, -42.317745518 -22.6619555509999, -42.317718885 -22.661827773, -42.3176675399999 -22.6615814369999, -42.3176412949999 -22.661455519, -42.3176079419999 -22.661295502, -42.3175667849999 -22.661098044, -42.317527839 -22.6609111929999, -42.317387407 -22.660237444, -42.317335149 -22.6599867269999, -42.317334095 -22.6599816689999, -42.3173281539999 -22.659953168, -42.3170796759999 -22.658761042, -42.316905393 -22.6579248859999, -42.316898782 -22.657893169, -42.316894179 -22.6578710859999, -42.3168876939999 -22.6578399709999, -42.316880747 -22.657806643, -42.3168760299999 -22.657784013, -42.316875646 -22.65778217, -42.31687521 -22.6577800759999, -42.3168747989999 -22.657778107, -42.3168701989999 -22.6577560379999, -42.316868035 -22.6577456539999, -42.316866929 -22.6577411769999, -42.3168622659999 -22.65772229, -42.3168570729999 -22.657701259, -42.316845725 -22.657655298, -42.316792181 -22.6574384469999, -42.316759162 -22.657304723, -42.3167164769999 -22.657131853, -42.3165769199999 -22.656566652, -42.3165356919999 -22.656399678, -42.316452028 -22.656060843, -42.3164515559999 -22.65605893, -42.31644542 -22.656034083, -42.316269377 -22.655321117, -42.3160380589999 -22.6543842849999, -42.316037052 -22.654380209, -42.3159999339999 -22.6542298799999, -42.315961903 -22.6540758579999, -42.315936267 -22.6539720339999, -42.3159280739999 -22.6539388539999, -42.315922219 -22.65391514, -42.3159217899999 -22.6539134019999, -42.3159213 -22.653911416, -42.315865287 -22.6536845689999, -42.315762241 -22.6532672339999, -42.3155982219999 -22.652602966, -42.3155689009999 -22.6524842179999, -42.315338985 -22.651553065, -42.3152521609999 -22.651201435, -42.31512366 -22.6506810119999, -42.314980975 -22.650103143, -42.314980056 -22.6500994199999, -42.3144601349999 -22.6479937619999, -42.3144365159999 -22.6479421569999, -42.3143727099999 -22.647802742, -42.3143194309999 -22.6476863299999, -42.3143150399999 -22.647676737, -42.3142974429999 -22.6476382889999, -42.314150291 -22.6473167689999, -42.3140886319999 -22.6471820469999, -42.3140517749999 -22.647101515, -42.314050481 -22.647098687, -42.313988546 -22.646963362, -42.3138633309999 -22.646689774, -42.313726037 -22.646389794, -42.3135397629999 -22.645982794, -42.313490406 -22.6458749519999, -42.313379668 -22.645632995, -42.3133690729999 -22.645609846, -42.313245132 -22.645339039, -42.3126705179999 -22.644083536, -42.312666489 -22.644074733, -42.312389068 -22.643468582, -42.3122985749999 -22.6432708579999, -42.312218614 -22.643141154, -42.3119408329999 -22.6426910059999, -42.311894057 -22.642615206, -42.3112956539999 -22.6416454879999, -42.311232994 -22.641543946, -42.3109321229999 -22.641056383, -42.310698406 -22.640677641, -42.3106090329999 -22.640532811, -42.310571844 -22.640472546, -42.310564439 -22.6404605459999, -42.310500422 -22.6403568059999, -42.310398381 -22.6401914479999, -42.310373886 -22.6401517539999, -42.3103514969999 -22.6401154719999, -42.3103429459999 -22.6401016139999, -42.310034613 -22.639601957, -42.3099813499999 -22.6395156469999, -42.30998032 -22.6395144369999, -42.3098888439999 -22.639407052, -42.3089668599999 -22.638324723, -42.308901019 -22.638247431, -42.3087777069999 -22.638102674, -42.30865039 -22.637953215, -42.3083182139999 -22.6375632699999, -42.30829404 -22.6375348899999, -42.3082627479999 -22.6374981559999, -42.307846674 -22.6370097229999, -42.307453557 -22.6365482369999, -42.3071960189999 -22.636245909, -42.307194478 -22.6362441009999, -42.307048798 -22.636073085, -42.306896998 -22.635894885, -42.306516211 -22.635447875, -42.306306305 -22.6352014629999, -42.305987909 -22.634827693, -42.305648353 -22.634429085, -42.304669195 -22.633279638, -42.304235236 -22.632770208, -42.30409467 -22.6326051949999, -42.3038602349999 -22.63232999, -42.301861661 -22.6299838369999, -42.3018540589999 -22.629974913, -42.301844858 -22.629964112, -42.301838462 -22.629956604, -42.301456846 -22.62950862, -42.301353687 -22.62938752, -42.29547687 -22.6238233, -42.28891234 -22.619259389, -42.286411567 -22.617665146, -42.283910794 -22.616070903, -42.2811456599999 -22.6143870069999, -42.280163649 -22.6085136889999, -42.27786157 -22.607179569, -42.276152058 -22.6058948519999, -42.275426782 -22.605624012, -42.2743887789999 -22.605568918, -42.273954692 -22.605528261, -42.2734363229999 -22.605479708, -42.272769619 -22.605483087, -42.2721301939999 -22.605720178, -42.2710198239999 -22.606164539, -42.26828082 -22.606677297, -42.2663330149999 -22.607193294, -42.264567327 -22.607435982, -42.263509825 -22.6075813209999, -42.262783207 -22.607692926, -42.2624527729999 -22.607615149, -42.262272212 -22.607605426, -42.261889561 -22.607757131, -42.261562431 -22.607952568, -42.261181176 -22.6080337079999, -42.2609903329999 -22.608077747, -42.260560831 -22.6081699769999, -42.260505279 -22.6081817539999, -42.2601944269999 -22.6082571429999, -42.2598672899999 -22.608393903, -42.259567681 -22.6086427019999, -42.259434958 -22.6089034689999, -42.259332365 -22.609267652, -42.2592276309999 -22.6096270159999, -42.259323982 -22.6100289899999, -42.2593211889999 -22.610410224, -42.259045231 -22.610691742, -42.258638182 -22.6107788419999, -42.2582320659999 -22.610902242, -42.25782043 -22.610970578, -42.257408814 -22.6109153369999, -42.2569925189999 -22.6108852899999, -42.256568208 -22.610896629, -42.2561628619999 -22.610946833, -42.255741912 -22.610916162, -42.255338159 -22.6109497809999, -42.2551176109999 -22.6112508329999, -42.25508981 -22.611612953, -42.2548240899999 -22.611882721, -42.2544349149999 -22.611882199, -42.2544304259999 -22.6118814779999, -42.254238953 -22.6118507699999, -42.25385962 -22.611717003, -42.2534675319999 -22.6116722859999, -42.2531240239999 -22.6116487799999, -42.253078509 -22.611629878, -42.252765129 -22.6114112139999, -42.252659087 -22.6110477949999, -42.252269253 -22.6109485059999, -42.2519847369999 -22.611204948, -42.251591877 -22.611204083, -42.251193465 -22.6110912839999, -42.250892409 -22.610981597, -42.2505229609999 -22.610849705, -42.2504038439999 -22.610836019, -42.250311172 -22.6108810069999, -42.250291826 -22.610890695, -42.250204574 -22.610931986, -42.250113814 -22.6110372119999, -42.2500800719999 -22.611140168, -42.250038842 -22.6115119849999, -42.250044322 -22.6118914629999, -42.249949913 -22.612243593, -42.249779377 -22.612590898, -42.249477489 -22.61283079, -42.2491198349999 -22.613019718, -42.2487319269999 -22.6130726389999, -42.248254661 -22.613082144, -42.247866271 -22.61305183, -42.2478420649999 -22.61304681, -42.2475470909999 -22.6130076269999, -42.24714447 -22.612901064, -42.247010766 -22.612833778, -42.246728678 -22.612572314, -42.24649797 -22.61226461, -42.246293464 -22.611949685, -42.2459320209999 -22.611762588, -42.245719806 -22.611741974, -42.2454984299999 -22.6114393949999, -42.245244665 -22.611142489, -42.2450617219999 -22.610794625, -42.24484618 -22.6104531509999, -42.244612877 -22.6101491929999, -42.244308802 -22.6098792239999, -42.243988572 -22.609654016, -42.243687902 -22.6094083839999, -42.243658153 -22.609383953, -42.2433463249999 -22.6091665619999, -42.242956691 -22.60902871, -42.242548348 -22.6089319669999, -42.242255277 -22.6089880379999, -42.2421177489999 -22.609088395, -42.242020794 -22.6091920659999, -42.241810357 -22.609521163, -42.241624126 -22.6097479549999, -42.2414300359999 -22.6098813679999, -42.241270449 -22.609961668, -42.240989815 -22.610022823, -42.240896284 -22.6099694019999, -42.240878408 -22.6099298299999, -42.2408663969999 -22.6098642709999, -42.240864952 -22.6098343689999, -42.2410104309999 -22.6094817699999, -42.241049253 -22.609109916, -42.241056304 -22.608732189, -42.2410258109999 -22.608345603, -42.240928636 -22.607987657, -42.240737016 -22.607661213, -42.240517887 -22.607583067, -42.240412147 -22.6075813369999, -42.2400126219999 -22.607652, -42.239907097 -22.6076979339999, -42.239554111 -22.6078966699999, -42.239184463 -22.608072915, -42.2387967939999 -22.608124281, -42.238360826 -22.608145479, -42.237982791 -22.6082352829999, -42.23793724 -22.608257335, -42.2376528299999 -22.608522239, -42.237392222 -22.6087976589999, -42.2373391469999 -22.608904341, -42.237149287 -22.609234597, -42.2368040429999 -22.6094055679999, -42.2364586149999 -22.6093327309999, -42.236307267 -22.6089764669999, -42.236142194 -22.608640548, -42.236031311 -22.6085507189999, -42.2358151349999 -22.608485435, -42.2355316119999 -22.6084334299999, -42.235311817 -22.608379003, -42.2350592719999 -22.6082996399999, -42.234789295 -22.60807104, -42.2346973699999 -22.6076944979999, -42.2346038869999 -22.6073423899999, -42.234445222 -22.607011996, -42.23432582 -22.606643463, -42.234423056 -22.6062731599999, -42.2344937839999 -22.6061782479999, -42.234647856 -22.606086849, -42.234821224 -22.6060902899999, -42.2351511909999 -22.6062941079999, -42.235281544 -22.60638734, -42.2356608119999 -22.6065468739999, -42.2360746419999 -22.606592097, -42.236443024 -22.6065278569999, -42.2365315119999 -22.606449046, -42.2365809029999 -22.6063223539999, -42.236566952 -22.606217768, -42.236514324 -22.606107552, -42.236347569 -22.6058801899999, -42.2361810479999 -22.605534136, -42.2361208039999 -22.605367192, -42.235997201 -22.6051697299999, -42.2356627889999 -22.6049889449999, -42.235276523 -22.6049462729999, -42.23486199 -22.6048975159999, -42.234429593 -22.604852513, -42.234035682 -22.6047838, -42.233641459 -22.6047015409999, -42.233239598 -22.6046269129999, -42.23283321 -22.604579374, -42.232495144 -22.604396895, -42.2323823679999 -22.6040424679999, -42.2325359929999 -22.6038534049999, -42.232633141 -22.6037338479999, -42.23298576 -22.603553264, -42.233303443 -22.6033356099999, -42.2335477399999 -22.603029765, -42.233745729 -22.6027158109999, -42.233995485 -22.602399407, -42.234246953 -22.6020897129999, -42.234511141 -22.601780688, -42.234889489 -22.601635475, -42.235278243 -22.601660228, -42.2355974709999 -22.601904749, -42.2359824219999 -22.602022587, -42.2360987279999 -22.601670483, -42.236004744 -22.6013142149999, -42.236034128 -22.600952943, -42.236189066 -22.600608634, -42.2364778629999 -22.600317994, -42.23675909 -22.6000510499999, -42.237113133 -22.599886097, -42.2374743729999 -22.599745275, -42.2377983169999 -22.5995443269999, -42.2378436719999 -22.599512432, -42.2378734279999 -22.59945355, -42.2376226119999 -22.5991617399999, -42.237263465 -22.5990177219999, -42.236943998 -22.598795045, -42.236656748 -22.59853149, -42.236430835 -22.5985261549999, -42.2363145649999 -22.598891258, -42.236315815 -22.5989162839999, -42.236276678 -22.599293818, -42.236065127 -22.599610792, -42.2356779529999 -22.599716411, -42.235285319 -22.599749813, -42.2348895759999 -22.599754006, -42.234490921 -22.599738471, -42.234098205 -22.599669057, -42.233887473 -22.5996093709999, -42.233708307 -22.5994684469999, -42.233689859 -22.5994138799999, -42.2336812949999 -22.599341431, -42.23368908 -22.59923406, -42.2338003529999 -22.5988809689999, -42.2339354649999 -22.598789333, -42.233916769 -22.5986693199999, -42.2337203989999 -22.598460313, -42.2333954969999 -22.598247285, -42.2330353639999 -22.598075168, -42.232999934 -22.5980725709999, -42.232690804 -22.598072295, -42.232514748 -22.5981210699999, -42.232321241 -22.5981675579999, -42.232183977 -22.598191819, -42.2317790619999 -22.5982270769999, -42.2313839249999 -22.598152652, -42.2309862929999 -22.598071773, -42.230553442 -22.597972865, -42.2301457249999 -22.5978908179999, -42.229882032 -22.597825518, -42.229501302 -22.597696818, -42.2291149169999 -22.5975301989999, -42.2287882529999 -22.597327961, -42.228489606 -22.5970762919999, -42.228361929 -22.5969957369999, -42.2279786629999 -22.596916184, -42.227582518 -22.596848682, -42.227173724 -22.596772115, -42.22678758 -22.596647106, -42.2266422609999 -22.596598018, -42.226452002 -22.596550378, -42.22605579 -22.596413673, -42.225834514 -22.5962888019999, -42.225673676 -22.595947171, -42.225660545 -22.59577788, -42.2258049019999 -22.5954191389999, -42.2260463009999 -22.5952335769999, -42.226332639 -22.595153318, -42.2267289649999 -22.59510962, -42.22713687 -22.5950895889999, -42.22754065 -22.5949892419999, -42.2276564969999 -22.59496633, -42.2280161469999 -22.594768727, -42.2280785519999 -22.5946961499999, -42.2282728119999 -22.594437198, -42.2283452089999 -22.594103568, -42.228126338 -22.593989377, -42.2281165329999 -22.5939842609999, -42.227954811 -22.5940164899999, -42.2278404049999 -22.5940499879999, -42.227587421 -22.594105643, -42.2274848919999 -22.594118855, -42.2273756929999 -22.5941253629999, -42.227081206 -22.593986684, -42.2269555509999 -22.593630768, -42.2269145889999 -22.593327044, -42.226913031 -22.592934279, -42.2269638069999 -22.592389329, -42.226965719 -22.592372516, -42.2270608169999 -22.592117867, -42.227086678 -22.592059461, -42.2272673059999 -22.591714253, -42.227330899 -22.5915823029999, -42.227404532 -22.591264581, -42.227444029 -22.591015593, -42.2274447729999 -22.591010991, -42.227445028 -22.591009382, -42.2275035019999 -22.590647711, -42.227571812 -22.590260846, -42.2276354159999 -22.5899273649999, -42.227472102 -22.589697977, -42.227254745 -22.589625327, -42.2268600209999 -22.589771906, -42.2266083609999 -22.5903623419999, -42.2263364619999 -22.5915077499999, -42.225887969 -22.5921945709999, -42.225381469 -22.5925282499999, -42.2247026859999 -22.592588109, -42.224229709 -22.5924886889999, -42.223845433 -22.592290213, -42.223246552 -22.5917967309999, -42.222668536 -22.5912762209999, -42.221982006 -22.591017296, -42.22129451 -22.591024449, -42.2206916929999 -22.590976687, -42.220362383 -22.590677327, -42.220101578 -22.590243561, -42.2197240089999 -22.590024985, -42.219349845 -22.5899526749999, -42.219028274 -22.5899857319999, -42.21875775 -22.590057674, -42.2185730969999 -22.590433865, -42.2185360409999 -22.5906229039999, -42.218437663 -22.5909456859999, -42.218312504 -22.5912337139999, -42.2183181349999 -22.591412985, -42.2183037029999 -22.591511934, -42.2183382159999 -22.591888932, -42.218446957 -22.5923113539999, -42.218717318 -22.59297521, -42.2187445019999 -22.5930419589999, -42.218721677 -22.5932634329999, -42.2185343429999 -22.5934479329999, -42.2183295729999 -22.5935809539999, -42.218228779 -22.593570722, -42.2181560029999 -22.593535249, -42.218112366 -22.593423559, -42.217985519 -22.5933360609999, -42.2178404049999 -22.593248156, -42.217670464 -22.593229865, -42.217624841 -22.5931154319999, -42.2175260139999 -22.592988072, -42.217358933 -22.592561503, -42.217279791 -22.5923594499999, -42.217246663 -22.5921796119999, -42.217288713 -22.591915779, -42.217347242 -22.5917461069999, -42.2174609419999 -22.591568815, -42.217556202 -22.5913997769999, -42.217581794 -22.591248489, -42.217536762 -22.5909983989999, -42.2174490689999 -22.590805701, -42.217404871 -22.590760615, -42.217314884 -22.590725478, -42.2171545699999 -22.5906975139999, -42.217065017 -22.5907085069999, -42.21687051 -22.5907905239999, -42.216639884 -22.5908462789999, -42.216388896 -22.590928489, -42.2163115229999 -22.5909814849999, -42.216182631 -22.591053807, -42.216073361 -22.591107424, -42.215983202 -22.591172655, -42.215852131 -22.5912276079999, -42.2155451039999 -22.591399109, -42.215375523 -22.5916094579999, -42.21536141 -22.5918567149999, -42.215395051 -22.5920109269999, -42.215655984 -22.5922800179999, -42.215745483 -22.5923925929999, -42.215771021 -22.592495395, -42.2156953269999 -22.592605017, -42.215565907 -22.592645465, -42.215447094 -22.592617769, -42.215376033 -22.5924971169999, -42.2152333239999 -22.5922898329999, -42.215082415 -22.5920311369999, -42.2148336339999 -22.591617205, -42.214660425 -22.591321926, -42.214435839 -22.5909906429999, -42.214256733 -22.590661398, -42.214248363 -22.590646013, -42.214240936 -22.590628593, -42.2141043939999 -22.5903083659999, -42.213949429 -22.5899664679999, -42.213837634 -22.589619269, -42.213791508 -22.589192064, -42.213815521 -22.588786296, -42.213916484 -22.588430606, -42.2141039329999 -22.5880761449999, -42.2143544629999 -22.58776051, -42.214507053 -22.5874654469999, -42.2145516859999 -22.5873791409999, -42.214695384 -22.5870829529999, -42.214733935 -22.586845003, -42.214758425 -22.5866938369999, -42.214734483 -22.586511811, -42.214673762 -22.586331496, -42.214610979 -22.5862709149999, -42.214327064 -22.586032334, -42.214231178 -22.585965378, -42.214086758 -22.5858434539999, -42.2137212759999 -22.585751721, -42.213593408 -22.5857153819999, -42.2133379429999 -22.5856341329999, -42.212900033 -22.5854899619999, -42.212717512 -22.5854356149999, -42.2127060939999 -22.585085464, -42.2125934709999 -22.5847507079999, -42.212453425 -22.5844069, -42.212247781 -22.584076937, -42.212026201 -22.5838746219999, -42.2119463619999 -22.5838017249999, -42.211721928 -22.583796744, -42.211295956 -22.5839770919999, -42.210988689 -22.584001902, -42.210561459 -22.5838828239999, -42.2105444429999 -22.583878286, -42.2103970909999 -22.583834655, -42.210078197 -22.5836781209999, -42.210052424 -22.583665471, -42.209697196 -22.583509098, -42.2093567699999 -22.583343672, -42.2092527729999 -22.583293136, -42.2089817039999 -22.583075041, -42.2088285799999 -22.582927237, -42.208630526 -22.58272756, -42.2085257699999 -22.582461177, -42.208479993 -22.582207458, -42.208460897 -22.5821016159999, -42.2084784909999 -22.581908757, -42.208493318 -22.581858838, -42.208590381 -22.581532049, -42.208726328 -22.5811674029999, -42.2085740649999 -22.5809770079999, -42.208327745 -22.580895912, -42.208097381 -22.5809346, -42.207775106 -22.5811737889999, -42.2077039719999 -22.581438106, -42.2076681739999 -22.5814684429999, -42.2074779659999 -22.581598002, -42.207042078 -22.5818122859999, -42.2067167929999 -22.582002949, -42.206500831 -22.582238208, -42.206358672 -22.582457602, -42.206242558 -22.5827542599999, -42.206190776 -22.582953099, -42.206182816 -22.5829836619999, -42.2060802139999 -22.58305869, -42.205786998 -22.583027952, -42.205682591 -22.5827445149999, -42.205623432 -22.582487499, -42.205536875 -22.582229916, -42.2053128819999 -22.5819528829999, -42.2049872439999 -22.581708287, -42.204601806 -22.5815467749999, -42.204393126 -22.5814212879999, -42.204268477 -22.581379942, -42.2041882039999 -22.5813455979999, -42.2039835749999 -22.5812698239999, -42.2035947109999 -22.5810951619999, -42.2033782299999 -22.580903645, -42.203307187 -22.5807828989999, -42.203337539 -22.5806468599999, -42.203428807 -22.580512153, -42.203489696 -22.5803849499999, -42.203574353 -22.580283978, -42.2037591979999 -22.580227532, -42.2040718059999 -22.5802073419999, -42.2041308619999 -22.5802382479999, -42.204189917 -22.580269154, -42.2042963119999 -22.580458752, -42.204437787 -22.580725776, -42.204599101 -22.5809249069999, -42.204752909 -22.581038518, -42.204916883 -22.581101127, -42.2050185269999 -22.581068688, -42.2050845709999 -22.5809845379999, -42.2051256789999 -22.5807633869999, -42.2052154089999 -22.580647066, -42.2053288129999 -22.5805520979999, -42.2055309629999 -22.5802498049999, -42.205607174 -22.5801145639999, -42.205659579 -22.5797911609999, -42.2056163 -22.579662415, -42.2054496389999 -22.579275445, -42.205388371 -22.578940842, -42.205300909 -22.5783129829999, -42.2052357969999 -22.57786534, -42.2051567 -22.5774770419999, -42.205070411 -22.5771318879999, -42.2048906439999 -22.5769880739999, -42.2045886339999 -22.5768874039999, -42.2043081969999 -22.5767939249999, -42.2040512679999 -22.5766775339999, -42.203912709 -22.576470344, -42.20382642 -22.57612519, -42.203711369 -22.5759022789999, -42.20351003 -22.575787227, -42.2031864479999 -22.5756937479999, -42.202862867 -22.5755930779999, -42.2026759079999 -22.5754564549999, -42.202524904 -22.5751832089999, -42.2024386149999 -22.574931534, -42.202316373 -22.5748452459999, -42.20207908 -22.574723004, -42.201863359 -22.57468705, -42.201741117 -22.574751767, -42.201604494 -22.5749099619999, -42.2014534899999 -22.5750178229999, -42.2012737219999 -22.575104111, -42.200993285 -22.575111302, -42.2008602569999 -22.575140064, -42.2007272289999 -22.575168827, -42.2004827449999 -22.575269497, -42.20033174 -22.575413311, -42.2002454519999 -22.5755930779999, -42.200238261 -22.5757728459999, -42.200094447 -22.575895088, -42.199864345 -22.5759669949999, -42.1996989589999 -22.5758663249999, -42.1995263819999 -22.575823181, -42.199375377 -22.5758663249999, -42.1992890889999 -22.575995758, -42.1992993439999 -22.576184503, -42.1993681869999 -22.5763768649999, -42.199310661 -22.5765494419999, -42.1991884189999 -22.576772353, -42.1989914449999 -22.5768311419999, -42.1987785489999 -22.5767939249999, -42.1985844 -22.5766141579999, -42.198483731 -22.576362483, -42.1983039629999 -22.5762474319999, -42.198045098 -22.575887897, -42.197901284 -22.5755643159999, -42.197843758 -22.575190399, -42.197850949 -22.574830864, -42.197886903 -22.574550427, -42.1979228559999 -22.574385041, -42.197980382 -22.574075841, -42.197841102 -22.573919303, -42.197714326 -22.5738529289999, -42.197577703 -22.5739607899999, -42.197390744 -22.5742268459999, -42.197196595 -22.5744929009999, -42.196952112 -22.574586381, -42.196786726 -22.574485711, -42.1966213389999 -22.5743347059999, -42.196585386 -22.574111794, -42.196635721 -22.573874501, -42.196750772 -22.57365878, -42.196995256 -22.5733064359999, -42.197067163 -22.573198576, -42.1970458449999 -22.5730509429999, -42.196948516 -22.57293971, -42.196808298 -22.5729037569999, -42.196596067 -22.572957604, -42.196434381 -22.573119478, -42.196240232 -22.573493394, -42.196024511 -22.5736515899999, -42.1958447439999 -22.5736084449999, -42.1956649759999 -22.573428678, -42.1956074509999 -22.573227338, -42.195614642 -22.5729684729999, -42.1956649759999 -22.572702417, -42.195866316 -22.5722494029999, -42.196168325 -22.5718035799999, -42.196441572 -22.571587859, -42.196606958 -22.5713865189999, -42.1966572929999 -22.5710917009999, -42.196614149 -22.5708544079999, -42.196276186 -22.5706818309999, -42.1957728369999 -22.570523635, -42.195456446 -22.5704661099999, -42.195269488 -22.5705739699999, -42.1950609579999 -22.570789691, -42.1948811899999 -22.5711851799999, -42.1947537959999 -22.5714658439999, -42.1945791809999 -22.5715950499999, -42.194456939 -22.5715303329999, -42.1944066039999 -22.5713218029999, -42.1944713199999 -22.5710126029999, -42.194665469 -22.570653068, -42.194830855 -22.5703007239999, -42.194895572 -22.569912426, -42.194838046 -22.569567272, -42.1948236649999 -22.569358742, -42.1946151339999 -22.569092686, -42.194399413 -22.56902797, -42.194147739 -22.5689704439999, -42.1939394469999 -22.568955404, -42.1936587709999 -22.568941681, -42.193407097 -22.568855393, -42.193256092 -22.56871877, -42.193198567 -22.5685533839999, -42.193306427 -22.5684167599999, -42.193680343 -22.568093179, -42.1939679709999 -22.567848695, -42.19407491 -22.5675691169999, -42.1941045949999 -22.567352537, -42.194075832 -22.5671655789999, -42.193939209 -22.5668851409999, -42.193910446 -22.56666942, -42.19385292 -22.5664033649999, -42.1936947249999 -22.566180453, -42.1935221479999 -22.5661013549999, -42.1933855249999 -22.5661373089999, -42.1932129479999 -22.566309885, -42.193069134 -22.566554369, -42.192709599 -22.566791662, -42.192472306 -22.5669282859999, -42.1921559149999 -22.5670217649999, -42.1920264829999 -22.566935476, -42.19199772 -22.566791662, -42.1920768169999 -22.5666047039999, -42.192278157 -22.566281123, -42.192436352 -22.5658568709999, -42.192472306 -22.565403857, -42.1924938779999 -22.56502275, -42.192371636 -22.564267727, -42.1922637759999 -22.563663708, -42.192242204 -22.5630596889999, -42.192278157 -22.562628247, -42.1922637759999 -22.562390954, -42.192112771 -22.562160852, -42.1918395239999 -22.562081754, -42.191530324 -22.561981084, -42.1911923609999 -22.5616646939999, -42.1911348359999 -22.56152807, -42.1912283149999 -22.5614130189999, -42.19148718 -22.561362684, -42.191731664 -22.561448973, -42.191889859 -22.561341112, -42.1920911989999 -22.560931242, -42.1921846779999 -22.5605932789999, -42.19240759 -22.560233744, -42.192688027 -22.559996451, -42.1928749849999 -22.5598526369999, -42.192889366 -22.559698037, -42.192853413 -22.5595721999999, -42.1928102689999 -22.559489507, -42.19271679 -22.5594355769999, -42.192644883 -22.559191093, -42.1926376919999 -22.5589897529999, -42.192853413 -22.5587596509999, -42.192991977 -22.5586364829999, -42.1930475619999 -22.5585870739999, -42.193097897 -22.55843607, -42.1930403709999 -22.5582059669999, -42.192889366 -22.557947102, -42.1926664549999 -22.5577385719999, -42.19241478 -22.5575875669999, -42.192279738 -22.5575470549999, -42.1920552449999 -22.557479707, -42.191816525 -22.5573780289999, -42.191666948 -22.5573143199999, -42.191242696 -22.557299939, -42.191012594 -22.5573862269999, -42.1908831609999 -22.55751566, -42.190861589 -22.557774525, -42.190919115 -22.558054962, -42.1909263059999 -22.5581772039999, -42.190899131 -22.558258727, -42.1908831609999 -22.5583066369999, -42.1907904239999 -22.5583630859999, -42.1907177749999 -22.558407307, -42.1903510499999 -22.558220349, -42.190063247 -22.557804495, -42.189804556 -22.557609139, -42.189409068 -22.557501279, -42.189135821 -22.557551614, -42.189056724 -22.557702618, -42.1888086449999 -22.5577565479999, -42.188689998 -22.557918339, -42.188438323 -22.557788907, -42.188352035 -22.557537232, -42.188538993 -22.5571201719999, -42.188654044 -22.5565736779999, -42.188659189 -22.5561872179999, -42.187834305 -22.555897753, -42.187378786 -22.555694439, -42.1869232679999 -22.5554911259999, -42.186521275 -22.555414932, -42.186869745 -22.5551512239999, -42.18719938 -22.554915771, -42.187425415 -22.554708572, -42.187411288 -22.554581427, -42.1872935609999 -22.554463701, -42.187067526 -22.5543553919999, -42.186370585 -22.554134066, -42.186177513 -22.5540587209999, -42.1859561869999 -22.554030467, -42.185833751 -22.55396454, -42.1857584059999 -22.553832686, -42.185767825 -22.553620779, -42.1858949689999 -22.553484216, -42.186116295 -22.55346538, -42.186309367 -22.5533947439999, -42.186436511 -22.5532581809999, -42.186558947 -22.5529568009999, -42.186563656 -22.5528014019999, -42.1865042109999 -22.5526446709999, -42.186417675 -22.5524717669999, -42.186257567 -22.5523681679999, -42.186121004 -22.552387004, -42.1859793319999 -22.552371933, -42.185859734 -22.552329221, -42.18543819 -22.5519678979999, -42.185282791 -22.5518124979999, -42.1853269389999 -22.5516249739999, -42.1854570259999 -22.551492282, -42.1855982979999 -22.5514687369999, -42.18587078 -22.55152228, -42.186121004 -22.551633554, -42.1863517479999 -22.55165239, -42.186521275 -22.551544082, -42.1865354019999 -22.5513745559999, -42.1864459299999 -22.5511673569999, -42.1861445499999 -22.5509789939999, -42.1859467689999 -22.55085185, -42.1857018979999 -22.5507717959999, -42.1854570259999 -22.5507152869999, -42.185183901 -22.55080005, -42.1847977579999 -22.5509695759999, -42.1843080149999 -22.5512709559999, -42.1838747809999 -22.551435773, -42.183488638 -22.551525246, -42.1831590039999 -22.551449901, -42.182881169 -22.5513274649999, -42.1825801969999 -22.5512091049999, -42.182358463 -22.551096721, -42.182214711 -22.551121167, -42.182108883 -22.5512191559999, -42.182038247 -22.551383974, -42.182009992 -22.5514687369999, -42.182047665 -22.551591172, -42.1822831179999 -22.551826626, -42.182447935 -22.551949061, -42.1825656619999 -22.552184514, -42.1825750799999 -22.552448222, -42.182532334 -22.552571341, -42.1824895889999 -22.5526944609999, -42.182403102 -22.552676144, -42.17544279 -22.566551621, -42.1562824539999 -22.6047480139999, -42.131895167 -22.653364627, -42.13197179 -22.653398603, -42.132028825 -22.6534280399999, -42.1322769879999 -22.653565908, -42.132479195 -22.6537175629999, -42.1326630189999 -22.653901388, -42.132827312 -22.65409684, -42.132929567 -22.654218487, -42.132998936 -22.654293034, -42.13323747 -22.6545493689999, -42.1334023209999 -22.654722896, -42.133412103 -22.654733193, -42.133526993 -22.654806723, -42.1337200089999 -22.6548710609999, -42.133954385 -22.6549262079999, -42.134147401 -22.65497676, -42.134345012 -22.655064076, -42.13448288 -22.6551605839999, -42.134648322 -22.655316835, -42.1348275509999 -22.655440917, -42.1351354569999 -22.65562474, -42.135365236 -22.655725844, -42.135636377 -22.655771801, -42.1358753499999 -22.655831544, -42.136013594 -22.655905603, -42.13626138 -22.656038345, -42.136666126 -22.6562024319999, -42.136771493 -22.656245148, -42.137189693 -22.656438164, -42.137586042 -22.656670608, -42.137754953 -22.6567690479999, -42.137756751 -22.656770099, -42.1377585459999 -22.656771157, -42.137760337 -22.6567722199999, -42.1377621249999 -22.6567732899999, -42.1377639089999 -22.6567743639999, -42.13776569 -22.656775446, -42.1377674679999 -22.656776532, -42.1377692419999 -22.656777624, -42.137771012 -22.6567787229999, -42.1377727789999 -22.6567798259999, -42.1377745409999 -22.656780936, -42.137776302 -22.6567820509999, -42.1377780569999 -22.656783172, -42.13777981 -22.656784299, -42.137781558 -22.6567854309999, -42.1377833029999 -22.656786569, -42.1377919719999 -22.6567923439999, -42.137793695 -22.6567935149999, -42.1377954129999 -22.6567946919999, -42.1377971279999 -22.6567958749999, -42.137798839 -22.6567970629999, -42.1378005459999 -22.6567982569999, -42.1378022489999 -22.6567994559999, -42.1378039489999 -22.656800662, -42.137805645 -22.656801872, -42.137807336 -22.6568030879999, -42.137809024 -22.6568043099999, -42.137810707 -22.656805537, -42.1378123869999 -22.656806769, -42.137814062 -22.6568080069999, -42.137815734 -22.6568092489999, -42.1378174019999 -22.656810498, -42.137819065 -22.656811752, -42.1378207239999 -22.6568130109999, -42.1378223799999 -22.656814277, -42.137824032 -22.656815546, -42.1378256789999 -22.6568168219999, -42.137827322 -22.6568181019999, -42.13782896 -22.656819388, -42.137830595 -22.65682068, -42.137832225 -22.6568219759999, -42.137833852 -22.6568232779999, -42.137835474 -22.656824586, -42.1378370909999 -22.656825899, -42.137838705 -22.656827216, -42.1378403149999 -22.656828538, -42.137841919 -22.6568298669999, -42.1378435199999 -22.6568312009999, -42.1378451159999 -22.6568325389999, -42.137846709 -22.6568338819999, -42.137848296 -22.6568352309999, -42.1378498789999 -22.656836585, -42.1378514579999 -22.656837944, -42.137853032 -22.656839308, -42.1378546019999 -22.6568406769999, -42.137856168 -22.6568420519999, -42.137857729 -22.656843431, -42.1378592849999 -22.6568448159999, -42.1378608379999 -22.656846205, -42.1378623849999 -22.6568475999999, -42.1378639279999 -22.656849, -42.1378654659999 -22.656850404, -42.137867001 -22.6568518139999, -42.1378685299999 -22.6568532279999, -42.137870055 -22.656854648, -42.137871576 -22.656856072, -42.137873091 -22.6568575009999, -42.137874602 -22.6568589349999, -42.1378761079999 -22.656860374, -42.1378776089999 -22.656861818, -42.1378791069999 -22.6568632669999, -42.137880599 -22.6568647199999, -42.1378820859999 -22.656866179, -42.1378835689999 -22.6568676429999, -42.1378850469999 -22.6568691099999, -42.1378865199999 -22.6568705839999, -42.137887989 -22.6568720609999, -42.137889453 -22.656873543, -42.1378909109999 -22.656875031, -42.137892365 -22.6568765219999, -42.137893815 -22.656878019, -42.1378952589999 -22.65687952, -42.137896698 -22.656881026, -42.137898133 -22.6568825369999, -42.137899563 -22.656884051, -42.137900988 -22.656885572, -42.137902407 -22.6568870959999, -42.1379038219999 -22.656888625, -42.137905232 -22.6568901589999, -42.137906637 -22.6568916959999, -42.1379080369999 -22.6568932399999, -42.137909432 -22.656894786, -42.137910822 -22.656896338, -42.137912206 -22.6568978949999, -42.137913587 -22.656899455, -42.137914962 -22.65690102, -42.137916332 -22.65690259, -42.1379176949999 -22.656904164, -42.1379190549999 -22.6569057419999, -42.1379204099999 -22.656907325, -42.1379217589999 -22.6569089129999, -42.1379231029999 -22.6569105039999, -42.137924442 -22.6569120999999, -42.137925776 -22.656913701, -42.137927104 -22.6569153049999, -42.137928428 -22.656916913, -42.1379297459999 -22.656918527, -42.1379310579999 -22.656920144, -42.137932367 -22.656921766, -42.1379336689999 -22.656923392, -42.1379349659999 -22.6569250219999, -42.137936258 -22.6569266559999, -42.137937544 -22.6569282949999, -42.137938826 -22.656929938, -42.137940101 -22.6569315839999, -42.1379413719999 -22.6569332349999, -42.137942637 -22.6569348899999, -42.137943897 -22.656936549, -42.1379451509999 -22.6569382129999, -42.1379464 -22.65693988, -42.137947644 -22.6569415509999, -42.1379488819999 -22.656943226, -42.137950115 -22.656944906, -42.137951342 -22.656946588, -42.137952565 -22.656948276, -42.137954236 -22.656950587, -42.137955914 -22.656952894, -42.137957597 -22.6569551969999, -42.137959286 -22.656957496, -42.1379609799999 -22.656959791, -42.1379626789999 -22.6569620829999, -42.1379643839999 -22.65696437, -42.137966095 -22.6569666529999, -42.137967809 -22.6569689319999, -42.137969531 -22.656971207, -42.1379712579999 -22.6569734779999, -42.13797299 -22.656975744, -42.137974727 -22.656978007, -42.13797647 -22.656980264, -42.137978217 -22.6569825189999, -42.1379799699999 -22.656984769, -42.13798173 -22.656987015, -42.137983493 -22.656989257, -42.137985262 -22.656991494, -42.137987037 -22.656993728, -42.137988817 -22.6569959569999, -42.1379906019999 -22.6569981809999, -42.1379923929999 -22.6570004019999, -42.1379941879999 -22.657002619, -42.13799599 -22.6570048309999, -42.137997796 -22.657007039, -42.137999608 -22.657009242, -42.138001424 -22.6570114419999, -42.138003246 -22.657013637, -42.1380050729999 -22.657015827, -42.1380069059999 -22.657018013, -42.1380087429999 -22.657020195, -42.138010586 -22.657022372, -42.138012434 -22.6570245459999, -42.138014287 -22.657026715, -42.1380161449999 -22.6570288789999, -42.138018008 -22.6570310389999, -42.138019877 -22.657033194, -42.13802175 -22.6570353449999, -42.138023629 -22.657037492, -42.138025512 -22.6570396339999, -42.1380274009999 -22.657041772, -42.138029295 -22.657043905, -42.138031194 -22.657046034, -42.1380330979999 -22.657048158, -42.138035007 -22.6570502769999, -42.138036921 -22.657052393, -42.13803884 -22.6570545029999, -42.138040765 -22.6570566089999, -42.1380426929999 -22.6570587099999, -42.1380446279999 -22.6570608069999, -42.138046566 -22.6570629, -42.138048511 -22.657064987, -42.1380504589999 -22.65706707, -42.138052413 -22.6570691479999, -42.1380543719999 -22.657071222, -42.138056336 -22.657073291, -42.138058304 -22.657075356, -42.138060277 -22.6570774159999, -42.1380622569999 -22.6570794699999, -42.1380642399999 -22.657081521, -42.138066228 -22.657083567, -42.138068221 -22.6570856069999, -42.138070219 -22.6570876439999, -42.138072221 -22.657089675, -42.138074229 -22.657091701, -42.138076241 -22.6570937229999, -42.138078258 -22.6570957399999, -42.1380802799999 -22.657097753, -42.1380823059999 -22.6570997599999, -42.1380843379999 -22.657101762, -42.138086374 -22.6571037599999, -42.138088415 -22.6571057529999, -42.1380904599999 -22.6571077409999, -42.138092511 -22.6571097249999, -42.1380945659999 -22.6571117029999, -42.1380966249999 -22.6571136769999, -42.1380986899999 -22.657115645, -42.1381007589999 -22.657117609, -42.1381028329999 -22.6571195679999, -42.138104911 -22.657121521, -42.1381069939999 -22.657123471, -42.138109082 -22.6571254149999, -42.138111174 -22.657127354, -42.13811327 -22.657129288, -42.138115372 -22.657131217, -42.138117478 -22.657133141, -42.1381195879999 -22.65713506, -42.138121704 -22.657136974, -42.1381238229999 -22.657138883, -42.1381259469999 -22.6571407869999, -42.1381280759999 -22.6571426859999, -42.1381302089999 -22.65714458, -42.138132347 -22.657146468, -42.138134489 -22.657148352, -42.138136635 -22.6571502309999, -42.1381387869999 -22.657152104, -42.1381409419999 -22.6571539719999, -42.138143102 -22.657155836, -42.138145266 -22.657157694, -42.138147435 -22.6571595469999, -42.1381496079999 -22.6571613949999, -42.138151786 -22.657163238, -42.1381539669999 -22.657165075, -42.1381561539999 -22.657166908, -42.138158344 -22.657168735, -42.138160539 -22.657170557, -42.1381627379999 -22.657172374, -42.1381649419999 -22.657174185, -42.13816715 -22.657175991, -42.138169362 -22.657177792, -42.138171578 -22.657179588, -42.138173799 -22.657181378, -42.138176024 -22.6571831639999, -42.138178253 -22.6571849439999, -42.138180486 -22.6571867179999, -42.1381827239999 -22.657188488, -42.138184966 -22.657190252, -42.1381872119999 -22.65719201, -42.138189462 -22.6571937639999, -42.1381917159999 -22.6571955119999, -42.138193975 -22.657197254, -42.1381962369999 -22.657198992, -42.1381985039999 -22.6572007239999, -42.138200775 -22.6572024499999, -42.13820305 -22.6572041709999, -42.138205328 -22.657205887, -42.138207611 -22.657207597, -42.138209898 -22.657209302, -42.1382121889999 -22.657211001, -42.1382144849999 -22.6572126959999, -42.138216784 -22.6572143839999, -42.138219087 -22.657216067, -42.138221394 -22.657217745, -42.138223705 -22.657219417, -42.138225454 -22.657220674, -42.138227205 -22.657221926, -42.138228961 -22.6572231719999, -42.138230721 -22.6572244129999, -42.1382324849999 -22.657225647, -42.138234252 -22.657226877, -42.138236024 -22.6572281009999, -42.138237799 -22.657229319, -42.138239579 -22.657230532, -42.138241361 -22.6572317389999, -42.138243148 -22.65723294, -42.1382449389999 -22.6572341359999, -42.1382467339999 -22.6572353249999, -42.138248532 -22.65723651, -42.138250334 -22.657237688, -42.13825214 -22.6572388609999, -42.1382539489999 -22.6572400279999, -42.138255762 -22.6572411889999, -42.138257579 -22.6572423449999, -42.1382593989999 -22.6572434949999, -42.138261223 -22.6572446389999, -42.138263051 -22.657245777, -42.1382648819999 -22.657246909, -42.138266717 -22.6572480359999, -42.138268556 -22.657249156, -42.138270399 -22.6572502719999, -42.1382722439999 -22.657251381, -42.1382740929999 -22.657252484, -42.138275945 -22.657253581, -42.138277801 -22.657254673, -42.13827966 -22.657255759, -42.138281524 -22.657256838, -42.13828339 -22.657257912, -42.138285259 -22.6572589799999, -42.1382871329999 -22.657260042, -42.1382890089999 -22.657261099, -42.138290888 -22.657262148, -42.1382927719999 -22.657263192, -42.1382946579999 -22.65726423, -42.138296548 -22.657265262, -42.13829844 -22.6572662889999, -42.138300337 -22.657267309, -42.1383022369999 -22.657268323, -42.138304139 -22.657269331, -42.138306045 -22.6572703329999, -42.138307954 -22.65727133, -42.1383098659999 -22.6572723199999, -42.138311781 -22.657273303, -42.138313699 -22.657274281, -42.1383156209999 -22.657275253, -42.1383175449999 -22.6572762179999, -42.138319473 -22.657277177, -42.138321403 -22.6572781309999, -42.138323337 -22.657279079, -42.138325273 -22.65728002, -42.138327214 -22.6572809539999, -42.1383291559999 -22.6572818829999, -42.1383311009999 -22.657282806, -42.138333049 -22.657283723, -42.138335001 -22.657284633, -42.1383369549999 -22.657285537, -42.1383389119999 -22.6572864349999, -42.138340872 -22.6572873269999, -42.1383428349999 -22.657288212, -42.1383448 -22.6572890909999, -42.138346768 -22.657289965, -42.138348739 -22.657290831, -42.138350713 -22.6572916919999, -42.1383526889999 -22.657292546, -42.138354668 -22.657293394, -42.1383566499999 -22.6572942359999, -42.138358634 -22.657295072, -42.1383606209999 -22.6572959, -42.138362612 -22.6572967229999, -42.1383646039999 -22.6572975399999, -42.1383665989999 -22.65729835, -42.138368596 -22.6572991539999, -42.1383705969999 -22.657299952, -42.138372599 -22.657300743, -42.138374604 -22.6573015279999, -42.138376611 -22.657302306, -42.138378621 -22.6573030779999, -42.1383806339999 -22.657303844, -42.1383826489999 -22.6573046029999, -42.1383846649999 -22.6573053559999, -42.1383866849999 -22.6573061029999, -42.1383887069999 -22.6573068439999, -42.1383907319999 -22.657307577, -42.1383927589999 -22.657308304, -42.138394787 -22.657309025, -42.1383968179999 -22.65730974, -42.138398852 -22.6573104469999, -42.1384008869999 -22.657311149, -42.138402925 -22.6573118439999, -42.1384049649999 -22.657312533, -42.1384070079999 -22.6573132149999, -42.1384090519999 -22.6573138909999, -42.1384110979999 -22.65731456, -42.1384131469999 -22.657315223, -42.138415198 -22.657315879, -42.13841725 -22.657316528, -42.138419305 -22.657317172, -42.138421363 -22.6573178089999, -42.138423421 -22.6573184389999, -42.1384254819999 -22.6573190629999, -42.138427545 -22.6573196799999, -42.138429609 -22.65732029, -42.138431677 -22.657320894, -42.1384337449999 -22.6573214909999, -42.138435816 -22.6573220829999, -42.1384378879999 -22.657322667, -42.1384399619999 -22.6573232449999, -42.138442039 -22.657323816, -42.138444116 -22.657324381, -42.138446196 -22.657324939, -42.138448277 -22.6573254899999, -42.13845036 -22.657326035, -42.138452445 -22.657326573, -42.138454532 -22.6573271039999, -42.1384566199999 -22.6573276299999, -42.138458709 -22.657328148, -42.138460801 -22.657328659, -42.138462894 -22.657329164, -42.138464988 -22.6573296629999, -42.1384670849999 -22.657330155, -42.138469183 -22.6573306409999, -42.138471282 -22.6573311189999, -42.138473383 -22.65733159, -42.138475485 -22.657332056, -42.1384775889999 -22.657332514, -42.138479694 -22.657332966, -42.138481801 -22.657333411, -42.1384839089999 -22.6573338499999, -42.138486018 -22.657334282, -42.1384881289999 -22.657334707, -42.1384902409999 -22.657335126, -42.138492355 -22.6573355369999, -42.138494469 -22.657335942, -42.138496585 -22.65733634, -42.138498703 -22.657336732, -42.138500822 -22.6573371169999, -42.138502941 -22.657337495, -42.138505062 -22.657337866, -42.1385071839999 -22.657338231, -42.1385093069999 -22.6573385889999, -42.138511432 -22.6573389399999, -42.138513557 -22.657339285, -42.138515684 -22.6573396229999, -42.138517811 -22.657339953, -42.1385199389999 -22.6573402779999, -42.138522069 -22.6573405949999, -42.138524199 -22.6573409059999, -42.138526332 -22.65734121, -42.1385284639999 -22.6573415079999, -42.1385305969999 -22.6573417979999, -42.1385327319999 -22.657342082, -42.138534867 -22.657342359, -42.138537003 -22.65734263, -42.13853914 -22.657342892, -42.1385412779999 -22.6573431489999, -42.1385434169999 -22.657343399, -42.1385455559999 -22.6573436429999, -42.1385476959999 -22.6573438779999, -42.138549837 -22.657344108, -42.138551978 -22.6573443299999, -42.138554121 -22.657344547, -42.1385562639999 -22.6573447559999, -42.1385584069999 -22.657344958, -42.1385605519999 -22.6573451539999, -42.1385626969999 -22.6573453419999, -42.1385648419999 -22.6573455239999, -42.138566989 -22.6573457, -42.138569135 -22.6573458679999, -42.1385712819999 -22.6573460289999, -42.138573429 -22.6573461839999, -42.138575578 -22.657346333, -42.1385777259999 -22.657346474, -42.1385798749999 -22.657346608, -42.138582024 -22.657346736, -42.1385841749999 -22.6573468559999, -42.138586324 -22.6573469699999, -42.1385884749999 -22.6573470769999, -42.1385906249999 -22.657347177, -42.138592777 -22.6573472709999, -42.138594929 -22.6573473569999, -42.13859708 -22.6573474369999, -42.1385992319999 -22.65734751, -42.138601384 -22.6573475759999, -42.1386035359999 -22.6573476359999, -42.138605689 -22.657347688, -42.138607841 -22.6573477329999, -42.138609995 -22.657347773, -42.1386121469999 -22.657347805, -42.138614301 -22.6573478299999, -42.1386164529999 -22.657347848, -42.138618607 -22.65734786, -42.13862076 -22.657347864, -42.1386229129999 -22.6573478619999, -42.138625067 -22.657347853, -42.1386272189999 -22.657347838, -42.138629373 -22.657347815, -42.1386315249999 -22.6573477859999, -42.138633678 -22.6573477489999, -42.1386358309999 -22.6573477059999, -42.138637983 -22.657347656, -42.1386401359999 -22.6573475989999, -42.138642288 -22.657347536, -42.13864444 -22.657347466, -42.1386465919999 -22.6573473889999, -42.138648743 -22.6573473039999, -42.138650895 -22.657347214, -42.1386530459999 -22.657347116, -42.1386551959999 -22.6573470119999, -42.1386573469999 -22.6573468999999, -42.1386594959999 -22.6573467819999, -42.1386616459999 -22.6573466569999, -42.138663795 -22.657346525, -42.138665944 -22.657346387, -42.138668093 -22.657346241, -42.13867024 -22.6573460889999, -42.138672387 -22.657345931, -42.138674534 -22.657345764, -42.1386766809999 -22.657345592, -42.1386788259999 -22.6573454119999, -42.138680971 -22.657345227, -42.1386831149999 -22.657345033, -42.1386852589999 -22.657344834, -42.1386874029999 -22.6573446269999, -42.138689546 -22.657344413, -42.1386916869999 -22.657344193, -42.1386938279999 -22.6573439659999, -42.138695969 -22.6573437329999, -42.138698108 -22.6573434919999, -42.138700248 -22.6573432449999, -42.138702386 -22.657342991, -42.1387045229999 -22.6573427289999, -42.138706659 -22.657342463, -42.138708795 -22.657342188, -42.138710929 -22.6573419069999, -42.138713063 -22.657341618, -42.138715196 -22.657341324, -42.138717328 -22.657341022, -42.138719459 -22.657340715, -42.1387215899999 -22.657340399, -42.1387237179999 -22.6573400779999, -42.1387258459999 -22.657339749, -42.138727973 -22.657339414, -42.1387300989999 -22.657339072, -42.138732224 -22.657338723, -42.138734347 -22.657338368, -42.13873647 -22.657338006, -42.138738592 -22.657337637, -42.138740712 -22.657337261, -42.13874283 -22.657336878, -42.138744948 -22.6573364889999, -42.138747065 -22.657336094, -42.1387491799999 -22.657335691, -42.138751294 -22.657335282, -42.138753407 -22.6573348659999, -42.138755518 -22.657334443, -42.138757627 -22.657334014, -42.1387597359999 -22.657333578, -42.1387618429999 -22.657333136, -42.138763949 -22.657332687, -42.138766053 -22.6573322309999, -42.138768157 -22.6573317679999, -42.138770258 -22.657331299, -42.138772358 -22.6573308229999, -42.138774456 -22.6573303399999, -42.138776553 -22.6573298509999, -42.138778648 -22.6573293549999, -42.1387807419999 -22.657328852, -42.138782834 -22.657328343, -42.1387849239999 -22.657327827, -42.138787013 -22.657327304, -42.1387890999999 -22.6573267759999, -42.1387911859999 -22.65732624, -42.13879327 -22.657325698, -42.1387953509999 -22.6573251479999, -42.1387974319999 -22.6573245929999, -42.13879951 -22.657324031, -42.1388015869999 -22.657323463, -42.1388036619999 -22.657322887, -42.1388057349999 -22.657322306, -42.1388078059999 -22.6573217169999, -42.1388098749999 -22.6573211209999, -42.138811943 -22.6573205199999, -42.138879371 -22.657300785, -42.139000363 -22.657265373, -42.1392903349999 -22.6571722959999, -42.139313097 -22.657164989, -42.139372607 -22.657145887, -42.13972647 -22.6570677619999, -42.139968267 -22.6570288519999, -42.1400116099999 -22.657021877, -42.140262983 -22.656981426, -42.1402943049999 -22.656979317, -42.140686951 -22.656952872, -42.1406894159999 -22.6569527029999, -42.14069188 -22.6569525259999, -42.1406943439999 -22.6569523429999, -42.140696808 -22.656952154, -42.14069927 -22.6569519569999, -42.140701732 -22.656951755, -42.140704194 -22.656951545, -42.140706655 -22.6569513279999, -42.140709116 -22.656951105, -42.140711575 -22.6569508749999, -42.140714035 -22.656950638, -42.140716493 -22.656950394, -42.1407189509999 -22.6569501449999, -42.1407214079999 -22.6569498869999, -42.1407238639999 -22.6569496239999, -42.1407263199999 -22.6569493539999, -42.140728775 -22.656949077, -42.140731229 -22.656948794, -42.140733682 -22.656948503, -42.1407361349999 -22.656948206, -42.1407385869999 -22.656947902, -42.1407410379999 -22.6569475909999, -42.1407434879999 -22.6569472739999, -42.140745938 -22.656946951, -42.1407483849999 -22.6569466199999, -42.140750833 -22.656946283, -42.140753279 -22.656945939, -42.140755725 -22.6569455879999, -42.14075817 -22.656945231, -42.1407606139999 -22.6569448669999, -42.140763056 -22.6569444959999, -42.140765498 -22.6569441189999, -42.140767938 -22.656943735, -42.140770377 -22.656943344, -42.1407728149999 -22.656942946, -42.140775253 -22.656942542, -42.1407776889999 -22.656942132, -42.1407801239999 -22.656941715, -42.140782558 -22.656941291, -42.1407849899999 -22.65694086, -42.140787422 -22.656940423, -42.1407898529999 -22.656939979, -42.1407922819999 -22.656939528, -42.14079471 -22.656939071, -42.1407971369999 -22.656938607, -42.1407995609999 -22.6569381369999, -42.140801986 -22.65693766, -42.1408044089999 -22.6569371759999, -42.14080683 -22.6569366859999, -42.14080925 -22.656936189, -42.140811669 -22.656935685, -42.1408140849999 -22.6569351749999, -42.140816502 -22.656934658, -42.1408189159999 -22.656934135, -42.1408213289999 -22.656933604, -42.140823741 -22.6569330679999, -42.1408261509999 -22.6569325249999, -42.1408285589999 -22.656931975, -42.1408309669999 -22.6569314189999, -42.140833372 -22.656930856, -42.140835776 -22.656930286, -42.140838178 -22.656929711, -42.14084058 -22.6569291279999, -42.140842978 -22.656928539, -42.140845376 -22.656927943, -42.140847772 -22.656927341, -42.1408501669999 -22.6569267319999, -42.14085256 -22.656926116, -42.1408549509999 -22.6569254949999, -42.140857339 -22.6569248659999, -42.140859727 -22.6569242319999, -42.140862114 -22.65692359, -42.1408644969999 -22.6569229419999, -42.1408668789999 -22.6569222869999, -42.1408692599999 -22.6569216259999, -42.140871639 -22.6569209589999, -42.140874015 -22.656920285, -42.1408763909999 -22.6569196049999, -42.1408787629999 -22.656918918, -42.140881135 -22.656918224, -42.1408835039999 -22.6569175239999, -42.140885872 -22.656916817, -42.140888237 -22.6569161049999, -42.1408906 -22.6569153849999, -42.140892962 -22.6569146589999, -42.1408953219999 -22.6569139269999, -42.140897679 -22.656913188, -42.140900034 -22.656912443, -42.140902388 -22.6569116919999, -42.140904739 -22.6569109329999, -42.1409070889999 -22.656910169, -42.140909436 -22.656909398, -42.1409117809999 -22.656908621, -42.1409141239999 -22.6569078369999, -42.1409164639999 -22.6569070479999, -42.140918803 -22.656906251, -42.1409211399999 -22.656905448, -42.140923474 -22.656904638, -42.140925806 -22.656903824, -42.140928135 -22.6569030009999, -42.140930463 -22.6569021729999, -42.1409327879999 -22.656901338, -42.140935111 -22.656900498, -42.1409374319999 -22.65689965, -42.14093975 -22.656898796, -42.140942066 -22.656897936, -42.14094438 -22.65689707, -42.140946691 -22.656896197, -42.140949001 -22.656895317, -42.140951306 -22.6568944329999, -42.1409536109999 -22.6568935399999, -42.140955912 -22.6568926429999, -42.1409582119999 -22.6568917389999, -42.140960508 -22.656890828, -42.140962803 -22.656889911, -42.140965094 -22.6568889879999, -42.140967383 -22.6568880579999, -42.1409696699999 -22.656887124, -42.140971953 -22.6568861809999, -42.1409742349999 -22.656885234, -42.1409765139999 -22.6568842789999, -42.14097879 -22.656883319, -42.140981064 -22.656882352, -42.1409833349999 -22.656881379, -42.1409856029999 -22.6568803989999, -42.140987868 -22.6568794149999, -42.140990131 -22.656878423, -42.1409923919999 -22.6568774259999, -42.1409946489999 -22.656876422, -42.140996904 -22.6568754109999, -42.140999155 -22.656874396, -42.141001404 -22.6568733729999, -42.14100365 -22.656872345, -42.1410058939999 -22.6568713099999, -42.1410081349999 -22.65687027, -42.141010373 -22.656869222, -42.141012608 -22.6568681699999, -42.141014839 -22.65686711, -42.1410170689999 -22.656866045, -42.141019295 -22.656864974, -42.1410215179999 -22.6568638959999, -42.1410237379999 -22.656862813, -42.141025956 -22.656861723, -42.14102817 -22.656860627, -42.141030381 -22.6568595259999, -42.141032589 -22.656858418, -42.1410347949999 -22.656857305, -42.141036997 -22.656856185, -42.141039196 -22.6568550599999, -42.141041393 -22.656853928, -42.141043585 -22.65685279, -42.1410457759999 -22.6568516469999, -42.141047962 -22.6568504969999, -42.1410501459999 -22.6568493409999, -42.141052326 -22.6568481799999, -42.141054503 -22.656847012, -42.141056678 -22.656845839, -42.1410588489999 -22.6568446589999, -42.141061016 -22.656843474, -42.1410631809999 -22.6568422829999, -42.1410653409999 -22.6568410849999, -42.1410675 -22.6568398819999, -42.1410696529999 -22.656838673, -42.141071805 -22.6568374579999, -42.1410739529999 -22.6568362369999, -42.1410760969999 -22.6568350109999, -42.141078239 -22.656833779, -42.1410803759999 -22.65683254, -42.141082511 -22.656831296, -42.141084641 -22.656830046, -42.141086769 -22.65682879, -42.141436035 -22.6566219879999, -42.1416947829999 -22.6564752149999, -42.14173475 -22.656465737, -42.141741768 -22.65646407, -42.141748784 -22.6564623949999, -42.1417557999999 -22.6564607139999, -42.141762813 -22.656459027, -42.141769825 -22.6564573329999, -42.141776835 -22.656455633, -42.141783844 -22.656453926, -42.1417908509999 -22.6564522109999, -42.141797856 -22.6564504909999, -42.14180486 -22.6564487639999, -42.1418118619999 -22.656447032, -42.141818863 -22.6564452919999, -42.141825861 -22.6564435449999, -42.141832859 -22.656441792, -42.141839854 -22.656440033, -42.1418468489999 -22.6564382669999, -42.1418538409999 -22.6564364939999, -42.141860832 -22.6564347139999, -42.14186782 -22.6564329289999, -42.141874808 -22.656431137, -42.141881793 -22.656429338, -42.141888778 -22.6564275329999, -42.14189576 -22.6564257209999, -42.14190274 -22.656423903, -42.1419097199999 -22.6564220779999, -42.141916696 -22.656420247, -42.141923672 -22.656418409, -42.1419306459999 -22.656416564, -42.1419376169999 -22.6564147139999, -42.1419445879999 -22.656412856, -42.141951556 -22.656410992, -42.141958523 -22.656409121, -42.141965489 -22.656407244, -42.1419724519999 -22.6564053609999, -42.1419794129999 -22.6564034699999, -42.141986373 -22.656401574, -42.1419933299999 -22.656399671, -42.142000287 -22.6563977609999, -42.1420072409999 -22.656395845, -42.142014193 -22.6563939219999, -42.1420211449999 -22.6563919929999, -42.142028093 -22.6563900579999, -42.142035041 -22.656388116, -42.142041986 -22.6563861659999, -42.1420489289999 -22.656384212, -42.142055872 -22.65638225, -42.142062811 -22.6563802809999, -42.142069749 -22.6563783079999, -42.1420766849999 -22.6563763259999, -42.1420836189999 -22.656374338, -42.142090552 -22.656372344, -42.1420974829999 -22.6563703429999, -42.142104412 -22.6563683369999, -42.1421113389999 -22.6563663229999, -42.1421182629999 -22.656364303, -42.1421251859999 -22.656362277, -42.142132107 -22.6563602429999, -42.1421390259999 -22.656358204, -42.1421459439999 -22.6563561589999, -42.142152859 -22.656354106, -42.142159772 -22.6563520469999, -42.142166684 -22.6563499809999, -42.1421735929999 -22.65634791, -42.142180501 -22.6563458319999, -42.1421874069999 -22.6563437469999, -42.142194311 -22.6563416549999, -42.1422509609999 -22.6563300829999, -42.1423081619999 -22.656329151, -42.142362087 -22.656338062, -42.142414103 -22.6563564969999, -42.142460856 -22.6563830159999, -42.142463103 -22.6563845659999, -42.142465347 -22.656386121, -42.142467586 -22.6563876819999, -42.142469821 -22.656389248, -42.1424720529999 -22.65639082, -42.1424742799999 -22.656392398, -42.1424765049999 -22.656393981, -42.1424787239999 -22.656395569, -42.14248094 -22.656397163, -42.142483152 -22.656398763, -42.142485359 -22.6564003679999, -42.142487563 -22.656401979, -42.142489763 -22.656403595, -42.142491959 -22.6564052169999, -42.1424941499999 -22.656406843, -42.1424963389999 -22.656408476, -42.142498522 -22.656410114, -42.142500701 -22.6564117579999, -42.142502876 -22.6564134069999, -42.142505048 -22.65641506, -42.142507215 -22.65641672, -42.1425093779999 -22.6564183849999, -42.142511537 -22.656420055, -42.142513691 -22.656421731, -42.142515842 -22.656423412, -42.1425179889999 -22.6564250989999, -42.14252013 -22.65642679, -42.1425222679999 -22.656428488, -42.1425244019999 -22.656430191, -42.1425265309999 -22.656431899, -42.142528657 -22.6564336119999, -42.1425307769999 -22.656435329, -42.1425328939999 -22.6564370529999, -42.1425350059999 -22.656438782, -42.1425371139999 -22.656440517, -42.142539218 -22.6564422559999, -42.1425413169999 -22.656444001, -42.142543412 -22.6564457499999, -42.142545503 -22.656447505, -42.142547588 -22.656449266, -42.142549671 -22.656451031, -42.142551748 -22.6564528019999, -42.142553821 -22.656454578, -42.1425558889999 -22.6564563589999, -42.142557954 -22.6564581449999, -42.142560014 -22.656459937, -42.142562068 -22.656461732, -42.14256412 -22.656463534, -42.1425661649999 -22.6564653409999, -42.142568207 -22.6564671529999, -42.1425702449999 -22.6564689689999, -42.1425722769999 -22.6564707919999, -42.142574305 -22.656472618, -42.142576329 -22.65647445, -42.142578347 -22.656476287, -42.1425803619999 -22.6564781289999, -42.1425823719999 -22.656479976, -42.1425843769999 -22.656481829, -42.142586378 -22.6564836859999, -42.142588374 -22.6564855469999, -42.1425903649999 -22.656487414, -42.142592351 -22.656489286, -42.142594333 -22.6564911629999, -42.142596311 -22.6564930449999, -42.142598283 -22.6564949309999, -42.142600251 -22.6564968229999, -42.142602214 -22.6564987199999, -42.1426041729999 -22.656500622, -42.142606127 -22.656502528, -42.1426080759999 -22.6565044389999, -42.1426100199999 -22.656506355, -42.142611959 -22.656508276, -42.142613894 -22.6565102009999, -42.142615824 -22.6565121319999, -42.142617749 -22.6565140669999, -42.1426196689999 -22.6565160069999, -42.142621585 -22.6565179519999, -42.142623495 -22.656519902, -42.1426253999999 -22.6565218559999, -42.1426273009999 -22.656523815, -42.142629197 -22.6565257779999, -42.142631088 -22.6565277469999, -42.142632974 -22.656529721, -42.142634855 -22.656531698, -42.142636731 -22.6565336809999, -42.142638603 -22.6565356679999, -42.142640468 -22.65653766, -42.1426423299999 -22.6565396569999, -42.142644186 -22.656541658, -42.142646038 -22.656543664, -42.142647884 -22.656545675, -42.1426497259999 -22.65654769, -42.142651562 -22.6565497089999, -42.1426533929999 -22.6565517339999, -42.1426552189999 -22.6565537619999, -42.14265704 -22.656555795, -42.142658856 -22.656557833, -42.142660668 -22.656559876, -42.142662474 -22.656561923, -42.142664274 -22.6565639739999, -42.14266607 -22.656566029, -42.1426678609999 -22.656568089, -42.1426696459999 -22.6565701549999, -42.1426714259999 -22.6565722239999, -42.142673202 -22.656574297, -42.142674971 -22.656576376, -42.1426767359999 -22.656578458, -42.142678496 -22.6565805449999, -42.1426802509999 -22.6565826359999, -42.142682 -22.656584731, -42.142683744 -22.656586831, -42.142685483 -22.6565889349999, -42.142687216 -22.656591044, -42.142688944 -22.656593157, -42.142690667 -22.656595274, -42.1426923839999 -22.6565973949999, -42.142694096 -22.656599521, -42.142695804 -22.656601651, -42.1426975059999 -22.656603785, -42.142699201 -22.656605924, -42.142700893 -22.656608067, -42.1427025789999 -22.656610214, -42.142704259 -22.6566123649999, -42.1427059339999 -22.6566145199999, -42.142707604 -22.656616679, -42.142709268 -22.6566188429999, -42.1427109269999 -22.65662101, -42.14271258 -22.656623183, -42.1427142279999 -22.6566253579999, -42.142715871 -22.6566275389999, -42.142717509 -22.6566297219999, -42.1427191399999 -22.6566319099999, -42.142720766 -22.6566341029999, -42.1427223869999 -22.656636299, -42.142724003 -22.6566384989999, -42.1427256119999 -22.656640704, -42.142727217 -22.6566429129999, -42.1427288159999 -22.656645125, -42.142730409 -22.6566473409999, -42.1427319969999 -22.6566495619999, -42.14274461 -22.6566677939999, -42.142760573 -22.6566926089999, -42.142776302 -22.656719309, -42.142790292 -22.656745346, -42.1427913319999 -22.656747378, -42.1427923639999 -22.6567494139999, -42.1427933909999 -22.656751453, -42.142794411 -22.656753496, -42.142795426 -22.6567555399999, -42.142796435 -22.6567575879999, -42.1427974379999 -22.656759639, -42.142798434 -22.656761693, -42.142799424 -22.65676375, -42.142800408 -22.65676581, -42.142801387 -22.656767873, -42.142802358 -22.656769938, -42.1428033239999 -22.656772007, -42.142804284 -22.656774078, -42.1428052369999 -22.656776152, -42.142806185 -22.6567782289999, -42.142807126 -22.6567803089999, -42.142808062 -22.656782392, -42.1428089899999 -22.656784477, -42.142809913 -22.6567865649999, -42.14281083 -22.6567886559999, -42.142811739 -22.656790749, -42.1428126439999 -22.656792846, -42.1428135419999 -22.656794944, -42.1428144339999 -22.656797046, -42.142815319 -22.656799151, -42.1428161979999 -22.656801258, -42.142817072 -22.656803366, -42.142817938 -22.656805478, -42.1428187989999 -22.6568075929999, -42.1428196529999 -22.6568097099999, -42.142820501 -22.65681183, -42.142821343 -22.6568139509999, -42.142822178 -22.6568160759999, -42.1428230069999 -22.6568182029999, -42.142823829 -22.6568203329999, -42.142824646 -22.6568224649999, -42.142825456 -22.6568245989999, -42.1428262599999 -22.656826736, -42.142827057 -22.656828875, -42.142827848 -22.656831016, -42.142828633 -22.65683316, -42.142829411 -22.6568353059999, -42.1428301839999 -22.656837454, -42.142830949 -22.656839605, -42.1428317089999 -22.6568417579999, -42.1428324619999 -22.6568439129999, -42.142833208 -22.65684607, -42.142833948 -22.65684823, -42.1428346819999 -22.656850392, -42.142835409 -22.6568525559999, -42.14283613 -22.6568547219999, -42.1428368439999 -22.656856891, -42.1428375519999 -22.6568590599999, -42.142838254 -22.656861233, -42.142838949 -22.6568634079999, -42.1428396379999 -22.6568655839999, -42.1428403199999 -22.656867763, -42.142840996 -22.6568699429999, -42.1428416649999 -22.6568721259999, -42.142842328 -22.65687431, -42.142842985 -22.6568764969999, -42.142843635 -22.656878685, -42.142844278 -22.656880875, -42.142844915 -22.656883068, -42.1428455459999 -22.6568852619999, -42.1428461689999 -22.656887458, -42.1428467869999 -22.656889656, -42.142847398 -22.656891856, -42.1428480019999 -22.6568940569999, -42.1428486 -22.6568962599999, -42.142849191 -22.656898465, -42.1428497759999 -22.656900671, -42.142850355 -22.65690288, -42.1428509259999 -22.65690509, -42.1428514909999 -22.656907302, -42.1428520489999 -22.6569095159999, -42.142852601 -22.6569117299999, -42.142853147 -22.656913947, -42.142853686 -22.6569161649999, -42.142854218 -22.656918385, -42.142854744 -22.656920607, -42.1428552639999 -22.6569228299999, -42.142855776 -22.6569250549999, -42.142856282 -22.656927281, -42.142856781 -22.656929508, -42.1428572739999 -22.656931738, -42.14285776 -22.656933968, -42.14285824 -22.6569362, -42.142858713 -22.6569384329999, -42.142859179 -22.6569406679999, -42.1428596379999 -22.6569429039999, -42.142860092 -22.6569451419999, -42.142860538 -22.656947381, -42.1428609769999 -22.656949621, -42.14286141 -22.656951862, -42.1428618379999 -22.656954105, -42.1428622569999 -22.6569563489999, -42.1428626699999 -22.6569585939999, -42.142863077 -22.65696084, -42.1428634769999 -22.6569630879999, -42.14286387 -22.656965337, -42.142864257 -22.6569675869999, -42.142864636 -22.656969838, -42.14286501 -22.65697209, -42.142865376 -22.6569743439999, -42.142865736 -22.656976597, -42.1428660889999 -22.6569788529999, -42.142866436 -22.656981109, -42.1428667759999 -22.656983367, -42.142867109 -22.6569856249999, -42.142867435 -22.656987885, -42.142867754 -22.656990145, -42.1428680669999 -22.656992406, -42.142868375 -22.656994669, -42.1428686739999 -22.656996932, -42.142868966 -22.656999196, -42.142869253 -22.6570014609999, -42.142869533 -22.657003727, -42.142869805 -22.6570059929999, -42.1428700709999 -22.6570082609999, -42.1428703299999 -22.6570105279999, -42.1428705829999 -22.6570127969999, -42.1428708289999 -22.657015067, -42.142871069 -22.657017337, -42.142871301 -22.6570196079999, -42.142871527 -22.6570218799999, -42.142871745 -22.657024153, -42.1428719579999 -22.657026426, -42.142872164 -22.657028699, -42.142882323 -22.657143006, -42.1429273109999 -22.6576491069999, -42.142959479 -22.658044328, -42.143019222 -22.658228153, -42.14311573 -22.6583614259999, -42.143295457 -22.658573829, -42.143298048 -22.6585768919999, -42.143368489 -22.6586601399999, -42.143786689 -22.659147275, -42.144117573 -22.659547093, -42.144489818 -22.660015845, -42.144912613 -22.6604937879999, -42.145179158 -22.6607787149999, -42.145353792 -22.660953348, -42.145496255 -22.661068239, -42.145615741 -22.6611969159999, -42.145886882 -22.6615186089999, -42.146043133 -22.661725411, -42.146318869 -22.662065486, -42.146461609 -22.662235414, -42.146704901 -22.6625250459999, -42.1471230999999 -22.6629892029999, -42.1480422229999 -22.6640461929999, -42.148547739 -22.664616049, -42.148578694 -22.664652861, -42.148650044 -22.664737709, -42.148887815 -22.665020462, -42.148944372 -22.665083368, -42.1493381839999 -22.6655213829999, -42.149664472 -22.6658660539999, -42.149972378 -22.6662061289999, -42.1501699889999 -22.666458888, -42.150372196 -22.666771389, -42.150620359 -22.66715742, -42.150896095 -22.66753426, -42.151066133 -22.6677732319999, -42.15115345 -22.6680489679999, -42.1512453619999 -22.668301727, -42.15135106 -22.668508529, -42.151461355 -22.668724523, -42.1515176849999 -22.668896194, -42.1515946279999 -22.6691657, -42.1515952399999 -22.669167832, -42.151595858 -22.6691699629999, -42.151596484 -22.66917209, -42.1515971159999 -22.6691742159999, -42.151597753 -22.669176341, -42.151598398 -22.669178463, -42.15159905 -22.669180583, -42.1515997079999 -22.669182701, -42.151600373 -22.669184817, -42.151601043 -22.669186931, -42.15160172 -22.669189042, -42.151602404 -22.6691911519999, -42.1516030939999 -22.6691932599999, -42.151603791 -22.6691953659999, -42.151604494 -22.66919747, -42.151605204 -22.669199571, -42.15160592 -22.669201669, -42.1516066419999 -22.669203766, -42.151607371 -22.669205861, -42.151608107 -22.669207953, -42.151608849 -22.669210043, -42.1516095969999 -22.6692121319999, -42.151610352 -22.6692142169999, -42.1516111129999 -22.6692163, -42.15161188 -22.669218381, -42.151612654 -22.669220459, -42.151613434 -22.6692225359999, -42.1516142209999 -22.669224609, -42.151615013 -22.66922668, -42.151615813 -22.669228749, -42.1516166179999 -22.669230816, -42.1516174299999 -22.66923288, -42.151618249 -22.669234941, -42.1516190739999 -22.669237, -42.151619904 -22.669239056, -42.151620742 -22.66924111, -42.1516215849999 -22.6692431609999, -42.151622435 -22.6692452099999, -42.151623292 -22.669247255, -42.1516241539999 -22.6692492989999, -42.151625022 -22.66925134, -42.151625897 -22.669253378, -42.151626779 -22.669255413, -42.151627666 -22.669257446, -42.1516285599999 -22.6692594749999, -42.15162946 -22.6692615019999, -42.1516303659999 -22.6692635269999, -42.151631278 -22.6692655489999, -42.151632197 -22.669267567, -42.151633122 -22.669269583, -42.151634053 -22.6692715959999, -42.1516349899999 -22.6692736059999, -42.151635933 -22.669275613, -42.151636883 -22.669277618, -42.1516378379999 -22.669279619, -42.1516387999999 -22.669281618, -42.1516397679999 -22.6692836129999, -42.151640742 -22.669285606, -42.151641722 -22.669287595, -42.1516427079999 -22.6692895809999, -42.151643701 -22.669291565, -42.151644699 -22.6692935459999, -42.151645703 -22.669295523, -42.151646714 -22.6692974969999, -42.15164773 -22.669299468, -42.151648754 -22.669301436, -42.1516497819999 -22.669303401, -42.151650817 -22.669305363, -42.1516518569999 -22.669307321, -42.1516529039999 -22.669309277, -42.151653957 -22.669311229, -42.1516550159999 -22.6693131769999, -42.15165608 -22.6693151229999, -42.1516571509999 -22.669317066, -42.151658228 -22.669319005, -42.1516593109999 -22.66932094, -42.151660399 -22.669322872, -42.1516614939999 -22.6693248019999, -42.151662594 -22.6693267279999, -42.1516637 -22.66932865, -42.151664813 -22.669330568, -42.151665931 -22.6693324839999, -42.151667055 -22.669334396, -42.151668184 -22.669336304, -42.151669321 -22.6693382089999, -42.151670462 -22.66934011, -42.1516716089999 -22.6693420089999, -42.151672763 -22.669343903, -42.1516739209999 -22.669345794, -42.151675086 -22.669347682, -42.151676257 -22.6693495649999, -42.151677433 -22.669351446, -42.151678616 -22.6693533219999, -42.151679803 -22.669355195, -42.151680997 -22.6693570639999, -42.151682196 -22.6693589299999, -42.151683401 -22.669360792, -42.1516846119999 -22.66936265, -42.151685829 -22.669364505, -42.151687051 -22.669366355, -42.151688279 -22.6693682019999, -42.151689512 -22.6693700449999, -42.1516907509999 -22.6693718839999, -42.151691996 -22.66937372, -42.151693247 -22.669375552, -42.1516945029999 -22.66937738, -42.151695764 -22.6693792039999, -42.151697032 -22.669381024, -42.151698304 -22.66938284, -42.151699583 -22.669384653, -42.1517008669999 -22.6693864609999, -42.1517021559999 -22.669388265, -42.1517034519999 -22.6693900659999, -42.1517047529999 -22.6693918619999, -42.1517060589999 -22.669393655, -42.1517073699999 -22.669395444, -42.151708688 -22.669397228, -42.1517100099999 -22.669399008, -42.151711338 -22.6694007839999, -42.151712671 -22.669402556, -42.15171401 -22.669404325, -42.151715355 -22.669406088, -42.151716704 -22.669407849, -42.15171806 -22.669409604, -42.1517194199999 -22.669411356, -42.1517207869999 -22.669413103, -42.151722158 -22.6694148459999, -42.151723534 -22.669416585, -42.151724916 -22.66941832, -42.151726303 -22.6694200499999, -42.151727697 -22.669421776, -42.151729094 -22.669423498, -42.151730497 -22.669425216, -42.151731905 -22.6694269289999, -42.151733319 -22.6694286379999, -42.151734738 -22.6694303429999, -42.151736163 -22.669432043, -42.151737591 -22.6694337389999, -42.151739026 -22.66943543, -42.151740466 -22.669437117, -42.1517419109999 -22.6694388, -42.1517433619999 -22.669440478, -42.151744816 -22.6694421509999, -42.151746276 -22.669443821, -42.1517477429999 -22.669445485, -42.151749213 -22.669447146, -42.1517506879999 -22.6694488009999, -42.151752169 -22.669450452, -42.1517536549999 -22.669452099, -42.151755146 -22.6694537409999, -42.151756642 -22.6694553789999, -42.1517581429999 -22.669457011, -42.151759649 -22.669458639, -42.1517611589999 -22.669460263, -42.1517626749999 -22.669461882, -42.1517641959999 -22.669463497, -42.1517657219999 -22.669465106, -42.1517672529999 -22.6694667109999, -42.151768788 -22.6694683109999, -42.1517703289999 -22.669469907, -42.151771875 -22.669471497, -42.1517734249999 -22.669473083, -42.151774981 -22.6694746639999, -42.15177654 -22.6694762409999, -42.1517781059999 -22.669477812, -42.1517796749999 -22.6694793789999, -42.1517812499999 -22.669480941, -42.151782829 -22.669482498, -42.151784414 -22.6694840499999, -42.1517860019999 -22.6694855979999, -42.151787595 -22.6694871399999, -42.1517891939999 -22.6694886779999, -42.1517907969999 -22.669490211, -42.151792405 -22.669491739, -42.1517940169999 -22.669493261, -42.1517956339999 -22.6694947789999, -42.151797256 -22.669496292, -42.151798882 -22.669497801, -42.1518005139999 -22.669499303, -42.1518021489999 -22.669500801, -42.15180379 -22.6695022929999, -42.151805434 -22.6695037809999, -42.151807084 -22.6695052649999, -42.1518087379999 -22.669506742, -42.151810396 -22.669508215, -42.151812059 -22.669509682, -42.1518137269999 -22.6695111449999, -42.1518153979999 -22.6695126019999, -42.151817074 -22.6695140539999, -42.151818755 -22.669515501, -42.151820441 -22.669516944, -42.1518221319999 -22.6695183809999, -42.1518238269999 -22.669519813, -42.1518255249999 -22.6695212389999, -42.1518272289999 -22.669522661, -42.1518289369999 -22.6695240769999, -42.15183065 -22.669525489, -42.151832366 -22.6695268939999, -42.1518340869999 -22.669528295, -42.1518358119999 -22.6695296899999, -42.151837542 -22.66953108, -42.1518392749999 -22.669532465, -42.151841014 -22.6695338439999, -42.151842756 -22.669535218, -42.151844502 -22.6695365859999, -42.151846253 -22.6695379499999, -42.1518480079999 -22.669539308, -42.1518497659999 -22.6695406599999, -42.1518515299999 -22.669542007, -42.1518532969999 -22.669543349, -42.151855068 -22.6695446849999, -42.151856844 -22.669546016, -42.1518586239999 -22.6695473409999, -42.151860407 -22.669548661, -42.151862195 -22.6695499749999, -42.151863987 -22.669551283, -42.1518657829999 -22.6695525869999, -42.151867582 -22.669553884, -42.1518693859999 -22.6695551769999, -42.151871194 -22.6695564629999, -42.151873005 -22.669557745, -42.1518748199999 -22.66955902, -42.15187664 -22.669560291, -42.1518784639999 -22.6695615539999, -42.15188029 -22.669562813, -42.151882121 -22.669564066, -42.1518839569999 -22.669565314, -42.1518857949999 -22.6695665559999, -42.151887637 -22.669567792, -42.151889484 -22.669569023, -42.151891334 -22.669570248, -42.151893188 -22.669571467, -42.1518950459999 -22.6695726799999, -42.151896907 -22.6695738879999, -42.1518987709999 -22.66957509, -42.15190064 -22.6695762869999, -42.1519025119999 -22.669577477, -42.151904389 -22.6695786619999, -42.1519062679999 -22.669579841, -42.1519081509999 -22.669581014, -42.151910038 -22.6695821819999, -42.1519119289999 -22.6695833439999, -42.151913823 -22.6695844989999, -42.15191572 -22.6695856489999, -42.1519176209999 -22.669586793, -42.151919526 -22.669587931, -42.151921434 -22.669589064, -42.1519233459999 -22.6695901909999, -42.15192526 -22.669591311, -42.151927179 -22.669592426, -42.151929101 -22.6695935349999, -42.1519310259999 -22.669594638, -42.151932954 -22.669595736, -42.151934887 -22.669596826, -42.151936822 -22.669597912, -42.15193876 -22.6695989909999, -42.1519407019999 -22.669600064, -42.1519426469999 -22.669601131, -42.151944596 -22.6696021929999, -42.151946547 -22.669603249, -42.151948503 -22.669604298, -42.151950461 -22.669605341, -42.151952422 -22.669606379, -42.1519543869999 -22.66960741, -42.151956355 -22.6696084349999, -42.1519583259999 -22.669609454, -42.1519602989999 -22.669610468, -42.1519622759999 -22.669611475, -42.1522701819999 -22.669767726, -42.152426433 -22.6698550419999, -42.152473265 -22.669884501, -42.1527113609999 -22.67003427, -42.1530284579999 -22.6702089039999, -42.153184708 -22.6702778379999, -42.1534200249999 -22.670332899, -42.1537729469999 -22.670438685, -42.1538013869999 -22.6704496859999, -42.1538231929999 -22.670461905, -42.153840347 -22.6704743779999, -42.1538575929999 -22.6704902079999, -42.153872829 -22.67050798, -42.1538863329999 -22.670528294, -42.153894384 -22.670543762, -42.153900795 -22.670559241, -42.153906219 -22.6705765529999, -42.153952175 -22.670751186, -42.154004877 -22.6709353699999, -42.154095152 -22.671250861, -42.1542049339999 -22.6716059689999, -42.1542201299999 -22.6716455399999, -42.154251738 -22.671699256, -42.154286148 -22.6717390329999, -42.1543237769999 -22.671770549, -42.1543625539999 -22.671794226, -42.1544209269999 -22.671817367, -42.154581773 -22.671863323, -42.1548850839999 -22.6719414479999, -42.1550964809999 -22.6720103829999, -42.15530788 -22.6721114859999, -42.1555560419999 -22.672212589, -42.155804205 -22.672258545, -42.156061559 -22.672281524, -42.1563051259999 -22.672299906, -42.1566084359999 -22.6723688399999, -42.156847409 -22.672442369, -42.15705421 -22.6725159, -42.157146123 -22.672571046, -42.157238035 -22.672626194, -42.1574264549999 -22.6727732539999, -42.1577389569999 -22.6730168199999, -42.157923243 -22.673159643, -42.1581066049999 -22.673301749, -42.1584558709999 -22.67361425, -42.158648887 -22.673784288, -42.1588419019999 -22.673954325, -42.1591957639999 -22.6742346569999, -42.159443927 -22.674432268, -42.159940252 -22.674818299, -42.1603170929999 -22.675098632, -42.160712315 -22.675420324, -42.160775492 -22.675467957, -42.1612913619999 -22.675856907, -42.161734553 -22.676201611, -42.161829048 -22.676275107, -42.162270226 -22.6766427549999, -42.162628683 -22.676946066, -42.1631204139999 -22.67735048, -42.1635386139999 -22.677718128, -42.163695769 -22.677848297, -42.16399358 -22.678094968, -42.1642417419999 -22.678315558, -42.164342846 -22.678398278, -42.1645128829999 -22.6785269549999, -42.1648759359999 -22.6787935, -42.1653354969999 -22.679156554, -42.16581344 -22.679524203, -42.1661167509999 -22.67977696, -42.166475207 -22.6800572929999, -42.166659032 -22.680231926, -42.1668978989999 -22.680425167, -42.188087685 -22.717377695, -42.206060341 -22.7488358219999, -42.206076187 -22.748863421, -42.206282739 -22.7492231649999, -42.211256212 -22.757885281, -42.211603687 -22.758490465, -42.211819379 -22.758866128, -42.215335382 -22.764989821, -42.2168338609999 -22.767599666, -42.2168687349999 -22.7675684879999, -42.218398878 -22.7702368779999, -42.228683153 -22.7765396789999, -42.2538855999999 -22.791985203, -42.2524142459999 -22.796913547, -42.252401999 -22.79695457, -42.252108452 -22.7979378109999, -42.2460479969999 -22.818237483, -42.2456994419999 -22.819404979, -42.24460276 -22.823078347, -42.240732478 -22.836041969, -42.2406911319999 -22.8361804589999, -42.2405495899999 -22.836654558, -42.240539306 -22.8366890039999, -42.2405264459999 -22.8367320789999, -42.240095358 -22.8381760199999, -42.2400709789999 -22.83825768, -42.239493362 -22.840192423, -42.241788829 -22.842120082, -42.243010297 -22.8431458319999, -42.243483807 -22.843543471, -42.243534702 -22.8435862109999, -42.2449034319999 -22.8447356259999, -42.2477427599999 -22.8471200029999, -42.248445111 -22.847709815, -42.249254949 -22.848389891, -42.247716268 -22.8501018389999, -42.2467187469999 -22.851211688, -42.245956591 -22.852094683, -42.2453021059999 -22.8528529349999, -42.244689453 -22.853562723, -42.244593902 -22.853673423, -42.24285342 -22.8556898539999, -42.241494964 -22.857451673, -42.241467073 -22.857484396, -42.237394943 -22.862261829, -42.2372387789999 -22.86244504, -42.237248052 -22.8627324949999, -42.237183143 -22.862964314, -42.237201689 -22.863214677, -42.2370322359999 -22.863531838, -42.249077421 -22.873246885, -42.280623702 -22.8985211359999, -42.2826298319999 -22.9001504989999, -42.2822166289999 -22.900341683, -42.281892205 -22.900474141, -42.2816913349999 -22.900572078, -42.281374581 -22.900821315, -42.280457951 -22.901494745, -42.2790700629999 -22.903048466, -42.2790171419999 -22.903143341, -42.2789486889999 -22.903266034, -42.27885041 -22.903442277, -42.2787789569999 -22.90357039, -42.2786850329999 -22.9037387729999, -42.278488825 -22.904090557, -42.278312952 -22.904405862, -42.278279622 -22.904465643, -42.27820416 -22.904600925, -42.2781410489999 -22.904713919, -42.2780434169999 -22.904889151, -42.277998907 -22.904967772, -42.2776413089999 -22.905590785, -42.277473486 -22.9058830239999, -42.27727608 -22.906226965, -42.2771685289999 -22.906414142, -42.277073973 -22.906601871, -42.277010936 -22.906726287, -42.276896473 -22.90695383, -42.276770675 -22.907203491, -42.276680266 -22.9073826489999, -42.276577416 -22.907587244, -42.276058464 -22.908617407, -42.2755182719999 -22.9104036969999, -42.2753315699999 -22.911179918, -42.2751695159999 -22.91185366, -42.2750128019999 -22.9130350569999, -42.274934792 -22.914265824, -42.2752403699999 -22.9162939449999, -42.275663413 -22.9177556299999, -42.2757360269999 -22.917974446, -42.2759386339999 -22.918585832, -42.276114658 -22.9191174709999, -42.2767574009999 -22.920237287, -42.2772935739999 -22.9213808719999, -42.277889757 -22.9221800289999, -42.278333107 -22.9225756879999, -42.2786212739999 -22.9228329919999, -42.279382832 -22.9234138909999, -42.279844113 -22.923788405, -42.2802196169999 -22.9240930829999, -42.28078285 -22.924830839, -42.280951026 -22.9251053159999, -42.281288966 -22.925395658, -42.2819384279999 -22.9259197389999, -42.282980777 -22.92622804, -42.282654502 -22.928480554, -42.2826528479999 -22.9284942749999, -42.2826514 -22.928506286, -42.282034406 -22.932758877, -42.281425723 -22.9369541899999, -42.28121622 -22.9383914639999, -42.2812248 -22.939469201, -42.2816058989999 -22.939464205, -42.2824158139999 -22.939403797, -42.2839865559999 -22.939277395))\"\n        ],\n        \"semantic_type\": \"\",\n        \"description\": \"\"\n      }\n    }\n  ]\n}"
            }
          },
          "metadata": {},
          "execution_count": 5
        }
      ]
    },
    {
      "cell_type": "code",
      "source": [
        "gdf.plot()"
      ],
      "metadata": {
        "colab": {
          "base_uri": "https://localhost:8080/",
          "height": 447
        },
        "id": "ktiNXJ0SbS_X",
        "outputId": "7971c564-7add-4eef-c83d-35703c391dfc"
      },
      "execution_count": 6,
      "outputs": [
        {
          "output_type": "display_data",
          "data": {
            "text/plain": [
              "<IPython.core.display.HTML object>"
            ],
            "text/html": [
              "\n",
              "            <style>\n",
              "                .geemap-dark {\n",
              "                    --jp-widgets-color: white;\n",
              "                    --jp-widgets-label-color: white;\n",
              "                    --jp-ui-font-color1: white;\n",
              "                    --jp-layout-color2: #454545;\n",
              "                    background-color: #383838;\n",
              "                }\n",
              "\n",
              "                .geemap-dark .jupyter-button {\n",
              "                    --jp-layout-color3: #383838;\n",
              "                }\n",
              "\n",
              "                .geemap-colab {\n",
              "                    background-color: var(--colab-primary-surface-color, white);\n",
              "                }\n",
              "\n",
              "                .geemap-colab .jupyter-button {\n",
              "                    --jp-layout-color3: var(--colab-primary-surface-color, white);\n",
              "                }\n",
              "            </style>\n",
              "            "
            ]
          },
          "metadata": {}
        },
        {
          "output_type": "execute_result",
          "data": {
            "text/plain": [
              "<Axes: >"
            ]
          },
          "metadata": {},
          "execution_count": 6
        },
        {
          "output_type": "display_data",
          "data": {
            "text/plain": [
              "<Figure size 640x480 with 1 Axes>"
            ],
            "image/png": "[encoded data removed]"
          },
          "metadata": {}
        }
      ]
    },
    {
      "cell_type": "code",
      "source": [
        "shp_json = gdf.to_json()\n",
        "roi = json.loads(shp_json)\n",
        "roi = roi['features']\n",
        "roi"
      ],
      "metadata": {
        "id": "W8-9ER2Hb7zM"
      },
      "execution_count": null,
      "outputs": []
    },
    {
      "cell_type": "code",
      "source": [
        "region = ee.FeatureCollection(roi)\n",
        "\n",
        "\n",
        "Map = geemap.Map()\n",
        "Map.centerObject(region,10)\n",
        "Map.add_basemap('HYBRID')\n",
        "contorno = ee.Image().paint(region, 0, 2)\n",
        "Map.addLayer(contorno,{}, 'ROI')\n",
        "\n",
        "display(Map)"
      ],
      "metadata": {
        "colab": {
          "base_uri": "https://localhost:8080/",
          "height": 621,
          "referenced_widgets": [
            "a538415907b74f09920914e783c2310e",
            "a30bb2f88c4345a2b7bdde3a4f9e213c",
            "25332cb905324b1fa7768be2dd6a7b56",
            "86eeada1106243358b494209f5f06182",
            "e9c528f5d2ed496cb0ef848d39811bb9",
            "b7d8198e7d6d477393777f63ee23f46c",
            "b1e93951e7394db8a8073fb21365edaa",
            "e76cc31202364a44a5a741ebed111707",
            "c19783d569514bc09f2e78737cb87421",
            "4aefd041c9cc4e0987387aa4512bcc57",
            "38b5f3cba4ff462d8dfb155c8b309ff7",
            "aca7fa58f63a462a867b5f1d1515fe10",
            "eb95f0781bc142619d63483c2beba962",
            "a802189991da4c88b91fec3c6bed8cb3",
            "2e4e33b597394fe683141494b1cc8ef2",
            "eb545f87df884c03ac40d94ebea0f5fc",
            "e25bc150e20e490eb109ce04ba8af04e",
            "77b275dd08a34f719d51133520b69b4d",
            "972b8beff4754b8f9f8e232ead0088e7",
            "a2f7791416a84ffe8f2786f89fe60a80",
            "77a947df8b004eec8259e979540eb0e1",
            "b4e3d207057d4233a01a7c2d14973d06",
            "e118cbd7b33548149ee44ecb8d9f7054",
            "c981b988e76c47d89a9ac2906803efd6",
            "4ca69cccea844bb380cfba8c9199b317",
            "9ee289178dae4c2a8662cf59e1c1aac6",
            "1486b8d76d7547d0ab573818c68df855",
            "0ab1237599864b389cfd1f1402a506d0",
            "a6f386716c264d0c92f41bacdf4ab8bd",
            "35d54eca3bf44e4f99d3568416a12f94",
            "66d3ca8920de47a69cc2bba2f0704458",
            "00699c73133d4279815c6f1312ae397d"
          ]
        },
        "id": "5vXyDqpscKPS",
        "outputId": "4f150f91-03f8-43bd-cebc-0e139d9defaf"
      },
      "execution_count": 8,
      "outputs": [
        {
          "output_type": "display_data",
          "data": {
            "text/plain": [
              "<IPython.core.display.HTML object>"
            ],
            "text/html": [
              "\n",
              "            <style>\n",
              "                .geemap-dark {\n",
              "                    --jp-widgets-color: white;\n",
              "                    --jp-widgets-label-color: white;\n",
              "                    --jp-ui-font-color1: white;\n",
              "                    --jp-layout-color2: #454545;\n",
              "                    background-color: #383838;\n",
              "                }\n",
              "\n",
              "                .geemap-dark .jupyter-button {\n",
              "                    --jp-layout-color3: #383838;\n",
              "                }\n",
              "\n",
              "                .geemap-colab {\n",
              "                    background-color: var(--colab-primary-surface-color, white);\n",
              "                }\n",
              "\n",
              "                .geemap-colab .jupyter-button {\n",
              "                    --jp-layout-color3: var(--colab-primary-surface-color, white);\n",
              "                }\n",
              "            </style>\n",
              "            "
            ]
          },
          "metadata": {}
        },
        {
          "output_type": "display_data",
          "data": {
            "text/plain": [
              "Map(center=[-22.755302204539007, -42.29285576570886], controls=(WidgetControl(options=['position', 'transparen…"
            ],
            "application/vnd.jupyter.widget-view+json": {
              "version_major": 2,
              "version_minor": 0,
              "model_id": "a538415907b74f09920914e783c2310e"
            }
          },
          "metadata": {
            "application/vnd.jupyter.widget-view+json": {
              "colab": {
                "custom_widget_manager": {
                  "url": "https://ssl.gstatic.com/colaboratory-static/widgets/colab-cdn-widget-manager/2b70e893a8ba7c0f/manager.min.js"
                }
              }
            }
          }
        }
      ]
    },
    {
      "cell_type": "code",
      "source": [
        "Sentinel = ee.ImageCollection('COPERNICUS/S2_SR')\\\n",
        "         .filterBounds(ee.Geometry.Point([-42.333776, -22.821800]))\\\n",
        "         .filterDate('2023-01-01', '2024-01-01')\\\n",
        "         .sort('CLOUDY_PIXEL_PERCENTAGE')\\\n",
        "         .first()"
      ],
      "metadata": {
        "colab": {
          "base_uri": "https://localhost:8080/",
          "height": 17
        },
        "id": "kvb61_vgcKNE",
        "outputId": "e7128543-2fbd-44e7-98ee-e38772f3c16d"
      },
      "execution_count": 29,
      "outputs": [
        {
          "output_type": "display_data",
          "data": {
            "text/plain": [
              "<IPython.core.display.HTML object>"
            ],
            "text/html": [
              "\n",
              "            <style>\n",
              "                .geemap-dark {\n",
              "                    --jp-widgets-color: white;\n",
              "                    --jp-widgets-label-color: white;\n",
              "                    --jp-ui-font-color1: white;\n",
              "                    --jp-layout-color2: #454545;\n",
              "                    background-color: #383838;\n",
              "                }\n",
              "\n",
              "                .geemap-dark .jupyter-button {\n",
              "                    --jp-layout-color3: #383838;\n",
              "                }\n",
              "\n",
              "                .geemap-colab {\n",
              "                    background-color: var(--colab-primary-surface-color, white);\n",
              "                }\n",
              "\n",
              "                .geemap-colab .jupyter-button {\n",
              "                    --jp-layout-color3: var(--colab-primary-surface-color, white);\n",
              "                }\n",
              "            </style>\n",
              "            "
            ]
          },
          "metadata": {}
        }
      ]
    },
    {
      "cell_type": "code",
      "source": [
        "Sentinel"
      ],
      "metadata": {
        "colab": {
          "base_uri": "https://localhost:8080/",
          "height": 68
        },
        "id": "PDPlK7qVfVKF",
        "outputId": "c33f6926-b6fd-41bc-f50a-9074e333afa8"
      },
      "execution_count": 30,
      "outputs": [
        {
          "output_type": "display_data",
          "data": {
            "text/plain": [
              "<IPython.core.display.HTML object>"
            ],
            "text/html": [
              "\n",
              "            <style>\n",
              "                .geemap-dark {\n",
              "                    --jp-widgets-color: white;\n",
              "                    --jp-widgets-label-color: white;\n",
              "                    --jp-ui-font-color1: white;\n",
              "                    --jp-layout-color2: #454545;\n",
              "                    background-color: #383838;\n",
              "                }\n",
              "\n",
              "                .geemap-dark .jupyter-button {\n",
              "                    --jp-layout-color3: #383838;\n",
              "                }\n",
              "\n",
              "                .geemap-colab {\n",
              "                    background-color: var(--colab-primary-surface-color, white);\n",
              "                }\n",
              "\n",
              "                .geemap-colab .jupyter-button {\n",
              "                    --jp-layout-color3: var(--colab-primary-surface-color, white);\n",
              "                }\n",
              "            </style>\n",
              "            "
            ]
          },
          "metadata": {}
        },
        {
          "output_type": "execute_result",
          "data": {
            "text/plain": [
              "<ee.image.Image at 0x7fceaf0f16c0>"
            ],
            "text/html": [
              "<div><style>:root {\n",
              "  --font-color-primary: var(--jp-content-font-color0, rgba(0, 0, 0, 1));\n",
              "  --font-color-secondary: var(--jp-content-font-color2, rgba(0, 0, 0, 0.6));\n",
              "  --font-color-accent: rgba(123, 31, 162, 1);\n",
              "  --border-color: var(--jp-border-color2, #e0e0e0);\n",
              "  --background-color: var(--jp-layout-color0, white);\n",
              "  --background-color-row-even: var(--jp-layout-color1, white);\n",
              "  --background-color-row-odd: var(--jp-layout-color2, #eeeeee);\n",
              "}\n",
              "\n",
              "html[theme=\"dark\"],\n",
              "body[data-theme=\"dark\"],\n",
              "body.vscode-dark {\n",
              "  --font-color-primary: rgba(255, 255, 255, 1);\n",
              "  --font-color-secondary: rgba(255, 255, 255, 0.6);\n",
              "  --font-color-accent: rgb(173, 132, 190);\n",
              "  --border-color: #2e2e2e;\n",
              "  --background-color: #111111;\n",
              "  --background-color-row-even: #111111;\n",
              "  --background-color-row-odd: #313131;\n",
              "}\n",
              "\n",
              ".ee {\n",
              "  padding: 1em;\n",
              "  line-height: 1.5em;\n",
              "  min-width: 300px;\n",
              "  max-width: 1200px;\n",
              "  overflow-y: scroll;\n",
              "  max-height: 600px;\n",
              "  border: 1px solid var(--border-color);\n",
              "  font-family: monospace;\n",
              "}\n",
              "\n",
              ".ee li {\n",
              "  list-style-type: none;\n",
              "}\n",
              "\n",
              ".ee ul {\n",
              "  padding-left: 1.5em !important;\n",
              "  margin: 0;\n",
              "}\n",
              "\n",
              ".ee > ul {\n",
              "  padding-left: 0 !important;\n",
              "}\n",
              "\n",
              ".ee-open,\n",
              ".ee-shut {\n",
              "  color: var(--font-color-secondary);\n",
              "  cursor: pointer;\n",
              "  margin: 0;\n",
              "}\n",
              "\n",
              ".ee-open:hover,\n",
              ".ee-shut:hover {\n",
              "  color: var(--font-color-primary);\n",
              "}\n",
              "\n",
              ".ee-k {\n",
              "  color: var(--font-color-accent);\n",
              "  margin-right: 6px;\n",
              "}\n",
              "\n",
              ".ee-v {\n",
              "  color: var(--font-color-primary);\n",
              "}\n",
              "\n",
              ".ee-toggle {\n",
              "  display: none;\n",
              "}\n",
              "\n",
              ".ee-shut + ul {\n",
              "  display: none;\n",
              "}\n",
              "\n",
              ".ee-open + ul {\n",
              "  display: block;\n",
              "}\n",
              "\n",
              ".ee-shut::before {\n",
              "  display: inline-block;\n",
              "  content: \"▼\";\n",
              "  margin-right: 6px;\n",
              "  transform: rotate(-90deg);\n",
              "  transition: transform 0.2s;\n",
              "}\n",
              "\n",
              ".ee-open::before {\n",
              "  transform: rotate(0deg);\n",
              "  display: inline-block;\n",
              "  content: \"▼\";\n",
              "  margin-right: 6px;\n",
              "  transition: transform 0.2s;\n",
              "}\n",
              "</style><div class='ee'><ul><li><label class='ee-shut'>Image COPERNICUS/S2_SR/20230727T130251_20230727T130724_T23KQQ (23 bands)<input type='checkbox' class='ee-toggle'></label><ul><li><span class='ee-k'>type:</span><span class='ee-v'>Image</span></li><li><span class='ee-k'>id:</span><span class='ee-v'>COPERNICUS/S2_SR/20230727T130251_20230727T130724_T23KQQ</span></li><li><span class='ee-k'>version:</span><span class='ee-v'>1690501372433942</span></li><li><label class='ee-shut'>bands: List (23 elements)<input type='checkbox' class='ee-toggle'></label><ul><li><label class='ee-shut'>0: \"B1\", unsigned int16, EPSG:32723, 1830x1830 px<input type='checkbox' class='ee-toggle'></label><ul><li><span class='ee-k'>id:</span><span class='ee-v'>B1</span></li><li><span class='ee-k'>crs:</span><span class='ee-v'>EPSG:32723</span></li><li><label class='ee-shut'>crs_transform: [60, 0, 699960, 0, -60, 7500040]<input type='checkbox' class='ee-toggle'></label><ul><li><span class='ee-k'>0:</span><span class='ee-v'>60</span></li><li><span class='ee-k'>1:</span><span class='ee-v'>0</span></li><li><span class='ee-k'>2:</span><span class='ee-v'>699960</span></li><li><span class='ee-k'>3:</span><span class='ee-v'>0</span></li><li><span class='ee-k'>4:</span><span class='ee-v'>-60</span></li><li><span class='ee-k'>5:</span><span class='ee-v'>7500040</span></li></ul></li><li><label class='ee-shut'>data_type: unsigned int16<input type='checkbox' class='ee-toggle'></label><ul><li><span class='ee-k'>type:</span><span class='ee-v'>PixelType</span></li><li><span class='ee-k'>max:</span><span class='ee-v'>65535</span></li><li><span class='ee-k'>min:</span><span class='ee-v'>0</span></li><li><span class='ee-k'>precision:</span><span class='ee-v'>int</span></li></ul></li><li><label class='ee-shut'>dimensions: [1830, 1830]<input type='checkbox' class='ee-toggle'></label><ul><li><span class='ee-k'>0:</span><span class='ee-v'>1830</span></li><li><span class='ee-k'>1:</span><span class='ee-v'>1830</span></li></ul></li></ul></li><li><label class='ee-shut'>1: \"B2\", unsigned int16, EPSG:32723, 10980x10980 px<input type='checkbox' class='ee-toggle'></label><ul><li><span class='ee-k'>id:</span><span class='ee-v'>B2</span></li><li><span class='ee-k'>crs:</span><span class='ee-v'>EPSG:32723</span></li><li><label class='ee-shut'>crs_transform: [10, 0, 699960, 0, -10, 7500040]<input type='checkbox' class='ee-toggle'></label><ul><li><span class='ee-k'>0:</span><span class='ee-v'>10</span></li><li><span class='ee-k'>1:</span><span class='ee-v'>0</span></li><li><span class='ee-k'>2:</span><span class='ee-v'>699960</span></li><li><span class='ee-k'>3:</span><span class='ee-v'>0</span></li><li><span class='ee-k'>4:</span><span class='ee-v'>-10</span></li><li><span class='ee-k'>5:</span><span class='ee-v'>7500040</span></li></ul></li><li><label class='ee-shut'>data_type: unsigned int16<input type='checkbox' class='ee-toggle'></label><ul><li><span class='ee-k'>type:</span><span class='ee-v'>PixelType</span></li><li><span class='ee-k'>max:</span><span class='ee-v'>65535</span></li><li><span class='ee-k'>min:</span><span class='ee-v'>0</span></li><li><span class='ee-k'>precision:</span><span class='ee-v'>int</span></li></ul></li><li><label class='ee-shut'>dimensions: [10980, 10980]<input type='checkbox' class='ee-toggle'></label><ul><li><span class='ee-k'>0:</span><span class='ee-v'>10980</span></li><li><span class='ee-k'>1:</span><span class='ee-v'>10980</span></li></ul></li></ul></li><li><label class='ee-shut'>2: \"B3\", unsigned int16, EPSG:32723, 10980x10980 px<input type='checkbox' class='ee-toggle'></label><ul><li><span class='ee-k'>id:</span><span class='ee-v'>B3</span></li><li><span class='ee-k'>crs:</span><span class='ee-v'>EPSG:32723</span></li><li><label class='ee-shut'>crs_transform: [10, 0, 699960, 0, -10, 7500040]<input type='checkbox' class='ee-toggle'></label><ul><li><span class='ee-k'>0:</span><span class='ee-v'>10</span></li><li><span class='ee-k'>1:</span><span class='ee-v'>0</span></li><li><span class='ee-k'>2:</span><span class='ee-v'>699960</span></li><li><span class='ee-k'>3:</span><span class='ee-v'>0</span></li><li><span class='ee-k'>4:</span><span class='ee-v'>-10</span></li><li><span class='ee-k'>5:</span><span class='ee-v'>7500040</span></li></ul></li><li><label class='ee-shut'>data_type: unsigned int16<input type='checkbox' class='ee-toggle'></label><ul><li><span class='ee-k'>type:</span><span class='ee-v'>PixelType</span></li><li><span class='ee-k'>max:</span><span class='ee-v'>65535</span></li><li><span class='ee-k'>min:</span><span class='ee-v'>0</span></li><li><span class='ee-k'>precision:</span><span class='ee-v'>int</span></li></ul></li><li><label class='ee-shut'>dimensions: [10980, 10980]<input type='checkbox' class='ee-toggle'></label><ul><li><span class='ee-k'>0:</span><span class='ee-v'>10980</span></li><li><span class='ee-k'>1:</span><span class='ee-v'>10980</span></li></ul></li></ul></li><li><label class='ee-shut'>3: \"B4\", unsigned int16, EPSG:32723, 10980x10980 px<input type='checkbox' class='ee-toggle'></label><ul><li><span class='ee-k'>id:</span><span class='ee-v'>B4</span></li><li><span class='ee-k'>crs:</span><span class='ee-v'>EPSG:32723</span></li><li><label class='ee-shut'>crs_transform: [10, 0, 699960, 0, -10, 7500040]<input type='checkbox' class='ee-toggle'></label><ul><li><span class='ee-k'>0:</span><span class='ee-v'>10</span></li><li><span class='ee-k'>1:</span><span class='ee-v'>0</span></li><li><span class='ee-k'>2:</span><span class='ee-v'>699960</span></li><li><span class='ee-k'>3:</span><span class='ee-v'>0</span></li><li><span class='ee-k'>4:</span><span class='ee-v'>-10</span></li><li><span class='ee-k'>5:</span><span class='ee-v'>7500040</span></li></ul></li><li><label class='ee-shut'>data_type: unsigned int16<input type='checkbox' class='ee-toggle'></label><ul><li><span class='ee-k'>type:</span><span class='ee-v'>PixelType</span></li><li><span class='ee-k'>max:</span><span class='ee-v'>65535</span></li><li><span class='ee-k'>min:</span><span class='ee-v'>0</span></li><li><span class='ee-k'>precision:</span><span class='ee-v'>int</span></li></ul></li><li><label class='ee-shut'>dimensions: [10980, 10980]<input type='checkbox' class='ee-toggle'></label><ul><li><span class='ee-k'>0:</span><span class='ee-v'>10980</span></li><li><span class='ee-k'>1:</span><span class='ee-v'>10980</span></li></ul></li></ul></li><li><label class='ee-shut'>4: \"B5\", unsigned int16, EPSG:32723, 5490x5490 px<input type='checkbox' class='ee-toggle'></label><ul><li><span class='ee-k'>id:</span><span class='ee-v'>B5</span></li><li><span class='ee-k'>crs:</span><span class='ee-v'>EPSG:32723</span></li><li><label class='ee-shut'>crs_transform: [20, 0, 699960, 0, -20, 7500040]<input type='checkbox' class='ee-toggle'></label><ul><li><span class='ee-k'>0:</span><span class='ee-v'>20</span></li><li><span class='ee-k'>1:</span><span class='ee-v'>0</span></li><li><span class='ee-k'>2:</span><span class='ee-v'>699960</span></li><li><span class='ee-k'>3:</span><span class='ee-v'>0</span></li><li><span class='ee-k'>4:</span><span class='ee-v'>-20</span></li><li><span class='ee-k'>5:</span><span class='ee-v'>7500040</span></li></ul></li><li><label class='ee-shut'>data_type: unsigned int16<input type='checkbox' class='ee-toggle'></label><ul><li><span class='ee-k'>type:</span><span class='ee-v'>PixelType</span></li><li><span class='ee-k'>max:</span><span class='ee-v'>65535</span></li><li><span class='ee-k'>min:</span><span class='ee-v'>0</span></li><li><span class='ee-k'>precision:</span><span class='ee-v'>int</span></li></ul></li><li><label class='ee-shut'>dimensions: [5490, 5490]<input type='checkbox' class='ee-toggle'></label><ul><li><span class='ee-k'>0:</span><span class='ee-v'>5490</span></li><li><span class='ee-k'>1:</span><span class='ee-v'>5490</span></li></ul></li></ul></li><li><label class='ee-shut'>5: \"B6\", unsigned int16, EPSG:32723, 5490x5490 px<input type='checkbox' class='ee-toggle'></label><ul><li><span class='ee-k'>id:</span><span class='ee-v'>B6</span></li><li><span class='ee-k'>crs:</span><span class='ee-v'>EPSG:32723</span></li><li><label class='ee-shut'>crs_transform: [20, 0, 699960, 0, -20, 7500040]<input type='checkbox' class='ee-toggle'></label><ul><li><span class='ee-k'>0:</span><span class='ee-v'>20</span></li><li><span class='ee-k'>1:</span><span class='ee-v'>0</span></li><li><span class='ee-k'>2:</span><span class='ee-v'>699960</span></li><li><span class='ee-k'>3:</span><span class='ee-v'>0</span></li><li><span class='ee-k'>4:</span><span class='ee-v'>-20</span></li><li><span class='ee-k'>5:</span><span class='ee-v'>7500040</span></li></ul></li><li><label class='ee-shut'>data_type: unsigned int16<input type='checkbox' class='ee-toggle'></label><ul><li><span class='ee-k'>type:</span><span class='ee-v'>PixelType</span></li><li><span class='ee-k'>max:</span><span class='ee-v'>65535</span></li><li><span class='ee-k'>min:</span><span class='ee-v'>0</span></li><li><span class='ee-k'>precision:</span><span class='ee-v'>int</span></li></ul></li><li><label class='ee-shut'>dimensions: [5490, 5490]<input type='checkbox' class='ee-toggle'></label><ul><li><span class='ee-k'>0:</span><span class='ee-v'>5490</span></li><li><span class='ee-k'>1:</span><span class='ee-v'>5490</span></li></ul></li></ul></li><li><label class='ee-shut'>6: \"B7\", unsigned int16, EPSG:32723, 5490x5490 px<input type='checkbox' class='ee-toggle'></label><ul><li><span class='ee-k'>id:</span><span class='ee-v'>B7</span></li><li><span class='ee-k'>crs:</span><span class='ee-v'>EPSG:32723</span></li><li><label class='ee-shut'>crs_transform: [20, 0, 699960, 0, -20, 7500040]<input type='checkbox' class='ee-toggle'></label><ul><li><span class='ee-k'>0:</span><span class='ee-v'>20</span></li><li><span class='ee-k'>1:</span><span class='ee-v'>0</span></li><li><span class='ee-k'>2:</span><span class='ee-v'>699960</span></li><li><span class='ee-k'>3:</span><span class='ee-v'>0</span></li><li><span class='ee-k'>4:</span><span class='ee-v'>-20</span></li><li><span class='ee-k'>5:</span><span class='ee-v'>7500040</span></li></ul></li><li><label class='ee-shut'>data_type: unsigned int16<input type='checkbox' class='ee-toggle'></label><ul><li><span class='ee-k'>type:</span><span class='ee-v'>PixelType</span></li><li><span class='ee-k'>max:</span><span class='ee-v'>65535</span></li><li><span class='ee-k'>min:</span><span class='ee-v'>0</span></li><li><span class='ee-k'>precision:</span><span class='ee-v'>int</span></li></ul></li><li><label class='ee-shut'>dimensions: [5490, 5490]<input type='checkbox' class='ee-toggle'></label><ul><li><span class='ee-k'>0:</span><span class='ee-v'>5490</span></li><li><span class='ee-k'>1:</span><span class='ee-v'>5490</span></li></ul></li></ul></li><li><label class='ee-shut'>7: \"B8\", unsigned int16, EPSG:32723, 10980x10980 px<input type='checkbox' class='ee-toggle'></label><ul><li><span class='ee-k'>id:</span><span class='ee-v'>B8</span></li><li><span class='ee-k'>crs:</span><span class='ee-v'>EPSG:32723</span></li><li><label class='ee-shut'>crs_transform: [10, 0, 699960, 0, -10, 7500040]<input type='checkbox' class='ee-toggle'></label><ul><li><span class='ee-k'>0:</span><span class='ee-v'>10</span></li><li><span class='ee-k'>1:</span><span class='ee-v'>0</span></li><li><span class='ee-k'>2:</span><span class='ee-v'>699960</span></li><li><span class='ee-k'>3:</span><span class='ee-v'>0</span></li><li><span class='ee-k'>4:</span><span class='ee-v'>-10</span></li><li><span class='ee-k'>5:</span><span class='ee-v'>7500040</span></li></ul></li><li><label class='ee-shut'>data_type: unsigned int16<input type='checkbox' class='ee-toggle'></label><ul><li><span class='ee-k'>type:</span><span class='ee-v'>PixelType</span></li><li><span class='ee-k'>max:</span><span class='ee-v'>65535</span></li><li><span class='ee-k'>min:</span><span class='ee-v'>0</span></li><li><span class='ee-k'>precision:</span><span class='ee-v'>int</span></li></ul></li><li><label class='ee-shut'>dimensions: [10980, 10980]<input type='checkbox' class='ee-toggle'></label><ul><li><span class='ee-k'>0:</span><span class='ee-v'>10980</span></li><li><span class='ee-k'>1:</span><span class='ee-v'>10980</span></li></ul></li></ul></li><li><label class='ee-shut'>8: \"B8A\", unsigned int16, EPSG:32723, 5490x5490 px<input type='checkbox' class='ee-toggle'></label><ul><li><span class='ee-k'>id:</span><span class='ee-v'>B8A</span></li><li><span class='ee-k'>crs:</span><span class='ee-v'>EPSG:32723</span></li><li><label class='ee-shut'>crs_transform: [20, 0, 699960, 0, -20, 7500040]<input type='checkbox' class='ee-toggle'></label><ul><li><span class='ee-k'>0:</span><span class='ee-v'>20</span></li><li><span class='ee-k'>1:</span><span class='ee-v'>0</span></li><li><span class='ee-k'>2:</span><span class='ee-v'>699960</span></li><li><span class='ee-k'>3:</span><span class='ee-v'>0</span></li><li><span class='ee-k'>4:</span><span class='ee-v'>-20</span></li><li><span class='ee-k'>5:</span><span class='ee-v'>7500040</span></li></ul></li><li><label class='ee-shut'>data_type: unsigned int16<input type='checkbox' class='ee-toggle'></label><ul><li><span class='ee-k'>type:</span><span class='ee-v'>PixelType</span></li><li><span class='ee-k'>max:</span><span class='ee-v'>65535</span></li><li><span class='ee-k'>min:</span><span class='ee-v'>0</span></li><li><span class='ee-k'>precision:</span><span class='ee-v'>int</span></li></ul></li><li><label class='ee-shut'>dimensions: [5490, 5490]<input type='checkbox' class='ee-toggle'></label><ul><li><span class='ee-k'>0:</span><span class='ee-v'>5490</span></li><li><span class='ee-k'>1:</span><span class='ee-v'>5490</span></li></ul></li></ul></li><li><label class='ee-shut'>9: \"B9\", unsigned int16, EPSG:32723, 1830x1830 px<input type='checkbox' class='ee-toggle'></label><ul><li><span class='ee-k'>id:</span><span class='ee-v'>B9</span></li><li><span class='ee-k'>crs:</span><span class='ee-v'>EPSG:32723</span></li><li><label class='ee-shut'>crs_transform: [60, 0, 699960, 0, -60, 7500040]<input type='checkbox' class='ee-toggle'></label><ul><li><span class='ee-k'>0:</span><span class='ee-v'>60</span></li><li><span class='ee-k'>1:</span><span class='ee-v'>0</span></li><li><span class='ee-k'>2:</span><span class='ee-v'>699960</span></li><li><span class='ee-k'>3:</span><span class='ee-v'>0</span></li><li><span class='ee-k'>4:</span><span class='ee-v'>-60</span></li><li><span class='ee-k'>5:</span><span class='ee-v'>7500040</span></li></ul></li><li><label class='ee-shut'>data_type: unsigned int16<input type='checkbox' class='ee-toggle'></label><ul><li><span class='ee-k'>type:</span><span class='ee-v'>PixelType</span></li><li><span class='ee-k'>max:</span><span class='ee-v'>65535</span></li><li><span class='ee-k'>min:</span><span class='ee-v'>0</span></li><li><span class='ee-k'>precision:</span><span class='ee-v'>int</span></li></ul></li><li><label class='ee-shut'>dimensions: [1830, 1830]<input type='checkbox' class='ee-toggle'></label><ul><li><span class='ee-k'>0:</span><span class='ee-v'>1830</span></li><li><span class='ee-k'>1:</span><span class='ee-v'>1830</span></li></ul></li></ul></li><li><label class='ee-shut'>10: \"B11\", unsigned int16, EPSG:32723, 5490x5490 px<input type='checkbox' class='ee-toggle'></label><ul><li><span class='ee-k'>id:</span><span class='ee-v'>B11</span></li><li><span class='ee-k'>crs:</span><span class='ee-v'>EPSG:32723</span></li><li><label class='ee-shut'>crs_transform: [20, 0, 699960, 0, -20, 7500040]<input type='checkbox' class='ee-toggle'></label><ul><li><span class='ee-k'>0:</span><span class='ee-v'>20</span></li><li><span class='ee-k'>1:</span><span class='ee-v'>0</span></li><li><span class='ee-k'>2:</span><span class='ee-v'>699960</span></li><li><span class='ee-k'>3:</span><span class='ee-v'>0</span></li><li><span class='ee-k'>4:</span><span class='ee-v'>-20</span></li><li><span class='ee-k'>5:</span><span class='ee-v'>7500040</span></li></ul></li><li><label class='ee-shut'>data_type: unsigned int16<input type='checkbox' class='ee-toggle'></label><ul><li><span class='ee-k'>type:</span><span class='ee-v'>PixelType</span></li><li><span class='ee-k'>max:</span><span class='ee-v'>65535</span></li><li><span class='ee-k'>min:</span><span class='ee-v'>0</span></li><li><span class='ee-k'>precision:</span><span class='ee-v'>int</span></li></ul></li><li><label class='ee-shut'>dimensions: [5490, 5490]<input type='checkbox' class='ee-toggle'></label><ul><li><span class='ee-k'>0:</span><span class='ee-v'>5490</span></li><li><span class='ee-k'>1:</span><span class='ee-v'>5490</span></li></ul></li></ul></li><li><label class='ee-shut'>11: \"B12\", unsigned int16, EPSG:32723, 5490x5490 px<input type='checkbox' class='ee-toggle'></label><ul><li><span class='ee-k'>id:</span><span class='ee-v'>B12</span></li><li><span class='ee-k'>crs:</span><span class='ee-v'>EPSG:32723</span></li><li><label class='ee-shut'>crs_transform: [20, 0, 699960, 0, -20, 7500040]<input type='checkbox' class='ee-toggle'></label><ul><li><span class='ee-k'>0:</span><span class='ee-v'>20</span></li><li><span class='ee-k'>1:</span><span class='ee-v'>0</span></li><li><span class='ee-k'>2:</span><span class='ee-v'>699960</span></li><li><span class='ee-k'>3:</span><span class='ee-v'>0</span></li><li><span class='ee-k'>4:</span><span class='ee-v'>-20</span></li><li><span class='ee-k'>5:</span><span class='ee-v'>7500040</span></li></ul></li><li><label class='ee-shut'>data_type: unsigned int16<input type='checkbox' class='ee-toggle'></label><ul><li><span class='ee-k'>type:</span><span class='ee-v'>PixelType</span></li><li><span class='ee-k'>max:</span><span class='ee-v'>65535</span></li><li><span class='ee-k'>min:</span><span class='ee-v'>0</span></li><li><span class='ee-k'>precision:</span><span class='ee-v'>int</span></li></ul></li><li><label class='ee-shut'>dimensions: [5490, 5490]<input type='checkbox' class='ee-toggle'></label><ul><li><span class='ee-k'>0:</span><span class='ee-v'>5490</span></li><li><span class='ee-k'>1:</span><span class='ee-v'>5490</span></li></ul></li></ul></li><li><label class='ee-shut'>12: \"AOT\", unsigned int16, EPSG:32723, 10980x10980 px<input type='checkbox' class='ee-toggle'></label><ul><li><span class='ee-k'>id:</span><span class='ee-v'>AOT</span></li><li><span class='ee-k'>crs:</span><span class='ee-v'>EPSG:32723</span></li><li><label class='ee-shut'>crs_transform: [10, 0, 699960, 0, -10, 7500040]<input type='checkbox' class='ee-toggle'></label><ul><li><span class='ee-k'>0:</span><span class='ee-v'>10</span></li><li><span class='ee-k'>1:</span><span class='ee-v'>0</span></li><li><span class='ee-k'>2:</span><span class='ee-v'>699960</span></li><li><span class='ee-k'>3:</span><span class='ee-v'>0</span></li><li><span class='ee-k'>4:</span><span class='ee-v'>-10</span></li><li><span class='ee-k'>5:</span><span class='ee-v'>7500040</span></li></ul></li><li><label class='ee-shut'>data_type: unsigned int16<input type='checkbox' class='ee-toggle'></label><ul><li><span class='ee-k'>type:</span><span class='ee-v'>PixelType</span></li><li><span class='ee-k'>max:</span><span class='ee-v'>65535</span></li><li><span class='ee-k'>min:</span><span class='ee-v'>0</span></li><li><span class='ee-k'>precision:</span><span class='ee-v'>int</span></li></ul></li><li><label class='ee-shut'>dimensions: [10980, 10980]<input type='checkbox' class='ee-toggle'></label><ul><li><span class='ee-k'>0:</span><span class='ee-v'>10980</span></li><li><span class='ee-k'>1:</span><span class='ee-v'>10980</span></li></ul></li></ul></li><li><label class='ee-shut'>13: \"WVP\", unsigned int16, EPSG:32723, 10980x10980 px<input type='checkbox' class='ee-toggle'></label><ul><li><span class='ee-k'>id:</span><span class='ee-v'>WVP</span></li><li><span class='ee-k'>crs:</span><span class='ee-v'>EPSG:32723</span></li><li><label class='ee-shut'>crs_transform: [10, 0, 699960, 0, -10, 7500040]<input type='checkbox' class='ee-toggle'></label><ul><li><span class='ee-k'>0:</span><span class='ee-v'>10</span></li><li><span class='ee-k'>1:</span><span class='ee-v'>0</span></li><li><span class='ee-k'>2:</span><span class='ee-v'>699960</span></li><li><span class='ee-k'>3:</span><span class='ee-v'>0</span></li><li><span class='ee-k'>4:</span><span class='ee-v'>-10</span></li><li><span class='ee-k'>5:</span><span class='ee-v'>7500040</span></li></ul></li><li><label class='ee-shut'>data_type: unsigned int16<input type='checkbox' class='ee-toggle'></label><ul><li><span class='ee-k'>type:</span><span class='ee-v'>PixelType</span></li><li><span class='ee-k'>max:</span><span class='ee-v'>65535</span></li><li><span class='ee-k'>min:</span><span class='ee-v'>0</span></li><li><span class='ee-k'>precision:</span><span class='ee-v'>int</span></li></ul></li><li><label class='ee-shut'>dimensions: [10980, 10980]<input type='checkbox' class='ee-toggle'></label><ul><li><span class='ee-k'>0:</span><span class='ee-v'>10980</span></li><li><span class='ee-k'>1:</span><span class='ee-v'>10980</span></li></ul></li></ul></li><li><label class='ee-shut'>14: \"SCL\", unsigned int8, EPSG:32723, 5490x5490 px<input type='checkbox' class='ee-toggle'></label><ul><li><span class='ee-k'>id:</span><span class='ee-v'>SCL</span></li><li><span class='ee-k'>crs:</span><span class='ee-v'>EPSG:32723</span></li><li><label class='ee-shut'>crs_transform: [20, 0, 699960, 0, -20, 7500040]<input type='checkbox' class='ee-toggle'></label><ul><li><span class='ee-k'>0:</span><span class='ee-v'>20</span></li><li><span class='ee-k'>1:</span><span class='ee-v'>0</span></li><li><span class='ee-k'>2:</span><span class='ee-v'>699960</span></li><li><span class='ee-k'>3:</span><span class='ee-v'>0</span></li><li><span class='ee-k'>4:</span><span class='ee-v'>-20</span></li><li><span class='ee-k'>5:</span><span class='ee-v'>7500040</span></li></ul></li><li><label class='ee-shut'>data_type: unsigned int8<input type='checkbox' class='ee-toggle'></label><ul><li><span class='ee-k'>type:</span><span class='ee-v'>PixelType</span></li><li><span class='ee-k'>max:</span><span class='ee-v'>255</span></li><li><span class='ee-k'>min:</span><span class='ee-v'>0</span></li><li><span class='ee-k'>precision:</span><span class='ee-v'>int</span></li></ul></li><li><label class='ee-shut'>dimensions: [5490, 5490]<input type='checkbox' class='ee-toggle'></label><ul><li><span class='ee-k'>0:</span><span class='ee-v'>5490</span></li><li><span class='ee-k'>1:</span><span class='ee-v'>5490</span></li></ul></li></ul></li><li><label class='ee-shut'>15: \"TCI_R\", unsigned int8, EPSG:32723, 10980x10980 px<input type='checkbox' class='ee-toggle'></label><ul><li><span class='ee-k'>id:</span><span class='ee-v'>TCI_R</span></li><li><span class='ee-k'>crs:</span><span class='ee-v'>EPSG:32723</span></li><li><label class='ee-shut'>crs_transform: [10, 0, 699960, 0, -10, 7500040]<input type='checkbox' class='ee-toggle'></label><ul><li><span class='ee-k'>0:</span><span class='ee-v'>10</span></li><li><span class='ee-k'>1:</span><span class='ee-v'>0</span></li><li><span class='ee-k'>2:</span><span class='ee-v'>699960</span></li><li><span class='ee-k'>3:</span><span class='ee-v'>0</span></li><li><span class='ee-k'>4:</span><span class='ee-v'>-10</span></li><li><span class='ee-k'>5:</span><span class='ee-v'>7500040</span></li></ul></li><li><label class='ee-shut'>data_type: unsigned int8<input type='checkbox' class='ee-toggle'></label><ul><li><span class='ee-k'>type:</span><span class='ee-v'>PixelType</span></li><li><span class='ee-k'>max:</span><span class='ee-v'>255</span></li><li><span class='ee-k'>min:</span><span class='ee-v'>0</span></li><li><span class='ee-k'>precision:</span><span class='ee-v'>int</span></li></ul></li><li><label class='ee-shut'>dimensions: [10980, 10980]<input type='checkbox' class='ee-toggle'></label><ul><li><span class='ee-k'>0:</span><span class='ee-v'>10980</span></li><li><span class='ee-k'>1:</span><span class='ee-v'>10980</span></li></ul></li></ul></li><li><label class='ee-shut'>16: \"TCI_G\", unsigned int8, EPSG:32723, 10980x10980 px<input type='checkbox' class='ee-toggle'></label><ul><li><span class='ee-k'>id:</span><span class='ee-v'>TCI_G</span></li><li><span class='ee-k'>crs:</span><span class='ee-v'>EPSG:32723</span></li><li><label class='ee-shut'>crs_transform: [10, 0, 699960, 0, -10, 7500040]<input type='checkbox' class='ee-toggle'></label><ul><li><span class='ee-k'>0:</span><span class='ee-v'>10</span></li><li><span class='ee-k'>1:</span><span class='ee-v'>0</span></li><li><span class='ee-k'>2:</span><span class='ee-v'>699960</span></li><li><span class='ee-k'>3:</span><span class='ee-v'>0</span></li><li><span class='ee-k'>4:</span><span class='ee-v'>-10</span></li><li><span class='ee-k'>5:</span><span class='ee-v'>7500040</span></li></ul></li><li><label class='ee-shut'>data_type: unsigned int8<input type='checkbox' class='ee-toggle'></label><ul><li><span class='ee-k'>type:</span><span class='ee-v'>PixelType</span></li><li><span class='ee-k'>max:</span><span class='ee-v'>255</span></li><li><span class='ee-k'>min:</span><span class='ee-v'>0</span></li><li><span class='ee-k'>precision:</span><span class='ee-v'>int</span></li></ul></li><li><label class='ee-shut'>dimensions: [10980, 10980]<input type='checkbox' class='ee-toggle'></label><ul><li><span class='ee-k'>0:</span><span class='ee-v'>10980</span></li><li><span class='ee-k'>1:</span><span class='ee-v'>10980</span></li></ul></li></ul></li><li><label class='ee-shut'>17: \"TCI_B\", unsigned int8, EPSG:32723, 10980x10980 px<input type='checkbox' class='ee-toggle'></label><ul><li><span class='ee-k'>id:</span><span class='ee-v'>TCI_B</span></li><li><span class='ee-k'>crs:</span><span class='ee-v'>EPSG:32723</span></li><li><label class='ee-shut'>crs_transform: [10, 0, 699960, 0, -10, 7500040]<input type='checkbox' class='ee-toggle'></label><ul><li><span class='ee-k'>0:</span><span class='ee-v'>10</span></li><li><span class='ee-k'>1:</span><span class='ee-v'>0</span></li><li><span class='ee-k'>2:</span><span class='ee-v'>699960</span></li><li><span class='ee-k'>3:</span><span class='ee-v'>0</span></li><li><span class='ee-k'>4:</span><span class='ee-v'>-10</span></li><li><span class='ee-k'>5:</span><span class='ee-v'>7500040</span></li></ul></li><li><label class='ee-shut'>data_type: unsigned int8<input type='checkbox' class='ee-toggle'></label><ul><li><span class='ee-k'>type:</span><span class='ee-v'>PixelType</span></li><li><span class='ee-k'>max:</span><span class='ee-v'>255</span></li><li><span class='ee-k'>min:</span><span class='ee-v'>0</span></li><li><span class='ee-k'>precision:</span><span class='ee-v'>int</span></li></ul></li><li><label class='ee-shut'>dimensions: [10980, 10980]<input type='checkbox' class='ee-toggle'></label><ul><li><span class='ee-k'>0:</span><span class='ee-v'>10980</span></li><li><span class='ee-k'>1:</span><span class='ee-v'>10980</span></li></ul></li></ul></li><li><label class='ee-shut'>18: \"MSK_CLDPRB\", unsigned int8, EPSG:32723, 5490x5490 px<input type='checkbox' class='ee-toggle'></label><ul><li><span class='ee-k'>id:</span><span class='ee-v'>MSK_CLDPRB</span></li><li><span class='ee-k'>crs:</span><span class='ee-v'>EPSG:32723</span></li><li><label class='ee-shut'>crs_transform: [20, 0, 699960, 0, -20, 7500040]<input type='checkbox' class='ee-toggle'></label><ul><li><span class='ee-k'>0:</span><span class='ee-v'>20</span></li><li><span class='ee-k'>1:</span><span class='ee-v'>0</span></li><li><span class='ee-k'>2:</span><span class='ee-v'>699960</span></li><li><span class='ee-k'>3:</span><span class='ee-v'>0</span></li><li><span class='ee-k'>4:</span><span class='ee-v'>-20</span></li><li><span class='ee-k'>5:</span><span class='ee-v'>7500040</span></li></ul></li><li><label class='ee-shut'>data_type: unsigned int8<input type='checkbox' class='ee-toggle'></label><ul><li><span class='ee-k'>type:</span><span class='ee-v'>PixelType</span></li><li><span class='ee-k'>max:</span><span class='ee-v'>255</span></li><li><span class='ee-k'>min:</span><span class='ee-v'>0</span></li><li><span class='ee-k'>precision:</span><span class='ee-v'>int</span></li></ul></li><li><label class='ee-shut'>dimensions: [5490, 5490]<input type='checkbox' class='ee-toggle'></label><ul><li><span class='ee-k'>0:</span><span class='ee-v'>5490</span></li><li><span class='ee-k'>1:</span><span class='ee-v'>5490</span></li></ul></li></ul></li><li><label class='ee-shut'>19: \"MSK_SNWPRB\", unsigned int8, EPSG:32723, 5490x5490 px<input type='checkbox' class='ee-toggle'></label><ul><li><span class='ee-k'>id:</span><span class='ee-v'>MSK_SNWPRB</span></li><li><span class='ee-k'>crs:</span><span class='ee-v'>EPSG:32723</span></li><li><label class='ee-shut'>crs_transform: [20, 0, 699960, 0, -20, 7500040]<input type='checkbox' class='ee-toggle'></label><ul><li><span class='ee-k'>0:</span><span class='ee-v'>20</span></li><li><span class='ee-k'>1:</span><span class='ee-v'>0</span></li><li><span class='ee-k'>2:</span><span class='ee-v'>699960</span></li><li><span class='ee-k'>3:</span><span class='ee-v'>0</span></li><li><span class='ee-k'>4:</span><span class='ee-v'>-20</span></li><li><span class='ee-k'>5:</span><span class='ee-v'>7500040</span></li></ul></li><li><label class='ee-shut'>data_type: unsigned int8<input type='checkbox' class='ee-toggle'></label><ul><li><span class='ee-k'>type:</span><span class='ee-v'>PixelType</span></li><li><span class='ee-k'>max:</span><span class='ee-v'>255</span></li><li><span class='ee-k'>min:</span><span class='ee-v'>0</span></li><li><span class='ee-k'>precision:</span><span class='ee-v'>int</span></li></ul></li><li><label class='ee-shut'>dimensions: [5490, 5490]<input type='checkbox' class='ee-toggle'></label><ul><li><span class='ee-k'>0:</span><span class='ee-v'>5490</span></li><li><span class='ee-k'>1:</span><span class='ee-v'>5490</span></li></ul></li></ul></li><li><label class='ee-shut'>20: \"QA10\", unsigned int16, EPSG:32723, 10980x10980 px<input type='checkbox' class='ee-toggle'></label><ul><li><span class='ee-k'>id:</span><span class='ee-v'>QA10</span></li><li><span class='ee-k'>crs:</span><span class='ee-v'>EPSG:32723</span></li><li><label class='ee-shut'>crs_transform: [10, 0, 699960, 0, -10, 7500040]<input type='checkbox' class='ee-toggle'></label><ul><li><span class='ee-k'>0:</span><span class='ee-v'>10</span></li><li><span class='ee-k'>1:</span><span class='ee-v'>0</span></li><li><span class='ee-k'>2:</span><span class='ee-v'>699960</span></li><li><span class='ee-k'>3:</span><span class='ee-v'>0</span></li><li><span class='ee-k'>4:</span><span class='ee-v'>-10</span></li><li><span class='ee-k'>5:</span><span class='ee-v'>7500040</span></li></ul></li><li><label class='ee-shut'>data_type: unsigned int16<input type='checkbox' class='ee-toggle'></label><ul><li><span class='ee-k'>type:</span><span class='ee-v'>PixelType</span></li><li><span class='ee-k'>max:</span><span class='ee-v'>65535</span></li><li><span class='ee-k'>min:</span><span class='ee-v'>0</span></li><li><span class='ee-k'>precision:</span><span class='ee-v'>int</span></li></ul></li><li><label class='ee-shut'>dimensions: [10980, 10980]<input type='checkbox' class='ee-toggle'></label><ul><li><span class='ee-k'>0:</span><span class='ee-v'>10980</span></li><li><span class='ee-k'>1:</span><span class='ee-v'>10980</span></li></ul></li></ul></li><li><label class='ee-shut'>21: \"QA20\", unsigned int32, EPSG:32723, 5490x5490 px<input type='checkbox' class='ee-toggle'></label><ul><li><span class='ee-k'>id:</span><span class='ee-v'>QA20</span></li><li><span class='ee-k'>crs:</span><span class='ee-v'>EPSG:32723</span></li><li><label class='ee-shut'>crs_transform: [20, 0, 699960, 0, -20, 7500040]<input type='checkbox' class='ee-toggle'></label><ul><li><span class='ee-k'>0:</span><span class='ee-v'>20</span></li><li><span class='ee-k'>1:</span><span class='ee-v'>0</span></li><li><span class='ee-k'>2:</span><span class='ee-v'>699960</span></li><li><span class='ee-k'>3:</span><span class='ee-v'>0</span></li><li><span class='ee-k'>4:</span><span class='ee-v'>-20</span></li><li><span class='ee-k'>5:</span><span class='ee-v'>7500040</span></li></ul></li><li><label class='ee-shut'>data_type: unsigned int32<input type='checkbox' class='ee-toggle'></label><ul><li><span class='ee-k'>type:</span><span class='ee-v'>PixelType</span></li><li><span class='ee-k'>max:</span><span class='ee-v'>4294967295</span></li><li><span class='ee-k'>min:</span><span class='ee-v'>0</span></li><li><span class='ee-k'>precision:</span><span class='ee-v'>int</span></li></ul></li><li><label class='ee-shut'>dimensions: [5490, 5490]<input type='checkbox' class='ee-toggle'></label><ul><li><span class='ee-k'>0:</span><span class='ee-v'>5490</span></li><li><span class='ee-k'>1:</span><span class='ee-v'>5490</span></li></ul></li></ul></li><li><label class='ee-shut'>22: \"QA60\", unsigned int16, EPSG:32723, 1830x1830 px<input type='checkbox' class='ee-toggle'></label><ul><li><span class='ee-k'>id:</span><span class='ee-v'>QA60</span></li><li><span class='ee-k'>crs:</span><span class='ee-v'>EPSG:32723</span></li><li><label class='ee-shut'>crs_transform: [60, 0, 699960, 0, -60, 7500040]<input type='checkbox' class='ee-toggle'></label><ul><li><span class='ee-k'>0:</span><span class='ee-v'>60</span></li><li><span class='ee-k'>1:</span><span class='ee-v'>0</span></li><li><span class='ee-k'>2:</span><span class='ee-v'>699960</span></li><li><span class='ee-k'>3:</span><span class='ee-v'>0</span></li><li><span class='ee-k'>4:</span><span class='ee-v'>-60</span></li><li><span class='ee-k'>5:</span><span class='ee-v'>7500040</span></li></ul></li><li><label class='ee-shut'>data_type: unsigned int16<input type='checkbox' class='ee-toggle'></label><ul><li><span class='ee-k'>type:</span><span class='ee-v'>PixelType</span></li><li><span class='ee-k'>max:</span><span class='ee-v'>65535</span></li><li><span class='ee-k'>min:</span><span class='ee-v'>0</span></li><li><span class='ee-k'>precision:</span><span class='ee-v'>int</span></li></ul></li><li><label class='ee-shut'>dimensions: [1830, 1830]<input type='checkbox' class='ee-toggle'></label><ul><li><span class='ee-k'>0:</span><span class='ee-v'>1830</span></li><li><span class='ee-k'>1:</span><span class='ee-v'>1830</span></li></ul></li></ul></li></ul></li><li><label class='ee-shut'>properties: Object (101 properties)<input type='checkbox' class='ee-toggle'></label><ul><li><span class='ee-k'>AOT_RETRIEVAL_ACCURACY:</span><span class='ee-v'>0</span></li><li><span class='ee-k'>AOT_RETRIEVAL_METHOD:</span><span class='ee-v'>SEN2COR_DDV</span></li><li><span class='ee-k'>BOA_ADD_OFFSET_B1:</span><span class='ee-v'>-1000</span></li><li><span class='ee-k'>BOA_ADD_OFFSET_B10:</span><span class='ee-v'>-1000</span></li><li><span class='ee-k'>BOA_ADD_OFFSET_B11:</span><span class='ee-v'>-1000</span></li><li><span class='ee-k'>BOA_ADD_OFFSET_B12:</span><span class='ee-v'>-1000</span></li><li><span class='ee-k'>BOA_ADD_OFFSET_B2:</span><span class='ee-v'>-1000</span></li><li><span class='ee-k'>BOA_ADD_OFFSET_B3:</span><span class='ee-v'>-1000</span></li><li><span class='ee-k'>BOA_ADD_OFFSET_B4:</span><span class='ee-v'>-1000</span></li><li><span class='ee-k'>BOA_ADD_OFFSET_B5:</span><span class='ee-v'>-1000</span></li><li><span class='ee-k'>BOA_ADD_OFFSET_B6:</span><span class='ee-v'>-1000</span></li><li><span class='ee-k'>BOA_ADD_OFFSET_B7:</span><span class='ee-v'>-1000</span></li><li><span class='ee-k'>BOA_ADD_OFFSET_B8:</span><span class='ee-v'>-1000</span></li><li><span class='ee-k'>BOA_ADD_OFFSET_B8A:</span><span class='ee-v'>-1000</span></li><li><span class='ee-k'>BOA_ADD_OFFSET_B9:</span><span class='ee-v'>-1000</span></li><li><span class='ee-k'>CLOUDY_PIXEL_OVER_LAND_PERCENTAGE:</span><span class='ee-v'>0.02995</span></li><li><span class='ee-k'>CLOUDY_PIXEL_PERCENTAGE:</span><span class='ee-v'>0.020013</span></li><li><span class='ee-k'>CLOUD_COVERAGE_ASSESSMENT:</span><span class='ee-v'>0.020013</span></li><li><span class='ee-k'>CLOUD_SHADOW_PERCENTAGE:</span><span class='ee-v'>0.003275</span></li><li><span class='ee-k'>DARK_FEATURES_PERCENTAGE:</span><span class='ee-v'>0.010664</span></li><li><span class='ee-k'>DATASTRIP_ID:</span><span class='ee-v'>S2A_OPER_MSI_L2A_DS_2APS_20230727T191354_S20230727T130724_N05.09</span></li><li><span class='ee-k'>DATATAKE_IDENTIFIER:</span><span class='ee-v'>GS2A_20230727T130251_042277_N05.09</span></li><li><span class='ee-k'>DATATAKE_TYPE:</span><span class='ee-v'>INS-NOBS</span></li><li><span class='ee-k'>DEGRADED_MSI_DATA_PERCENTAGE:</span><span class='ee-v'>0.0218</span></li><li><span class='ee-k'>FORMAT_CORRECTNESS:</span><span class='ee-v'>PASSED</span></li><li><span class='ee-k'>GENERAL_QUALITY:</span><span class='ee-v'>PASSED</span></li><li><span class='ee-k'>GENERATION_TIME:</span><span class='ee-v'>1690485234000</span></li><li><span class='ee-k'>GEOMETRIC_QUALITY:</span><span class='ee-v'>PASSED</span></li><li><span class='ee-k'>GRANULE_ID:</span><span class='ee-v'>L2A_T23KQQ_A042277_20230727T130724</span></li><li><span class='ee-k'>GRANULE_MEAN_AOT:</span><span class='ee-v'>0.071825</span></li><li><span class='ee-k'>GRANULE_MEAN_WV:</span><span class='ee-v'>2.139771</span></li><li><span class='ee-k'>HIGH_PROBA_CLOUDS_PERCENTAGE:</span><span class='ee-v'>0.008361</span></li><li><span class='ee-k'>L2A_QUALITY:</span><span class='ee-v'>PASSED</span></li><li><span class='ee-k'>MEAN_INCIDENCE_AZIMUTH_ANGLE_B1:</span><span class='ee-v'>286.651195526828</span></li><li><span class='ee-k'>MEAN_INCIDENCE_AZIMUTH_ANGLE_B10:</span><span class='ee-v'>286.135438933452</span></li><li><span class='ee-k'>MEAN_INCIDENCE_AZIMUTH_ANGLE_B11:</span><span class='ee-v'>286.280341635588</span></li><li><span class='ee-k'>MEAN_INCIDENCE_AZIMUTH_ANGLE_B12:</span><span class='ee-v'>286.449472502995</span></li><li><span class='ee-k'>MEAN_INCIDENCE_AZIMUTH_ANGLE_B2:</span><span class='ee-v'>286.051646535695</span></li><li><span class='ee-k'>MEAN_INCIDENCE_AZIMUTH_ANGLE_B3:</span><span class='ee-v'>286.197506541835</span></li><li><span class='ee-k'>MEAN_INCIDENCE_AZIMUTH_ANGLE_B4:</span><span class='ee-v'>286.316595706458</span></li><li><span class='ee-k'>MEAN_INCIDENCE_AZIMUTH_ANGLE_B5:</span><span class='ee-v'>286.372714852377</span></li><li><span class='ee-k'>MEAN_INCIDENCE_AZIMUTH_ANGLE_B6:</span><span class='ee-v'>286.448317626005</span></li><li><span class='ee-k'>MEAN_INCIDENCE_AZIMUTH_ANGLE_B7:</span><span class='ee-v'>286.521850029036</span></li><li><span class='ee-k'>MEAN_INCIDENCE_AZIMUTH_ANGLE_B8:</span><span class='ee-v'>286.124900379178</span></li><li><span class='ee-k'>MEAN_INCIDENCE_AZIMUTH_ANGLE_B8A:</span><span class='ee-v'>286.633661688503</span></li><li><span class='ee-k'>MEAN_INCIDENCE_AZIMUTH_ANGLE_B9:</span><span class='ee-v'>286.738351862052</span></li><li><span class='ee-k'>MEAN_INCIDENCE_ZENITH_ANGLE_B1:</span><span class='ee-v'>6.62549308145863</span></li><li><span class='ee-k'>MEAN_INCIDENCE_ZENITH_ANGLE_B10:</span><span class='ee-v'>6.41754269290842</span></li><li><span class='ee-k'>MEAN_INCIDENCE_ZENITH_ANGLE_B11:</span><span class='ee-v'>6.47972423794187</span></li><li><span class='ee-k'>MEAN_INCIDENCE_ZENITH_ANGLE_B12:</span><span class='ee-v'>6.5765077886135</span></li><li><span class='ee-k'>MEAN_INCIDENCE_ZENITH_ANGLE_B2:</span><span class='ee-v'>6.33281381578697</span></li><li><span class='ee-k'>MEAN_INCIDENCE_ZENITH_ANGLE_B3:</span><span class='ee-v'>6.37225335651444</span></li><li><span class='ee-k'>MEAN_INCIDENCE_ZENITH_ANGLE_B4:</span><span class='ee-v'>6.42416172807235</span></li><li><span class='ee-k'>MEAN_INCIDENCE_ZENITH_ANGLE_B5:</span><span class='ee-v'>6.45598842266665</span></li><li><span class='ee-k'>MEAN_INCIDENCE_ZENITH_ANGLE_B6:</span><span class='ee-v'>6.49129216952146</span></li><li><span class='ee-k'>MEAN_INCIDENCE_ZENITH_ANGLE_B7:</span><span class='ee-v'>6.53271380192705</span></li><li><span class='ee-k'>MEAN_INCIDENCE_ZENITH_ANGLE_B8:</span><span class='ee-v'>6.35060730758872</span></li><li><span class='ee-k'>MEAN_INCIDENCE_ZENITH_ANGLE_B8A:</span><span class='ee-v'>6.5706256745241</span></li><li><span class='ee-k'>MEAN_INCIDENCE_ZENITH_ANGLE_B9:</span><span class='ee-v'>6.67718561783275</span></li><li><span class='ee-k'>MEAN_SOLAR_AZIMUTH_ANGLE:</span><span class='ee-v'>34.1303416677425</span></li><li><span class='ee-k'>MEAN_SOLAR_ZENITH_ANGLE:</span><span class='ee-v'>49.8121461019312</span></li><li><span class='ee-k'>MEDIUM_PROBA_CLOUDS_PERCENTAGE:</span><span class='ee-v'>0.004967</span></li><li><span class='ee-k'>MGRS_TILE:</span><span class='ee-v'>23KQQ</span></li><li><span class='ee-k'>NODATA_PIXEL_PERCENTAGE:</span><span class='ee-v'>0</span></li><li><span class='ee-k'>NOT_VEGETATED_PERCENTAGE:</span><span class='ee-v'>4.66247</span></li><li><span class='ee-k'>OZONE_SOURCE:</span><span class='ee-v'>AUX_ECMWFT</span></li><li><span class='ee-k'>OZONE_VALUE:</span><span class='ee-v'>261.110141</span></li><li><span class='ee-k'>PROCESSING_BASELINE:</span><span class='ee-v'>05.09</span></li><li><span class='ee-k'>PRODUCT_ID:</span><span class='ee-v'>S2A_MSIL2A_20230727T130251_N0509_R095_T23KQQ_20230727T191354</span></li><li><span class='ee-k'>RADIATIVE_TRANSFER_ACCURACY:</span><span class='ee-v'>0</span></li><li><span class='ee-k'>RADIOMETRIC_QUALITY:</span><span class='ee-v'>PASSED</span></li><li><span class='ee-k'>REFLECTANCE_CONVERSION_CORRECTION:</span><span class='ee-v'>0.968941839444895</span></li><li><span class='ee-k'>SATURATED_DEFECTIVE_PIXEL_PERCENTAGE:</span><span class='ee-v'>0</span></li><li><span class='ee-k'>SENSING_ORBIT_DIRECTION:</span><span class='ee-v'>DESCENDING</span></li><li><span class='ee-k'>SENSING_ORBIT_NUMBER:</span><span class='ee-v'>95</span></li><li><span class='ee-k'>SENSOR_QUALITY:</span><span class='ee-v'>PASSED</span></li><li><span class='ee-k'>SNOW_ICE_PERCENTAGE:</span><span class='ee-v'>0</span></li><li><span class='ee-k'>SOLAR_IRRADIANCE_B1:</span><span class='ee-v'>1884.69</span></li><li><span class='ee-k'>SOLAR_IRRADIANCE_B10:</span><span class='ee-v'>367.15</span></li><li><span class='ee-k'>SOLAR_IRRADIANCE_B11:</span><span class='ee-v'>245.59</span></li><li><span class='ee-k'>SOLAR_IRRADIANCE_B12:</span><span class='ee-v'>85.25</span></li><li><span class='ee-k'>SOLAR_IRRADIANCE_B2:</span><span class='ee-v'>1959.66</span></li><li><span class='ee-k'>SOLAR_IRRADIANCE_B3:</span><span class='ee-v'>1823.24</span></li><li><span class='ee-k'>SOLAR_IRRADIANCE_B4:</span><span class='ee-v'>1512.06</span></li><li><span class='ee-k'>SOLAR_IRRADIANCE_B5:</span><span class='ee-v'>1424.64</span></li><li><span class='ee-k'>SOLAR_IRRADIANCE_B6:</span><span class='ee-v'>1287.61</span></li><li><span class='ee-k'>SOLAR_IRRADIANCE_B7:</span><span class='ee-v'>1162.08</span></li><li><span class='ee-k'>SOLAR_IRRADIANCE_B8:</span><span class='ee-v'>1041.63</span></li><li><span class='ee-k'>SOLAR_IRRADIANCE_B8A:</span><span class='ee-v'>955.32</span></li><li><span class='ee-k'>SOLAR_IRRADIANCE_B9:</span><span class='ee-v'>812.92</span></li><li><span class='ee-k'>SPACECRAFT_NAME:</span><span class='ee-v'>Sentinel-2A</span></li><li><span class='ee-k'>THIN_CIRRUS_PERCENTAGE:</span><span class='ee-v'>0.006685</span></li><li><span class='ee-k'>UNCLASSIFIED_PERCENTAGE:</span><span class='ee-v'>0.001924</span></li><li><span class='ee-k'>VEGETATION_PERCENTAGE:</span><span class='ee-v'>28.650963</span></li><li><span class='ee-k'>WATER_PERCENTAGE:</span><span class='ee-v'>66.650689</span></li><li><span class='ee-k'>WATER_VAPOUR_RETRIEVAL_ACCURACY:</span><span class='ee-v'>0</span></li><li><span class='ee-k'>system:asset_size:</span><span class='ee-v'>1242859968</span></li><li><label class='ee-shut'>system:footprint: LinearRing (21 vertices)<input type='checkbox' class='ee-toggle'></label><ul><li><span class='ee-k'>type:</span><span class='ee-v'>LinearRing</span></li><li><label class='ee-shut'>coordinates: List (21 elements)<input type='checkbox' class='ee-toggle'></label><ul><li><label class='ee-shut'>0: [-43.040544667150975, -23.585900558635995]<input type='checkbox' class='ee-toggle'></label><ul><li><span class='ee-k'>0:</span><span class='ee-v'>-43.040544667150975</span></li><li><span class='ee-k'>1:</span><span class='ee-v'>-23.585900558635995</span></li></ul></li><li><label class='ee-shut'>1: [-43.04052851323293, -23.58590317118441]<input type='checkbox' class='ee-toggle'></label><ul><li><span class='ee-k'>0:</span><span class='ee-v'>-43.04052851323293</span></li><li><span class='ee-k'>1:</span><span class='ee-v'>-23.58590317118441</span></li></ul></li><li><label class='ee-shut'>2: [-41.96571062023843, -23.568623437015663]<input type='checkbox' class='ee-toggle'></label><ul><li><span class='ee-k'>0:</span><span class='ee-v'>-41.96571062023843</span></li><li><span class='ee-k'>1:</span><span class='ee-v'>-23.568623437015663</span></li></ul></li><li><label class='ee-shut'>3: [-41.965666294574305, -23.568585991455812]<input type='checkbox' class='ee-toggle'></label><ul><li><span class='ee-k'>0:</span><span class='ee-v'>-41.965666294574305</span></li><li><span class='ee-k'>1:</span><span class='ee-v'>-23.568585991455812</span></li></ul></li><li><label class='ee-shut'>4: [-41.96561712783929, -23.568553907098497]<input type='checkbox' class='ee-toggle'></label><ul><li><span class='ee-k'>0:</span><span class='ee-v'>-41.96561712783929</span></li><li><span class='ee-k'>1:</span><span class='ee-v'>-23.568553907098497</span></li></ul></li><li><label class='ee-shut'>5: [-41.96561440475726, -23.568539077327923]<input type='checkbox' class='ee-toggle'></label><ul><li><span class='ee-k'>0:</span><span class='ee-v'>-41.96561440475726</span></li><li><span class='ee-k'>1:</span><span class='ee-v'>-23.568539077327923</span></li></ul></li><li><label class='ee-shut'>6: [-41.97126828503652, -23.320971167718316]<input type='checkbox' class='ee-toggle'></label><ul><li><span class='ee-k'>0:</span><span class='ee-v'>-41.97126828503652</span></li><li><span class='ee-k'>1:</span><span class='ee-v'>-23.320971167718316</span></li></ul></li><li><label class='ee-shut'>7: [-41.97684496258889, -23.07340172212437]<input type='checkbox' class='ee-toggle'></label><ul><li><span class='ee-k'>0:</span><span class='ee-v'>-41.97684496258889</span></li><li><span class='ee-k'>1:</span><span class='ee-v'>-23.07340172212437</span></li></ul></li><li><label class='ee-shut'>8: [-41.982345217366735, -22.825823294027018]<input type='checkbox' class='ee-toggle'></label><ul><li><span class='ee-k'>0:</span><span class='ee-v'>-41.982345217366735</span></li><li><span class='ee-k'>1:</span><span class='ee-v'>-22.825823294027018</span></li></ul></li><li><label class='ee-shut'>9: [-41.987769526254525, -22.578235903963986]<input type='checkbox' class='ee-toggle'></label><ul><li><span class='ee-k'>0:</span><span class='ee-v'>-41.987769526254525</span></li><li><span class='ee-k'>1:</span><span class='ee-v'>-22.578235903963986</span></li></ul></li><li><label class='ee-shut'>10: [-41.98781005320357, -22.57819515494681]<input type='checkbox' class='ee-toggle'></label><ul><li><span class='ee-k'>0:</span><span class='ee-v'>-41.98781005320357</span></li><li><span class='ee-k'>1:</span><span class='ee-v'>-22.57819515494681</span></li></ul></li><li><label class='ee-shut'>11: [-41.98784475815988, -22.578150065407158]<input type='checkbox' class='ee-toggle'></label><ul><li><span class='ee-k'>0:</span><span class='ee-v'>-41.98784475815988</span></li><li><span class='ee-k'>1:</span><span class='ee-v'>-22.578150065407158</span></li></ul></li><li><label class='ee-shut'>12: [-41.98786078745676, -22.578147607265183]<input type='checkbox' class='ee-toggle'></label><ul><li><span class='ee-k'>0:</span><span class='ee-v'>-41.98786078745676</span></li><li><span class='ee-k'>1:</span><span class='ee-v'>-22.578147607265183</span></li></ul></li><li><label class='ee-shut'>13: [-43.05484509125062, -22.594621169220748]<input type='checkbox' class='ee-toggle'></label><ul><li><span class='ee-k'>0:</span><span class='ee-v'>-43.05484509125062</span></li><li><span class='ee-k'>1:</span><span class='ee-v'>-22.594621169220748</span></li></ul></li><li><label class='ee-shut'>14: [-43.054889464938014, -22.594658316185022]<input type='checkbox' class='ee-toggle'></label><ul><li><span class='ee-k'>0:</span><span class='ee-v'>-43.054889464938014</span></li><li><span class='ee-k'>1:</span><span class='ee-v'>-22.594658316185022</span></li></ul></li><li><label class='ee-shut'>15: [-43.05493850559577, -22.594689978153166]<input type='checkbox' class='ee-toggle'></label><ul><li><span class='ee-k'>0:</span><span class='ee-v'>-43.05493850559577</span></li><li><span class='ee-k'>1:</span><span class='ee-v'>-22.594689978153166</span></li></ul></li><li><label class='ee-shut'>16: [-43.054941394696485, -22.594704773496755]<input type='checkbox' class='ee-toggle'></label><ul><li><span class='ee-k'>0:</span><span class='ee-v'>-43.054941394696485</span></li><li><span class='ee-k'>1:</span><span class='ee-v'>-22.594704773496755</span></li></ul></li><li><label class='ee-shut'>17: [-43.04787942254652, -23.090279936939496]<input type='checkbox' class='ee-toggle'></label><ul><li><span class='ee-k'>0:</span><span class='ee-v'>-43.04787942254652</span></li><li><span class='ee-k'>1:</span><span class='ee-v'>-23.090279936939496</span></li></ul></li><li><label class='ee-shut'>18: [-43.04061980503248, -23.585814329474875]<input type='checkbox' class='ee-toggle'></label><ul><li><span class='ee-k'>0:</span><span class='ee-v'>-43.04061980503248</span></li><li><span class='ee-k'>1:</span><span class='ee-v'>-23.585814329474875</span></li></ul></li><li><label class='ee-shut'>19: [-43.04057927208655, -23.58585528446602]<input type='checkbox' class='ee-toggle'></label><ul><li><span class='ee-k'>0:</span><span class='ee-v'>-43.04057927208655</span></li><li><span class='ee-k'>1:</span><span class='ee-v'>-23.58585528446602</span></li></ul></li><li><label class='ee-shut'>20: [-43.040544667150975, -23.585900558635995]<input type='checkbox' class='ee-toggle'></label><ul><li><span class='ee-k'>0:</span><span class='ee-v'>-43.040544667150975</span></li><li><span class='ee-k'>1:</span><span class='ee-v'>-23.585900558635995</span></li></ul></li></ul></li></ul></li><li><span class='ee-k'>system:index:</span><span class='ee-v'>20230727T130251_20230727T130724_T23KQQ</span></li><li><span class='ee-k'>system:time_end:</span><span class='ee-v'>1690463318003</span></li><li><span class='ee-k'>system:time_start:</span><span class='ee-v'>1690463318003</span></li></ul></li></ul></li></ul></div><script>function toggleHeader() {\n",
              "    const parent = this.parentElement;\n",
              "    parent.className = parent.className === \"ee-open\" ? \"ee-shut\" : \"ee-open\";\n",
              "}\n",
              "\n",
              "for (let c of document.getElementsByClassName(\"ee-toggle\")) {\n",
              "    c.onclick = toggleHeader;\n",
              "}</script></div>"
            ]
          },
          "metadata": {},
          "execution_count": 30
        }
      ]
    },
    {
      "cell_type": "code",
      "source": [
        "Map.centerObject(region,10)\n",
        "Map.add_ee_layer(Sentinel, {'bands': ['B4', 'B3', 'B2'], 'min': 1019, 'max': 3337}, 'Sentinel 2')\n",
        "Map.add_ee_layer(contorno, {'palette':'yellow'}, 'Roi')\n",
        "\n",
        "Map"
      ],
      "metadata": {
        "colab": {
          "base_uri": "https://localhost:8080/",
          "height": 621,
          "referenced_widgets": [
            "a538415907b74f09920914e783c2310e",
            "a30bb2f88c4345a2b7bdde3a4f9e213c",
            "25332cb905324b1fa7768be2dd6a7b56",
            "86eeada1106243358b494209f5f06182",
            "e9c528f5d2ed496cb0ef848d39811bb9",
            "b7d8198e7d6d477393777f63ee23f46c",
            "b1e93951e7394db8a8073fb21365edaa",
            "e76cc31202364a44a5a741ebed111707",
            "c19783d569514bc09f2e78737cb87421",
            "4aefd041c9cc4e0987387aa4512bcc57",
            "38b5f3cba4ff462d8dfb155c8b309ff7",
            "aca7fa58f63a462a867b5f1d1515fe10",
            "eb95f0781bc142619d63483c2beba962",
            "a802189991da4c88b91fec3c6bed8cb3",
            "66d3ca8920de47a69cc2bba2f0704458",
            "00699c73133d4279815c6f1312ae397d",
            "2e4e33b597394fe683141494b1cc8ef2",
            "e25bc150e20e490eb109ce04ba8af04e",
            "77b275dd08a34f719d51133520b69b4d",
            "972b8beff4754b8f9f8e232ead0088e7",
            "a2f7791416a84ffe8f2786f89fe60a80",
            "77a947df8b004eec8259e979540eb0e1",
            "b4e3d207057d4233a01a7c2d14973d06",
            "e118cbd7b33548149ee44ecb8d9f7054",
            "c981b988e76c47d89a9ac2906803efd6",
            "4ca69cccea844bb380cfba8c9199b317",
            "9ee289178dae4c2a8662cf59e1c1aac6"
          ]
        },
        "id": "PZYRlQzccKKl",
        "outputId": "70fede0d-d927-426d-8257-5cd6fb7ead5f"
      },
      "execution_count": 31,
      "outputs": [
        {
          "output_type": "display_data",
          "data": {
            "text/plain": [
              "<IPython.core.display.HTML object>"
            ],
            "text/html": [
              "\n",
              "            <style>\n",
              "                .geemap-dark {\n",
              "                    --jp-widgets-color: white;\n",
              "                    --jp-widgets-label-color: white;\n",
              "                    --jp-ui-font-color1: white;\n",
              "                    --jp-layout-color2: #454545;\n",
              "                    background-color: #383838;\n",
              "                }\n",
              "\n",
              "                .geemap-dark .jupyter-button {\n",
              "                    --jp-layout-color3: #383838;\n",
              "                }\n",
              "\n",
              "                .geemap-colab {\n",
              "                    background-color: var(--colab-primary-surface-color, white);\n",
              "                }\n",
              "\n",
              "                .geemap-colab .jupyter-button {\n",
              "                    --jp-layout-color3: var(--colab-primary-surface-color, white);\n",
              "                }\n",
              "            </style>\n",
              "            "
            ]
          },
          "metadata": {}
        },
        {
          "output_type": "display_data",
          "data": {
            "text/plain": [
              "Map(bottom=592307.0, center=[-22.755302204539007, -42.29285576570886], controls=(WidgetControl(options=['posit…"
            ],
            "application/vnd.jupyter.widget-view+json": {
              "version_major": 2,
              "version_minor": 0,
              "model_id": "a538415907b74f09920914e783c2310e"
            }
          },
          "metadata": {
            "application/vnd.jupyter.widget-view+json": {
              "colab": {
                "custom_widget_manager": {
                  "url": "https://ssl.gstatic.com/colaboratory-static/widgets/colab-cdn-widget-manager/2b70e893a8ba7c0f/manager.min.js"
                }
              }
            }
          }
        }
      ]
    }
  ]
}